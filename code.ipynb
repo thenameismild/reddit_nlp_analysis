{
 "cells": [
  {
   "cell_type": "markdown",
   "metadata": {},
   "source": [
    "# Project 3 - Web APIs & Classification"
   ]
  },
  {
   "cell_type": "markdown",
   "metadata": {},
   "source": [
    "### Problem Statement\n",
    "\n",
    "Reddit is a collection of online discussion boards known as \"subreddits\", which cover a variety of topics. The goal of this project is to classify which subreddit a given post came from. \n",
    "\n",
    "In this project I will be classifying posts from two subreddits, /r/himym and /r/bigbangtheory. These two subreddits were picked becuase of their similarity in topics and the content in them.\n",
    "\n",
    "Due to the popularity of both shows, there are many people who already watched the shows, but also some who have no idea what the shows are about. Through this project I hope to identify keywords to help new viewers identify what keywords to search for more information about the show or to classify which post or information belongs to which shows."
   ]
  },
  {
   "cell_type": "markdown",
   "metadata": {},
   "source": [
    "##### Key Terms\n",
    "\n",
    "- The Big Bang Theory will be refer as BBT or The Big Bang Theory interchangably.\n",
    "- How I Met Your Mother will be refer as HIMYM or How I Met Your Mother interchangably."
   ]
  },
  {
   "cell_type": "markdown",
   "metadata": {},
   "source": [
    "---\n",
    "\n",
    "# Data Cleaning"
   ]
  },
  {
   "cell_type": "markdown",
   "metadata": {},
   "source": [
    "I this section, through cleaning and exploring the data I removed duplicate posts resulting in HIMYM having a total of 869 posts and The Big Bang Theory to have 1012 posts. Then I decided to used the subreddit, post name, post title and post self text for this project as it most relate to our tropic of predicting which posts belong to which subreddit. "
   ]
  },
  {
   "cell_type": "code",
   "execution_count": 171,
   "metadata": {},
   "outputs": [],
   "source": [
    "import nltk\n",
    "#nltk.download('stopwords')\n",
    "#nltk.download('wordnet')"
   ]
  },
  {
   "cell_type": "code",
   "execution_count": 172,
   "metadata": {},
   "outputs": [],
   "source": [
    "import pandas as pd\n",
    "import numpy as np\n",
    "import matplotlib.pyplot as plt\n",
    "import seaborn as sns\n",
    "from matplotlib_venn import venn2, venn2_circles\n",
    "\n",
    "from tqdm import tqdm \n",
    "\n",
    "import requests\n",
    "import time\n",
    "from bs4 import BeautifulSoup\n",
    "\n",
    "from nltk.stem import WordNetLemmatizer\n",
    "from nltk.tokenize import RegexpTokenizer\n",
    "from nltk.stem.porter import PorterStemmer\n",
    "from nltk.corpus import stopwords\n",
    "\n",
    "import regex as re"
   ]
  },
  {
   "cell_type": "code",
   "execution_count": 173,
   "metadata": {},
   "outputs": [],
   "source": [
    "himym = pd.read_csv('himym.csv')\n",
    "himym1 = pd.read_csv('himym_test.csv')\n",
    "\n",
    "bigbang = pd.read_csv('bigbang.csv')\n",
    "bigbang1 = pd.read_csv('bigbang_test.csv')"
   ]
  },
  {
   "cell_type": "markdown",
   "metadata": {},
   "source": [
    "I decided to pulled each data twice to maximized the number of posts I have to model and used. The data from the same shows will be joined and cleaned."
   ]
  },
  {
   "cell_type": "code",
   "execution_count": 174,
   "metadata": {},
   "outputs": [
    {
     "data": {
      "text/html": [
       "<div>\n",
       "<style scoped>\n",
       "    .dataframe tbody tr th:only-of-type {\n",
       "        vertical-align: middle;\n",
       "    }\n",
       "\n",
       "    .dataframe tbody tr th {\n",
       "        vertical-align: top;\n",
       "    }\n",
       "\n",
       "    .dataframe thead th {\n",
       "        text-align: right;\n",
       "    }\n",
       "</style>\n",
       "<table border=\"1\" class=\"dataframe\">\n",
       "  <thead>\n",
       "    <tr style=\"text-align: right;\">\n",
       "      <th></th>\n",
       "      <th>Unnamed: 0</th>\n",
       "      <th>approved_at_utc</th>\n",
       "      <th>subreddit</th>\n",
       "      <th>selftext</th>\n",
       "      <th>author_fullname</th>\n",
       "      <th>saved</th>\n",
       "      <th>mod_reason_title</th>\n",
       "      <th>gilded</th>\n",
       "      <th>clicked</th>\n",
       "      <th>title</th>\n",
       "      <th>...</th>\n",
       "      <th>num_crossposts</th>\n",
       "      <th>media</th>\n",
       "      <th>is_video</th>\n",
       "      <th>is_gallery</th>\n",
       "      <th>media_metadata</th>\n",
       "      <th>gallery_data</th>\n",
       "      <th>crosspost_parent_list</th>\n",
       "      <th>crosspost_parent</th>\n",
       "      <th>poll_data</th>\n",
       "      <th>author_cakeday</th>\n",
       "    </tr>\n",
       "  </thead>\n",
       "  <tbody>\n",
       "    <tr>\n",
       "      <th>0</th>\n",
       "      <td>0</td>\n",
       "      <td>NaN</td>\n",
       "      <td>HIMYM</td>\n",
       "      <td>NaN</td>\n",
       "      <td>t2_f6huuo</td>\n",
       "      <td>False</td>\n",
       "      <td>NaN</td>\n",
       "      <td>0</td>\n",
       "      <td>False</td>\n",
       "      <td>This submission on a BuzzFeed article called “...</td>\n",
       "      <td>...</td>\n",
       "      <td>0</td>\n",
       "      <td>NaN</td>\n",
       "      <td>False</td>\n",
       "      <td>NaN</td>\n",
       "      <td>NaN</td>\n",
       "      <td>NaN</td>\n",
       "      <td>NaN</td>\n",
       "      <td>NaN</td>\n",
       "      <td>NaN</td>\n",
       "      <td>NaN</td>\n",
       "    </tr>\n",
       "    <tr>\n",
       "      <th>1</th>\n",
       "      <td>1</td>\n",
       "      <td>NaN</td>\n",
       "      <td>HIMYM</td>\n",
       "      <td>NaN</td>\n",
       "      <td>t2_93w6hlvh</td>\n",
       "      <td>False</td>\n",
       "      <td>NaN</td>\n",
       "      <td>0</td>\n",
       "      <td>False</td>\n",
       "      <td>Meme</td>\n",
       "      <td>...</td>\n",
       "      <td>0</td>\n",
       "      <td>NaN</td>\n",
       "      <td>False</td>\n",
       "      <td>NaN</td>\n",
       "      <td>NaN</td>\n",
       "      <td>NaN</td>\n",
       "      <td>NaN</td>\n",
       "      <td>NaN</td>\n",
       "      <td>NaN</td>\n",
       "      <td>NaN</td>\n",
       "    </tr>\n",
       "    <tr>\n",
       "      <th>2</th>\n",
       "      <td>2</td>\n",
       "      <td>NaN</td>\n",
       "      <td>HIMYM</td>\n",
       "      <td>NaN</td>\n",
       "      <td>t2_a2mby5ze</td>\n",
       "      <td>False</td>\n",
       "      <td>NaN</td>\n",
       "      <td>0</td>\n",
       "      <td>False</td>\n",
       "      <td>I love this scene a lot, so I decided to draw ...</td>\n",
       "      <td>...</td>\n",
       "      <td>0</td>\n",
       "      <td>NaN</td>\n",
       "      <td>False</td>\n",
       "      <td>NaN</td>\n",
       "      <td>NaN</td>\n",
       "      <td>NaN</td>\n",
       "      <td>NaN</td>\n",
       "      <td>NaN</td>\n",
       "      <td>NaN</td>\n",
       "      <td>NaN</td>\n",
       "    </tr>\n",
       "    <tr>\n",
       "      <th>3</th>\n",
       "      <td>3</td>\n",
       "      <td>NaN</td>\n",
       "      <td>HIMYM</td>\n",
       "      <td>NaN</td>\n",
       "      <td>t2_63lq8zxw</td>\n",
       "      <td>False</td>\n",
       "      <td>NaN</td>\n",
       "      <td>0</td>\n",
       "      <td>False</td>\n",
       "      <td>Unexpected reference</td>\n",
       "      <td>...</td>\n",
       "      <td>0</td>\n",
       "      <td>NaN</td>\n",
       "      <td>False</td>\n",
       "      <td>NaN</td>\n",
       "      <td>NaN</td>\n",
       "      <td>NaN</td>\n",
       "      <td>NaN</td>\n",
       "      <td>NaN</td>\n",
       "      <td>NaN</td>\n",
       "      <td>NaN</td>\n",
       "    </tr>\n",
       "    <tr>\n",
       "      <th>4</th>\n",
       "      <td>4</td>\n",
       "      <td>NaN</td>\n",
       "      <td>HIMYM</td>\n",
       "      <td>NaN</td>\n",
       "      <td>t2_11oa4w</td>\n",
       "      <td>False</td>\n",
       "      <td>NaN</td>\n",
       "      <td>0</td>\n",
       "      <td>False</td>\n",
       "      <td>I don't think so pal...</td>\n",
       "      <td>...</td>\n",
       "      <td>0</td>\n",
       "      <td>NaN</td>\n",
       "      <td>False</td>\n",
       "      <td>NaN</td>\n",
       "      <td>NaN</td>\n",
       "      <td>NaN</td>\n",
       "      <td>NaN</td>\n",
       "      <td>NaN</td>\n",
       "      <td>NaN</td>\n",
       "      <td>NaN</td>\n",
       "    </tr>\n",
       "  </tbody>\n",
       "</table>\n",
       "<p>5 rows × 115 columns</p>\n",
       "</div>"
      ],
      "text/plain": [
       "   Unnamed: 0  approved_at_utc subreddit selftext author_fullname  saved  \\\n",
       "0           0              NaN     HIMYM      NaN       t2_f6huuo  False   \n",
       "1           1              NaN     HIMYM      NaN     t2_93w6hlvh  False   \n",
       "2           2              NaN     HIMYM      NaN     t2_a2mby5ze  False   \n",
       "3           3              NaN     HIMYM      NaN     t2_63lq8zxw  False   \n",
       "4           4              NaN     HIMYM      NaN       t2_11oa4w  False   \n",
       "\n",
       "   mod_reason_title  gilded  clicked  \\\n",
       "0               NaN       0    False   \n",
       "1               NaN       0    False   \n",
       "2               NaN       0    False   \n",
       "3               NaN       0    False   \n",
       "4               NaN       0    False   \n",
       "\n",
       "                                               title  ... num_crossposts  \\\n",
       "0  This submission on a BuzzFeed article called “...  ...              0   \n",
       "1                                               Meme  ...              0   \n",
       "2  I love this scene a lot, so I decided to draw ...  ...              0   \n",
       "3                               Unexpected reference  ...              0   \n",
       "4                            I don't think so pal...  ...              0   \n",
       "\n",
       "  media  is_video  is_gallery  media_metadata  gallery_data  \\\n",
       "0   NaN     False         NaN             NaN           NaN   \n",
       "1   NaN     False         NaN             NaN           NaN   \n",
       "2   NaN     False         NaN             NaN           NaN   \n",
       "3   NaN     False         NaN             NaN           NaN   \n",
       "4   NaN     False         NaN             NaN           NaN   \n",
       "\n",
       "   crosspost_parent_list  crosspost_parent  poll_data author_cakeday  \n",
       "0                    NaN               NaN        NaN            NaN  \n",
       "1                    NaN               NaN        NaN            NaN  \n",
       "2                    NaN               NaN        NaN            NaN  \n",
       "3                    NaN               NaN        NaN            NaN  \n",
       "4                    NaN               NaN        NaN            NaN  \n",
       "\n",
       "[5 rows x 115 columns]"
      ]
     },
     "execution_count": 174,
     "metadata": {},
     "output_type": "execute_result"
    }
   ],
   "source": [
    "himym.head()"
   ]
  },
  {
   "cell_type": "code",
   "execution_count": 175,
   "metadata": {
    "scrolled": true
   },
   "outputs": [
    {
     "name": "stdout",
     "output_type": "stream",
     "text": [
      "<class 'pandas.core.frame.DataFrame'>\n",
      "RangeIndex: 998 entries, 0 to 997\n",
      "Columns: 115 entries, Unnamed: 0 to author_cakeday\n",
      "dtypes: bool(26), float64(31), int64(9), object(49)\n",
      "memory usage: 719.4+ KB\n"
     ]
    }
   ],
   "source": [
    "himym.info()"
   ]
  },
  {
   "cell_type": "code",
   "execution_count": 176,
   "metadata": {},
   "outputs": [
    {
     "data": {
      "text/plain": [
       "(998, 114)"
      ]
     },
     "execution_count": 176,
     "metadata": {},
     "output_type": "execute_result"
    }
   ],
   "source": [
    "himym = himym.drop(['Unnamed: 0'],axis=1)\n",
    "himym.shape"
   ]
  },
  {
   "cell_type": "code",
   "execution_count": 177,
   "metadata": {
    "scrolled": true
   },
   "outputs": [
    {
     "data": {
      "text/plain": [
       "Index(['approved_at_utc', 'subreddit', 'selftext', 'author_fullname', 'saved',\n",
       "       'mod_reason_title', 'gilded', 'clicked', 'title', 'link_flair_richtext',\n",
       "       ...\n",
       "       'num_crossposts', 'media', 'is_video', 'is_gallery', 'media_metadata',\n",
       "       'gallery_data', 'crosspost_parent_list', 'crosspost_parent',\n",
       "       'poll_data', 'author_cakeday'],\n",
       "      dtype='object', length=114)"
      ]
     },
     "execution_count": 177,
     "metadata": {},
     "output_type": "execute_result"
    }
   ],
   "source": [
    "himym.columns"
   ]
  },
  {
   "cell_type": "code",
   "execution_count": 178,
   "metadata": {
    "scrolled": true
   },
   "outputs": [
    {
     "data": {
      "text/plain": [
       "848"
      ]
     },
     "execution_count": 178,
     "metadata": {},
     "output_type": "execute_result"
    }
   ],
   "source": [
    "himym['name'].nunique()"
   ]
  },
  {
   "cell_type": "code",
   "execution_count": 179,
   "metadata": {},
   "outputs": [
    {
     "data": {
      "text/plain": [
       "(848, 114)"
      ]
     },
     "execution_count": 179,
     "metadata": {},
     "output_type": "execute_result"
    }
   ],
   "source": [
    "himym.drop_duplicates(subset ='name', inplace = True) \n",
    "himym.shape"
   ]
  },
  {
   "cell_type": "code",
   "execution_count": 180,
   "metadata": {
    "scrolled": true
   },
   "outputs": [
    {
     "data": {
      "text/html": [
       "<div>\n",
       "<style scoped>\n",
       "    .dataframe tbody tr th:only-of-type {\n",
       "        vertical-align: middle;\n",
       "    }\n",
       "\n",
       "    .dataframe tbody tr th {\n",
       "        vertical-align: top;\n",
       "    }\n",
       "\n",
       "    .dataframe thead th {\n",
       "        text-align: right;\n",
       "    }\n",
       "</style>\n",
       "<table border=\"1\" class=\"dataframe\">\n",
       "  <thead>\n",
       "    <tr style=\"text-align: right;\">\n",
       "      <th></th>\n",
       "      <th>name</th>\n",
       "      <th>subreddit</th>\n",
       "      <th>title</th>\n",
       "      <th>selftext</th>\n",
       "    </tr>\n",
       "  </thead>\n",
       "  <tbody>\n",
       "    <tr>\n",
       "      <th>0</th>\n",
       "      <td>t3_m4nauj</td>\n",
       "      <td>HIMYM</td>\n",
       "      <td>This submission on a BuzzFeed article called “...</td>\n",
       "      <td>NaN</td>\n",
       "    </tr>\n",
       "    <tr>\n",
       "      <th>1</th>\n",
       "      <td>t3_m4gi9v</td>\n",
       "      <td>HIMYM</td>\n",
       "      <td>Meme</td>\n",
       "      <td>NaN</td>\n",
       "    </tr>\n",
       "    <tr>\n",
       "      <th>2</th>\n",
       "      <td>t3_m46ils</td>\n",
       "      <td>HIMYM</td>\n",
       "      <td>I love this scene a lot, so I decided to draw ...</td>\n",
       "      <td>NaN</td>\n",
       "    </tr>\n",
       "    <tr>\n",
       "      <th>3</th>\n",
       "      <td>t3_m4od13</td>\n",
       "      <td>HIMYM</td>\n",
       "      <td>Unexpected reference</td>\n",
       "      <td>NaN</td>\n",
       "    </tr>\n",
       "    <tr>\n",
       "      <th>4</th>\n",
       "      <td>t3_m4ssdc</td>\n",
       "      <td>HIMYM</td>\n",
       "      <td>I don't think so pal...</td>\n",
       "      <td>NaN</td>\n",
       "    </tr>\n",
       "    <tr>\n",
       "      <th>...</th>\n",
       "      <td>...</td>\n",
       "      <td>...</td>\n",
       "      <td>...</td>\n",
       "      <td>...</td>\n",
       "    </tr>\n",
       "    <tr>\n",
       "      <th>843</th>\n",
       "      <td>t3_l8sy1s</td>\n",
       "      <td>HIMYM</td>\n",
       "      <td>Willem🐸</td>\n",
       "      <td>NaN</td>\n",
       "    </tr>\n",
       "    <tr>\n",
       "      <th>844</th>\n",
       "      <td>t3_l9mbr0</td>\n",
       "      <td>HIMYM</td>\n",
       "      <td>I have a theory...</td>\n",
       "      <td>As we all know... the entire story of HIMYM is...</td>\n",
       "    </tr>\n",
       "    <tr>\n",
       "      <th>845</th>\n",
       "      <td>t3_l9dg8w</td>\n",
       "      <td>HIMYM</td>\n",
       "      <td>Which character’s career do you like the best?</td>\n",
       "      <td>\\n\\n[View Poll](https://www.reddit.com/poll/l9...</td>\n",
       "    </tr>\n",
       "    <tr>\n",
       "      <th>846</th>\n",
       "      <td>t3_l9qqho</td>\n",
       "      <td>HIMYM</td>\n",
       "      <td>Teds kids</td>\n",
       "      <td>Don’t know if this has been posted here but te...</td>\n",
       "    </tr>\n",
       "    <tr>\n",
       "      <th>847</th>\n",
       "      <td>t3_l981i2</td>\n",
       "      <td>HIMYM</td>\n",
       "      <td>We have less than 1 year to create phones that...</td>\n",
       "      <td>In the episode \"garbage island\" (s6e17) it was...</td>\n",
       "    </tr>\n",
       "  </tbody>\n",
       "</table>\n",
       "<p>848 rows × 4 columns</p>\n",
       "</div>"
      ],
      "text/plain": [
       "          name subreddit                                              title  \\\n",
       "0    t3_m4nauj     HIMYM  This submission on a BuzzFeed article called “...   \n",
       "1    t3_m4gi9v     HIMYM                                               Meme   \n",
       "2    t3_m46ils     HIMYM  I love this scene a lot, so I decided to draw ...   \n",
       "3    t3_m4od13     HIMYM                               Unexpected reference   \n",
       "4    t3_m4ssdc     HIMYM                            I don't think so pal...   \n",
       "..         ...       ...                                                ...   \n",
       "843  t3_l8sy1s     HIMYM                                            Willem🐸   \n",
       "844  t3_l9mbr0     HIMYM                                 I have a theory...   \n",
       "845  t3_l9dg8w     HIMYM     Which character’s career do you like the best?   \n",
       "846  t3_l9qqho     HIMYM                                          Teds kids   \n",
       "847  t3_l981i2     HIMYM  We have less than 1 year to create phones that...   \n",
       "\n",
       "                                              selftext  \n",
       "0                                                  NaN  \n",
       "1                                                  NaN  \n",
       "2                                                  NaN  \n",
       "3                                                  NaN  \n",
       "4                                                  NaN  \n",
       "..                                                 ...  \n",
       "843                                                NaN  \n",
       "844  As we all know... the entire story of HIMYM is...  \n",
       "845  \\n\\n[View Poll](https://www.reddit.com/poll/l9...  \n",
       "846  Don’t know if this has been posted here but te...  \n",
       "847  In the episode \"garbage island\" (s6e17) it was...  \n",
       "\n",
       "[848 rows x 4 columns]"
      ]
     },
     "execution_count": 180,
     "metadata": {},
     "output_type": "execute_result"
    }
   ],
   "source": [
    "himym_data = himym[['name','subreddit','title','selftext']]\n",
    "himym_data"
   ]
  },
  {
   "cell_type": "code",
   "execution_count": 181,
   "metadata": {},
   "outputs": [
    {
     "data": {
      "text/html": [
       "<div>\n",
       "<style scoped>\n",
       "    .dataframe tbody tr th:only-of-type {\n",
       "        vertical-align: middle;\n",
       "    }\n",
       "\n",
       "    .dataframe tbody tr th {\n",
       "        vertical-align: top;\n",
       "    }\n",
       "\n",
       "    .dataframe thead th {\n",
       "        text-align: right;\n",
       "    }\n",
       "</style>\n",
       "<table border=\"1\" class=\"dataframe\">\n",
       "  <thead>\n",
       "    <tr style=\"text-align: right;\">\n",
       "      <th></th>\n",
       "      <th>Unnamed: 0</th>\n",
       "      <th>approved_at_utc</th>\n",
       "      <th>subreddit</th>\n",
       "      <th>selftext</th>\n",
       "      <th>author_fullname</th>\n",
       "      <th>saved</th>\n",
       "      <th>mod_reason_title</th>\n",
       "      <th>gilded</th>\n",
       "      <th>clicked</th>\n",
       "      <th>title</th>\n",
       "      <th>...</th>\n",
       "      <th>num_crossposts</th>\n",
       "      <th>media</th>\n",
       "      <th>is_video</th>\n",
       "      <th>crosspost_parent_list</th>\n",
       "      <th>crosspost_parent</th>\n",
       "      <th>media_metadata</th>\n",
       "      <th>poll_data</th>\n",
       "      <th>is_gallery</th>\n",
       "      <th>gallery_data</th>\n",
       "      <th>author_cakeday</th>\n",
       "    </tr>\n",
       "  </thead>\n",
       "  <tbody>\n",
       "    <tr>\n",
       "      <th>0</th>\n",
       "      <td>0</td>\n",
       "      <td>NaN</td>\n",
       "      <td>HIMYM</td>\n",
       "      <td>NaN</td>\n",
       "      <td>t2_8as7ubb5</td>\n",
       "      <td>False</td>\n",
       "      <td>NaN</td>\n",
       "      <td>0</td>\n",
       "      <td>False</td>\n",
       "      <td>\"But I... look, I don't, I don't even know if ...</td>\n",
       "      <td>...</td>\n",
       "      <td>0</td>\n",
       "      <td>NaN</td>\n",
       "      <td>False</td>\n",
       "      <td>NaN</td>\n",
       "      <td>NaN</td>\n",
       "      <td>NaN</td>\n",
       "      <td>NaN</td>\n",
       "      <td>NaN</td>\n",
       "      <td>NaN</td>\n",
       "      <td>NaN</td>\n",
       "    </tr>\n",
       "    <tr>\n",
       "      <th>1</th>\n",
       "      <td>1</td>\n",
       "      <td>NaN</td>\n",
       "      <td>HIMYM</td>\n",
       "      <td>NaN</td>\n",
       "      <td>t2_7uxl8ll6</td>\n",
       "      <td>False</td>\n",
       "      <td>NaN</td>\n",
       "      <td>0</td>\n",
       "      <td>False</td>\n",
       "      <td>Farhampton</td>\n",
       "      <td>...</td>\n",
       "      <td>0</td>\n",
       "      <td>NaN</td>\n",
       "      <td>False</td>\n",
       "      <td>NaN</td>\n",
       "      <td>NaN</td>\n",
       "      <td>NaN</td>\n",
       "      <td>NaN</td>\n",
       "      <td>NaN</td>\n",
       "      <td>NaN</td>\n",
       "      <td>NaN</td>\n",
       "    </tr>\n",
       "    <tr>\n",
       "      <th>2</th>\n",
       "      <td>2</td>\n",
       "      <td>NaN</td>\n",
       "      <td>HIMYM</td>\n",
       "      <td>NaN</td>\n",
       "      <td>t2_afp3wlbm</td>\n",
       "      <td>False</td>\n",
       "      <td>NaN</td>\n",
       "      <td>0</td>\n",
       "      <td>False</td>\n",
       "      <td>barney, what do you do for living? tell us 😡</td>\n",
       "      <td>...</td>\n",
       "      <td>0</td>\n",
       "      <td>NaN</td>\n",
       "      <td>False</td>\n",
       "      <td>NaN</td>\n",
       "      <td>NaN</td>\n",
       "      <td>NaN</td>\n",
       "      <td>NaN</td>\n",
       "      <td>NaN</td>\n",
       "      <td>NaN</td>\n",
       "      <td>NaN</td>\n",
       "    </tr>\n",
       "    <tr>\n",
       "      <th>3</th>\n",
       "      <td>3</td>\n",
       "      <td>NaN</td>\n",
       "      <td>HIMYM</td>\n",
       "      <td>NaN</td>\n",
       "      <td>t2_7uxl8ll6</td>\n",
       "      <td>False</td>\n",
       "      <td>NaN</td>\n",
       "      <td>0</td>\n",
       "      <td>False</td>\n",
       "      <td>Marshall is so lame sometimes and yet so funny 🙈🙈</td>\n",
       "      <td>...</td>\n",
       "      <td>0</td>\n",
       "      <td>NaN</td>\n",
       "      <td>False</td>\n",
       "      <td>NaN</td>\n",
       "      <td>NaN</td>\n",
       "      <td>NaN</td>\n",
       "      <td>NaN</td>\n",
       "      <td>NaN</td>\n",
       "      <td>NaN</td>\n",
       "      <td>NaN</td>\n",
       "    </tr>\n",
       "    <tr>\n",
       "      <th>4</th>\n",
       "      <td>4</td>\n",
       "      <td>NaN</td>\n",
       "      <td>HIMYM</td>\n",
       "      <td>NaN</td>\n",
       "      <td>t2_f6huuo</td>\n",
       "      <td>False</td>\n",
       "      <td>NaN</td>\n",
       "      <td>0</td>\n",
       "      <td>False</td>\n",
       "      <td>This submission on a BuzzFeed article called “...</td>\n",
       "      <td>...</td>\n",
       "      <td>0</td>\n",
       "      <td>NaN</td>\n",
       "      <td>False</td>\n",
       "      <td>NaN</td>\n",
       "      <td>NaN</td>\n",
       "      <td>NaN</td>\n",
       "      <td>NaN</td>\n",
       "      <td>NaN</td>\n",
       "      <td>NaN</td>\n",
       "      <td>NaN</td>\n",
       "    </tr>\n",
       "  </tbody>\n",
       "</table>\n",
       "<p>5 rows × 115 columns</p>\n",
       "</div>"
      ],
      "text/plain": [
       "   Unnamed: 0  approved_at_utc subreddit selftext author_fullname  saved  \\\n",
       "0           0              NaN     HIMYM      NaN     t2_8as7ubb5  False   \n",
       "1           1              NaN     HIMYM      NaN     t2_7uxl8ll6  False   \n",
       "2           2              NaN     HIMYM      NaN     t2_afp3wlbm  False   \n",
       "3           3              NaN     HIMYM      NaN     t2_7uxl8ll6  False   \n",
       "4           4              NaN     HIMYM      NaN       t2_f6huuo  False   \n",
       "\n",
       "   mod_reason_title  gilded  clicked  \\\n",
       "0               NaN       0    False   \n",
       "1               NaN       0    False   \n",
       "2               NaN       0    False   \n",
       "3               NaN       0    False   \n",
       "4               NaN       0    False   \n",
       "\n",
       "                                               title  ... num_crossposts  \\\n",
       "0  \"But I... look, I don't, I don't even know if ...  ...              0   \n",
       "1                                         Farhampton  ...              0   \n",
       "2       barney, what do you do for living? tell us 😡  ...              0   \n",
       "3  Marshall is so lame sometimes and yet so funny 🙈🙈  ...              0   \n",
       "4  This submission on a BuzzFeed article called “...  ...              0   \n",
       "\n",
       "  media  is_video  crosspost_parent_list  crosspost_parent  media_metadata  \\\n",
       "0   NaN     False                    NaN               NaN             NaN   \n",
       "1   NaN     False                    NaN               NaN             NaN   \n",
       "2   NaN     False                    NaN               NaN             NaN   \n",
       "3   NaN     False                    NaN               NaN             NaN   \n",
       "4   NaN     False                    NaN               NaN             NaN   \n",
       "\n",
       "   poll_data  is_gallery  gallery_data author_cakeday  \n",
       "0        NaN         NaN           NaN            NaN  \n",
       "1        NaN         NaN           NaN            NaN  \n",
       "2        NaN         NaN           NaN            NaN  \n",
       "3        NaN         NaN           NaN            NaN  \n",
       "4        NaN         NaN           NaN            NaN  \n",
       "\n",
       "[5 rows x 115 columns]"
      ]
     },
     "execution_count": 181,
     "metadata": {},
     "output_type": "execute_result"
    }
   ],
   "source": [
    "himym1.head()"
   ]
  },
  {
   "cell_type": "code",
   "execution_count": 182,
   "metadata": {},
   "outputs": [
    {
     "data": {
      "text/plain": [
       "(848, 114)"
      ]
     },
     "execution_count": 182,
     "metadata": {},
     "output_type": "execute_result"
    }
   ],
   "source": [
    "himym1 = himym1.drop(['Unnamed: 0'],axis=1)\n",
    "himym.shape"
   ]
  },
  {
   "cell_type": "code",
   "execution_count": 183,
   "metadata": {},
   "outputs": [
    {
     "data": {
      "text/html": [
       "<div>\n",
       "<style scoped>\n",
       "    .dataframe tbody tr th:only-of-type {\n",
       "        vertical-align: middle;\n",
       "    }\n",
       "\n",
       "    .dataframe tbody tr th {\n",
       "        vertical-align: top;\n",
       "    }\n",
       "\n",
       "    .dataframe thead th {\n",
       "        text-align: right;\n",
       "    }\n",
       "</style>\n",
       "<table border=\"1\" class=\"dataframe\">\n",
       "  <thead>\n",
       "    <tr style=\"text-align: right;\">\n",
       "      <th></th>\n",
       "      <th>name</th>\n",
       "      <th>subreddit</th>\n",
       "      <th>title</th>\n",
       "      <th>selftext</th>\n",
       "    </tr>\n",
       "  </thead>\n",
       "  <tbody>\n",
       "    <tr>\n",
       "      <th>0</th>\n",
       "      <td>t3_m5dk47</td>\n",
       "      <td>HIMYM</td>\n",
       "      <td>\"But I... look, I don't, I don't even know if ...</td>\n",
       "      <td>NaN</td>\n",
       "    </tr>\n",
       "    <tr>\n",
       "      <th>1</th>\n",
       "      <td>t3_m4xbqg</td>\n",
       "      <td>HIMYM</td>\n",
       "      <td>Farhampton</td>\n",
       "      <td>NaN</td>\n",
       "    </tr>\n",
       "    <tr>\n",
       "      <th>2</th>\n",
       "      <td>t3_m50wtk</td>\n",
       "      <td>HIMYM</td>\n",
       "      <td>barney, what do you do for living? tell us 😡</td>\n",
       "      <td>NaN</td>\n",
       "    </tr>\n",
       "    <tr>\n",
       "      <th>3</th>\n",
       "      <td>t3_m5ggeo</td>\n",
       "      <td>HIMYM</td>\n",
       "      <td>Marshall is so lame sometimes and yet so funny 🙈🙈</td>\n",
       "      <td>NaN</td>\n",
       "    </tr>\n",
       "    <tr>\n",
       "      <th>4</th>\n",
       "      <td>t3_m4nauj</td>\n",
       "      <td>HIMYM</td>\n",
       "      <td>This submission on a BuzzFeed article called “...</td>\n",
       "      <td>NaN</td>\n",
       "    </tr>\n",
       "    <tr>\n",
       "      <th>...</th>\n",
       "      <td>...</td>\n",
       "      <td>...</td>\n",
       "      <td>...</td>\n",
       "      <td>...</td>\n",
       "    </tr>\n",
       "    <tr>\n",
       "      <th>974</th>\n",
       "      <td>t3_m0xfm1</td>\n",
       "      <td>HIMYM</td>\n",
       "      <td>Looks like Becky is making a killing selling B...</td>\n",
       "      <td>NaN</td>\n",
       "    </tr>\n",
       "    <tr>\n",
       "      <th>975</th>\n",
       "      <td>t3_m0oru2</td>\n",
       "      <td>HIMYM</td>\n",
       "      <td>Can we just have a round of applause for Stell...</td>\n",
       "      <td>NaN</td>\n",
       "    </tr>\n",
       "    <tr>\n",
       "      <th>976</th>\n",
       "      <td>t3_m0u4iz</td>\n",
       "      <td>HIMYM</td>\n",
       "      <td>Made me think of Barney</td>\n",
       "      <td>NaN</td>\n",
       "    </tr>\n",
       "    <tr>\n",
       "      <th>977</th>\n",
       "      <td>t3_m0yekx</td>\n",
       "      <td>HIMYM</td>\n",
       "      <td>Found this little detail while rewatching the ...</td>\n",
       "      <td>NaN</td>\n",
       "    </tr>\n",
       "    <tr>\n",
       "      <th>978</th>\n",
       "      <td>t3_m16d5s</td>\n",
       "      <td>HIMYM</td>\n",
       "      <td>Worst hairstyles in HIMYM ?</td>\n",
       "      <td>For me it has to be ted's hairstyle in seasons...</td>\n",
       "    </tr>\n",
       "  </tbody>\n",
       "</table>\n",
       "<p>979 rows × 4 columns</p>\n",
       "</div>"
      ],
      "text/plain": [
       "          name subreddit                                              title  \\\n",
       "0    t3_m5dk47     HIMYM  \"But I... look, I don't, I don't even know if ...   \n",
       "1    t3_m4xbqg     HIMYM                                         Farhampton   \n",
       "2    t3_m50wtk     HIMYM       barney, what do you do for living? tell us 😡   \n",
       "3    t3_m5ggeo     HIMYM  Marshall is so lame sometimes and yet so funny 🙈🙈   \n",
       "4    t3_m4nauj     HIMYM  This submission on a BuzzFeed article called “...   \n",
       "..         ...       ...                                                ...   \n",
       "974  t3_m0xfm1     HIMYM  Looks like Becky is making a killing selling B...   \n",
       "975  t3_m0oru2     HIMYM  Can we just have a round of applause for Stell...   \n",
       "976  t3_m0u4iz     HIMYM                            Made me think of Barney   \n",
       "977  t3_m0yekx     HIMYM  Found this little detail while rewatching the ...   \n",
       "978  t3_m16d5s     HIMYM                        Worst hairstyles in HIMYM ?   \n",
       "\n",
       "                                              selftext  \n",
       "0                                                  NaN  \n",
       "1                                                  NaN  \n",
       "2                                                  NaN  \n",
       "3                                                  NaN  \n",
       "4                                                  NaN  \n",
       "..                                                 ...  \n",
       "974                                                NaN  \n",
       "975                                                NaN  \n",
       "976                                                NaN  \n",
       "977                                                NaN  \n",
       "978  For me it has to be ted's hairstyle in seasons...  \n",
       "\n",
       "[979 rows x 4 columns]"
      ]
     },
     "execution_count": 183,
     "metadata": {},
     "output_type": "execute_result"
    }
   ],
   "source": [
    "himym_data1 = himym1[['name','subreddit','title','selftext']]\n",
    "himym_data1"
   ]
  },
  {
   "cell_type": "code",
   "execution_count": 184,
   "metadata": {},
   "outputs": [],
   "source": [
    "himym_2 = [himym_data1,himym_data]\n",
    "\n",
    "himym_all = pd.concat(himym_2)\n",
    "himym_all.reset_index(inplace=True,drop=True)"
   ]
  },
  {
   "cell_type": "code",
   "execution_count": 185,
   "metadata": {},
   "outputs": [
    {
     "data": {
      "text/plain": [
       "869"
      ]
     },
     "execution_count": 185,
     "metadata": {},
     "output_type": "execute_result"
    }
   ],
   "source": [
    "himym_all['name'].nunique()"
   ]
  },
  {
   "cell_type": "code",
   "execution_count": 186,
   "metadata": {},
   "outputs": [
    {
     "data": {
      "text/plain": [
       "(869, 4)"
      ]
     },
     "execution_count": 186,
     "metadata": {},
     "output_type": "execute_result"
    }
   ],
   "source": [
    "himym_all.drop_duplicates(subset ='name', inplace = True) \n",
    "himym_all.shape"
   ]
  },
  {
   "cell_type": "code",
   "execution_count": 187,
   "metadata": {},
   "outputs": [
    {
     "data": {
      "text/html": [
       "<div>\n",
       "<style scoped>\n",
       "    .dataframe tbody tr th:only-of-type {\n",
       "        vertical-align: middle;\n",
       "    }\n",
       "\n",
       "    .dataframe tbody tr th {\n",
       "        vertical-align: top;\n",
       "    }\n",
       "\n",
       "    .dataframe thead th {\n",
       "        text-align: right;\n",
       "    }\n",
       "</style>\n",
       "<table border=\"1\" class=\"dataframe\">\n",
       "  <thead>\n",
       "    <tr style=\"text-align: right;\">\n",
       "      <th></th>\n",
       "      <th>name</th>\n",
       "      <th>subreddit</th>\n",
       "      <th>title</th>\n",
       "      <th>selftext</th>\n",
       "    </tr>\n",
       "  </thead>\n",
       "  <tbody>\n",
       "    <tr>\n",
       "      <th>0</th>\n",
       "      <td>t3_m5dk47</td>\n",
       "      <td>HIMYM</td>\n",
       "      <td>\"But I... look, I don't, I don't even know if ...</td>\n",
       "      <td>NaN</td>\n",
       "    </tr>\n",
       "    <tr>\n",
       "      <th>1</th>\n",
       "      <td>t3_m4xbqg</td>\n",
       "      <td>HIMYM</td>\n",
       "      <td>Farhampton</td>\n",
       "      <td>NaN</td>\n",
       "    </tr>\n",
       "    <tr>\n",
       "      <th>2</th>\n",
       "      <td>t3_m50wtk</td>\n",
       "      <td>HIMYM</td>\n",
       "      <td>barney, what do you do for living? tell us 😡</td>\n",
       "      <td>NaN</td>\n",
       "    </tr>\n",
       "    <tr>\n",
       "      <th>3</th>\n",
       "      <td>t3_m5ggeo</td>\n",
       "      <td>HIMYM</td>\n",
       "      <td>Marshall is so lame sometimes and yet so funny 🙈🙈</td>\n",
       "      <td>NaN</td>\n",
       "    </tr>\n",
       "    <tr>\n",
       "      <th>4</th>\n",
       "      <td>t3_m4nauj</td>\n",
       "      <td>HIMYM</td>\n",
       "      <td>This submission on a BuzzFeed article called “...</td>\n",
       "      <td>NaN</td>\n",
       "    </tr>\n",
       "    <tr>\n",
       "      <th>...</th>\n",
       "      <td>...</td>\n",
       "      <td>...</td>\n",
       "      <td>...</td>\n",
       "      <td>...</td>\n",
       "    </tr>\n",
       "    <tr>\n",
       "      <th>1822</th>\n",
       "      <td>t3_l8sy1s</td>\n",
       "      <td>HIMYM</td>\n",
       "      <td>Willem🐸</td>\n",
       "      <td>NaN</td>\n",
       "    </tr>\n",
       "    <tr>\n",
       "      <th>1823</th>\n",
       "      <td>t3_l9mbr0</td>\n",
       "      <td>HIMYM</td>\n",
       "      <td>I have a theory...</td>\n",
       "      <td>As we all know... the entire story of HIMYM is...</td>\n",
       "    </tr>\n",
       "    <tr>\n",
       "      <th>1824</th>\n",
       "      <td>t3_l9dg8w</td>\n",
       "      <td>HIMYM</td>\n",
       "      <td>Which character’s career do you like the best?</td>\n",
       "      <td>\\n\\n[View Poll](https://www.reddit.com/poll/l9...</td>\n",
       "    </tr>\n",
       "    <tr>\n",
       "      <th>1825</th>\n",
       "      <td>t3_l9qqho</td>\n",
       "      <td>HIMYM</td>\n",
       "      <td>Teds kids</td>\n",
       "      <td>Don’t know if this has been posted here but te...</td>\n",
       "    </tr>\n",
       "    <tr>\n",
       "      <th>1826</th>\n",
       "      <td>t3_l981i2</td>\n",
       "      <td>HIMYM</td>\n",
       "      <td>We have less than 1 year to create phones that...</td>\n",
       "      <td>In the episode \"garbage island\" (s6e17) it was...</td>\n",
       "    </tr>\n",
       "  </tbody>\n",
       "</table>\n",
       "<p>869 rows × 4 columns</p>\n",
       "</div>"
      ],
      "text/plain": [
       "           name subreddit                                              title  \\\n",
       "0     t3_m5dk47     HIMYM  \"But I... look, I don't, I don't even know if ...   \n",
       "1     t3_m4xbqg     HIMYM                                         Farhampton   \n",
       "2     t3_m50wtk     HIMYM       barney, what do you do for living? tell us 😡   \n",
       "3     t3_m5ggeo     HIMYM  Marshall is so lame sometimes and yet so funny 🙈🙈   \n",
       "4     t3_m4nauj     HIMYM  This submission on a BuzzFeed article called “...   \n",
       "...         ...       ...                                                ...   \n",
       "1822  t3_l8sy1s     HIMYM                                            Willem🐸   \n",
       "1823  t3_l9mbr0     HIMYM                                 I have a theory...   \n",
       "1824  t3_l9dg8w     HIMYM     Which character’s career do you like the best?   \n",
       "1825  t3_l9qqho     HIMYM                                          Teds kids   \n",
       "1826  t3_l981i2     HIMYM  We have less than 1 year to create phones that...   \n",
       "\n",
       "                                               selftext  \n",
       "0                                                   NaN  \n",
       "1                                                   NaN  \n",
       "2                                                   NaN  \n",
       "3                                                   NaN  \n",
       "4                                                   NaN  \n",
       "...                                                 ...  \n",
       "1822                                                NaN  \n",
       "1823  As we all know... the entire story of HIMYM is...  \n",
       "1824  \\n\\n[View Poll](https://www.reddit.com/poll/l9...  \n",
       "1825  Don’t know if this has been posted here but te...  \n",
       "1826  In the episode \"garbage island\" (s6e17) it was...  \n",
       "\n",
       "[869 rows x 4 columns]"
      ]
     },
     "execution_count": 187,
     "metadata": {},
     "output_type": "execute_result"
    }
   ],
   "source": [
    "himym_all"
   ]
  },
  {
   "cell_type": "code",
   "execution_count": 188,
   "metadata": {},
   "outputs": [
    {
     "data": {
      "text/html": [
       "<div>\n",
       "<style scoped>\n",
       "    .dataframe tbody tr th:only-of-type {\n",
       "        vertical-align: middle;\n",
       "    }\n",
       "\n",
       "    .dataframe tbody tr th {\n",
       "        vertical-align: top;\n",
       "    }\n",
       "\n",
       "    .dataframe thead th {\n",
       "        text-align: right;\n",
       "    }\n",
       "</style>\n",
       "<table border=\"1\" class=\"dataframe\">\n",
       "  <thead>\n",
       "    <tr style=\"text-align: right;\">\n",
       "      <th></th>\n",
       "      <th>Unnamed: 0</th>\n",
       "      <th>approved_at_utc</th>\n",
       "      <th>subreddit</th>\n",
       "      <th>selftext</th>\n",
       "      <th>author_fullname</th>\n",
       "      <th>saved</th>\n",
       "      <th>mod_reason_title</th>\n",
       "      <th>gilded</th>\n",
       "      <th>clicked</th>\n",
       "      <th>title</th>\n",
       "      <th>...</th>\n",
       "      <th>media</th>\n",
       "      <th>is_video</th>\n",
       "      <th>url_overridden_by_dest</th>\n",
       "      <th>crosspost_parent_list</th>\n",
       "      <th>link_flair_template_id</th>\n",
       "      <th>crosspost_parent</th>\n",
       "      <th>poll_data</th>\n",
       "      <th>media_metadata</th>\n",
       "      <th>is_gallery</th>\n",
       "      <th>gallery_data</th>\n",
       "    </tr>\n",
       "  </thead>\n",
       "  <tbody>\n",
       "    <tr>\n",
       "      <th>0</th>\n",
       "      <td>0</td>\n",
       "      <td>NaN</td>\n",
       "      <td>bigbangtheory</td>\n",
       "      <td>Hi all!  \\nI made a The Big Bang Theory Discor...</td>\n",
       "      <td>t2_5fhfdvh8</td>\n",
       "      <td>False</td>\n",
       "      <td>NaN</td>\n",
       "      <td>0</td>\n",
       "      <td>False</td>\n",
       "      <td>Official Discord Server for r/bigbangtheory!</td>\n",
       "      <td>...</td>\n",
       "      <td>NaN</td>\n",
       "      <td>False</td>\n",
       "      <td>NaN</td>\n",
       "      <td>NaN</td>\n",
       "      <td>NaN</td>\n",
       "      <td>NaN</td>\n",
       "      <td>NaN</td>\n",
       "      <td>NaN</td>\n",
       "      <td>NaN</td>\n",
       "      <td>NaN</td>\n",
       "    </tr>\n",
       "    <tr>\n",
       "      <th>1</th>\n",
       "      <td>1</td>\n",
       "      <td>NaN</td>\n",
       "      <td>bigbangtheory</td>\n",
       "      <td>They had a great moment seasons ago with the w...</td>\n",
       "      <td>t2_4cyhbxdf</td>\n",
       "      <td>False</td>\n",
       "      <td>NaN</td>\n",
       "      <td>0</td>\n",
       "      <td>False</td>\n",
       "      <td>S11 E05: Loved seeing Amy and Howard get along...</td>\n",
       "      <td>...</td>\n",
       "      <td>NaN</td>\n",
       "      <td>False</td>\n",
       "      <td>NaN</td>\n",
       "      <td>NaN</td>\n",
       "      <td>NaN</td>\n",
       "      <td>NaN</td>\n",
       "      <td>NaN</td>\n",
       "      <td>NaN</td>\n",
       "      <td>NaN</td>\n",
       "      <td>NaN</td>\n",
       "    </tr>\n",
       "    <tr>\n",
       "      <th>2</th>\n",
       "      <td>2</td>\n",
       "      <td>NaN</td>\n",
       "      <td>bigbangtheory</td>\n",
       "      <td>NaN</td>\n",
       "      <td>t2_a6q9ad2x</td>\n",
       "      <td>False</td>\n",
       "      <td>NaN</td>\n",
       "      <td>0</td>\n",
       "      <td>False</td>\n",
       "      <td>😃</td>\n",
       "      <td>...</td>\n",
       "      <td>NaN</td>\n",
       "      <td>False</td>\n",
       "      <td>https://i.redd.it/t77yypx90rm61.jpg</td>\n",
       "      <td>NaN</td>\n",
       "      <td>NaN</td>\n",
       "      <td>NaN</td>\n",
       "      <td>NaN</td>\n",
       "      <td>NaN</td>\n",
       "      <td>NaN</td>\n",
       "      <td>NaN</td>\n",
       "    </tr>\n",
       "    <tr>\n",
       "      <th>3</th>\n",
       "      <td>3</td>\n",
       "      <td>NaN</td>\n",
       "      <td>bigbangtheory</td>\n",
       "      <td>NaN</td>\n",
       "      <td>t2_4o0czq</td>\n",
       "      <td>False</td>\n",
       "      <td>NaN</td>\n",
       "      <td>0</td>\n",
       "      <td>False</td>\n",
       "      <td>I have lost countless hours searching for the ...</td>\n",
       "      <td>...</td>\n",
       "      <td>NaN</td>\n",
       "      <td>False</td>\n",
       "      <td>https://i.redd.it/tgp5op6pzpm61.jpg</td>\n",
       "      <td>NaN</td>\n",
       "      <td>NaN</td>\n",
       "      <td>NaN</td>\n",
       "      <td>NaN</td>\n",
       "      <td>NaN</td>\n",
       "      <td>NaN</td>\n",
       "      <td>NaN</td>\n",
       "    </tr>\n",
       "    <tr>\n",
       "      <th>4</th>\n",
       "      <td>4</td>\n",
       "      <td>NaN</td>\n",
       "      <td>bigbangtheory</td>\n",
       "      <td>NaN</td>\n",
       "      <td>t2_569wqhij</td>\n",
       "      <td>False</td>\n",
       "      <td>NaN</td>\n",
       "      <td>0</td>\n",
       "      <td>False</td>\n",
       "      <td>Sheldon would flip out!</td>\n",
       "      <td>...</td>\n",
       "      <td>NaN</td>\n",
       "      <td>False</td>\n",
       "      <td>https://i.redd.it/2l40od5nnrm61.jpg</td>\n",
       "      <td>[{'approved_at_utc': None, 'subreddit': 'dankm...</td>\n",
       "      <td>5d4e9c3c-4a35-11eb-9184-0e809bd389b1</td>\n",
       "      <td>t3_m435so</td>\n",
       "      <td>NaN</td>\n",
       "      <td>NaN</td>\n",
       "      <td>NaN</td>\n",
       "      <td>NaN</td>\n",
       "    </tr>\n",
       "  </tbody>\n",
       "</table>\n",
       "<p>5 rows × 111 columns</p>\n",
       "</div>"
      ],
      "text/plain": [
       "   Unnamed: 0  approved_at_utc      subreddit  \\\n",
       "0           0              NaN  bigbangtheory   \n",
       "1           1              NaN  bigbangtheory   \n",
       "2           2              NaN  bigbangtheory   \n",
       "3           3              NaN  bigbangtheory   \n",
       "4           4              NaN  bigbangtheory   \n",
       "\n",
       "                                            selftext author_fullname  saved  \\\n",
       "0  Hi all!  \\nI made a The Big Bang Theory Discor...     t2_5fhfdvh8  False   \n",
       "1  They had a great moment seasons ago with the w...     t2_4cyhbxdf  False   \n",
       "2                                                NaN     t2_a6q9ad2x  False   \n",
       "3                                                NaN       t2_4o0czq  False   \n",
       "4                                                NaN     t2_569wqhij  False   \n",
       "\n",
       "   mod_reason_title  gilded  clicked  \\\n",
       "0               NaN       0    False   \n",
       "1               NaN       0    False   \n",
       "2               NaN       0    False   \n",
       "3               NaN       0    False   \n",
       "4               NaN       0    False   \n",
       "\n",
       "                                               title  ... media is_video  \\\n",
       "0       Official Discord Server for r/bigbangtheory!  ...   NaN    False   \n",
       "1  S11 E05: Loved seeing Amy and Howard get along...  ...   NaN    False   \n",
       "2                                                  😃  ...   NaN    False   \n",
       "3  I have lost countless hours searching for the ...  ...   NaN    False   \n",
       "4                            Sheldon would flip out!  ...   NaN    False   \n",
       "\n",
       "                url_overridden_by_dest  \\\n",
       "0                                  NaN   \n",
       "1                                  NaN   \n",
       "2  https://i.redd.it/t77yypx90rm61.jpg   \n",
       "3  https://i.redd.it/tgp5op6pzpm61.jpg   \n",
       "4  https://i.redd.it/2l40od5nnrm61.jpg   \n",
       "\n",
       "                               crosspost_parent_list  \\\n",
       "0                                                NaN   \n",
       "1                                                NaN   \n",
       "2                                                NaN   \n",
       "3                                                NaN   \n",
       "4  [{'approved_at_utc': None, 'subreddit': 'dankm...   \n",
       "\n",
       "                 link_flair_template_id  crosspost_parent  poll_data  \\\n",
       "0                                   NaN               NaN        NaN   \n",
       "1                                   NaN               NaN        NaN   \n",
       "2                                   NaN               NaN        NaN   \n",
       "3                                   NaN               NaN        NaN   \n",
       "4  5d4e9c3c-4a35-11eb-9184-0e809bd389b1         t3_m435so        NaN   \n",
       "\n",
       "   media_metadata is_gallery  gallery_data  \n",
       "0             NaN        NaN           NaN  \n",
       "1             NaN        NaN           NaN  \n",
       "2             NaN        NaN           NaN  \n",
       "3             NaN        NaN           NaN  \n",
       "4             NaN        NaN           NaN  \n",
       "\n",
       "[5 rows x 111 columns]"
      ]
     },
     "execution_count": 188,
     "metadata": {},
     "output_type": "execute_result"
    }
   ],
   "source": [
    "bigbang.head()"
   ]
  },
  {
   "cell_type": "code",
   "execution_count": 189,
   "metadata": {},
   "outputs": [
    {
     "data": {
      "text/plain": [
       "(997, 110)"
      ]
     },
     "execution_count": 189,
     "metadata": {},
     "output_type": "execute_result"
    }
   ],
   "source": [
    "bigbang = bigbang.drop(['Unnamed: 0'],axis=1)\n",
    "bigbang.shape"
   ]
  },
  {
   "cell_type": "code",
   "execution_count": 190,
   "metadata": {},
   "outputs": [
    {
     "data": {
      "text/plain": [
       "997"
      ]
     },
     "execution_count": 190,
     "metadata": {},
     "output_type": "execute_result"
    }
   ],
   "source": [
    "bigbang['name'].nunique()"
   ]
  },
  {
   "cell_type": "code",
   "execution_count": 191,
   "metadata": {
    "scrolled": true
   },
   "outputs": [
    {
     "data": {
      "text/html": [
       "<div>\n",
       "<style scoped>\n",
       "    .dataframe tbody tr th:only-of-type {\n",
       "        vertical-align: middle;\n",
       "    }\n",
       "\n",
       "    .dataframe tbody tr th {\n",
       "        vertical-align: top;\n",
       "    }\n",
       "\n",
       "    .dataframe thead th {\n",
       "        text-align: right;\n",
       "    }\n",
       "</style>\n",
       "<table border=\"1\" class=\"dataframe\">\n",
       "  <thead>\n",
       "    <tr style=\"text-align: right;\">\n",
       "      <th></th>\n",
       "      <th>name</th>\n",
       "      <th>subreddit</th>\n",
       "      <th>title</th>\n",
       "      <th>selftext</th>\n",
       "    </tr>\n",
       "  </thead>\n",
       "  <tbody>\n",
       "    <tr>\n",
       "      <th>0</th>\n",
       "      <td>t3_k8pqqw</td>\n",
       "      <td>bigbangtheory</td>\n",
       "      <td>Official Discord Server for r/bigbangtheory!</td>\n",
       "      <td>Hi all!  \\nI made a The Big Bang Theory Discor...</td>\n",
       "    </tr>\n",
       "    <tr>\n",
       "      <th>1</th>\n",
       "      <td>t3_m4c8gj</td>\n",
       "      <td>bigbangtheory</td>\n",
       "      <td>S11 E05: Loved seeing Amy and Howard get along...</td>\n",
       "      <td>They had a great moment seasons ago with the w...</td>\n",
       "    </tr>\n",
       "    <tr>\n",
       "      <th>2</th>\n",
       "      <td>t3_m41l7f</td>\n",
       "      <td>bigbangtheory</td>\n",
       "      <td>😃</td>\n",
       "      <td>NaN</td>\n",
       "    </tr>\n",
       "    <tr>\n",
       "      <th>3</th>\n",
       "      <td>t3_m3yppg</td>\n",
       "      <td>bigbangtheory</td>\n",
       "      <td>I have lost countless hours searching for the ...</td>\n",
       "      <td>NaN</td>\n",
       "    </tr>\n",
       "    <tr>\n",
       "      <th>4</th>\n",
       "      <td>t3_m45h6z</td>\n",
       "      <td>bigbangtheory</td>\n",
       "      <td>Sheldon would flip out!</td>\n",
       "      <td>NaN</td>\n",
       "    </tr>\n",
       "    <tr>\n",
       "      <th>...</th>\n",
       "      <td>...</td>\n",
       "      <td>...</td>\n",
       "      <td>...</td>\n",
       "      <td>...</td>\n",
       "    </tr>\n",
       "    <tr>\n",
       "      <th>992</th>\n",
       "      <td>t3_k0onlb</td>\n",
       "      <td>bigbangtheory</td>\n",
       "      <td>Leonard</td>\n",
       "      <td>unpopular opinion Leonards a pussy</td>\n",
       "    </tr>\n",
       "    <tr>\n",
       "      <th>993</th>\n",
       "      <td>t3_jzqzn3</td>\n",
       "      <td>bigbangtheory</td>\n",
       "      <td>Lenny, Lenny, Lenny</td>\n",
       "      <td>NaN</td>\n",
       "    </tr>\n",
       "    <tr>\n",
       "      <th>994</th>\n",
       "      <td>t3_k0mg59</td>\n",
       "      <td>bigbangtheory</td>\n",
       "      <td>OMG!!!!! I watched in the wrong way</td>\n",
       "      <td>Am I the only who watched young sheldon first ...</td>\n",
       "    </tr>\n",
       "    <tr>\n",
       "      <th>995</th>\n",
       "      <td>t3_k0g4ke</td>\n",
       "      <td>bigbangtheory</td>\n",
       "      <td>I feel at home whenever I see this quilt throu...</td>\n",
       "      <td>NaN</td>\n",
       "    </tr>\n",
       "    <tr>\n",
       "      <th>996</th>\n",
       "      <td>t3_k05b5j</td>\n",
       "      <td>bigbangtheory</td>\n",
       "      <td>😂</td>\n",
       "      <td>NaN</td>\n",
       "    </tr>\n",
       "  </tbody>\n",
       "</table>\n",
       "<p>997 rows × 4 columns</p>\n",
       "</div>"
      ],
      "text/plain": [
       "          name      subreddit  \\\n",
       "0    t3_k8pqqw  bigbangtheory   \n",
       "1    t3_m4c8gj  bigbangtheory   \n",
       "2    t3_m41l7f  bigbangtheory   \n",
       "3    t3_m3yppg  bigbangtheory   \n",
       "4    t3_m45h6z  bigbangtheory   \n",
       "..         ...            ...   \n",
       "992  t3_k0onlb  bigbangtheory   \n",
       "993  t3_jzqzn3  bigbangtheory   \n",
       "994  t3_k0mg59  bigbangtheory   \n",
       "995  t3_k0g4ke  bigbangtheory   \n",
       "996  t3_k05b5j  bigbangtheory   \n",
       "\n",
       "                                                 title  \\\n",
       "0         Official Discord Server for r/bigbangtheory!   \n",
       "1    S11 E05: Loved seeing Amy and Howard get along...   \n",
       "2                                                    😃   \n",
       "3    I have lost countless hours searching for the ...   \n",
       "4                              Sheldon would flip out!   \n",
       "..                                                 ...   \n",
       "992                                            Leonard   \n",
       "993                                Lenny, Lenny, Lenny   \n",
       "994                OMG!!!!! I watched in the wrong way   \n",
       "995  I feel at home whenever I see this quilt throu...   \n",
       "996                                                  😂   \n",
       "\n",
       "                                              selftext  \n",
       "0    Hi all!  \\nI made a The Big Bang Theory Discor...  \n",
       "1    They had a great moment seasons ago with the w...  \n",
       "2                                                  NaN  \n",
       "3                                                  NaN  \n",
       "4                                                  NaN  \n",
       "..                                                 ...  \n",
       "992                 unpopular opinion Leonards a pussy  \n",
       "993                                                NaN  \n",
       "994  Am I the only who watched young sheldon first ...  \n",
       "995                                                NaN  \n",
       "996                                                NaN  \n",
       "\n",
       "[997 rows x 4 columns]"
      ]
     },
     "execution_count": 191,
     "metadata": {},
     "output_type": "execute_result"
    }
   ],
   "source": [
    "bigbang_data = bigbang[['name','subreddit','title','selftext']]\n",
    "bigbang_data"
   ]
  },
  {
   "cell_type": "code",
   "execution_count": 192,
   "metadata": {},
   "outputs": [
    {
     "data": {
      "text/html": [
       "<div>\n",
       "<style scoped>\n",
       "    .dataframe tbody tr th:only-of-type {\n",
       "        vertical-align: middle;\n",
       "    }\n",
       "\n",
       "    .dataframe tbody tr th {\n",
       "        vertical-align: top;\n",
       "    }\n",
       "\n",
       "    .dataframe thead th {\n",
       "        text-align: right;\n",
       "    }\n",
       "</style>\n",
       "<table border=\"1\" class=\"dataframe\">\n",
       "  <thead>\n",
       "    <tr style=\"text-align: right;\">\n",
       "      <th></th>\n",
       "      <th>Unnamed: 0</th>\n",
       "      <th>approved_at_utc</th>\n",
       "      <th>subreddit</th>\n",
       "      <th>selftext</th>\n",
       "      <th>author_fullname</th>\n",
       "      <th>saved</th>\n",
       "      <th>mod_reason_title</th>\n",
       "      <th>gilded</th>\n",
       "      <th>clicked</th>\n",
       "      <th>title</th>\n",
       "      <th>...</th>\n",
       "      <th>is_video</th>\n",
       "      <th>url_overridden_by_dest</th>\n",
       "      <th>link_flair_template_id</th>\n",
       "      <th>media_metadata</th>\n",
       "      <th>crosspost_parent_list</th>\n",
       "      <th>crosspost_parent</th>\n",
       "      <th>poll_data</th>\n",
       "      <th>is_gallery</th>\n",
       "      <th>gallery_data</th>\n",
       "      <th>author_cakeday</th>\n",
       "    </tr>\n",
       "  </thead>\n",
       "  <tbody>\n",
       "    <tr>\n",
       "      <th>0</th>\n",
       "      <td>0</td>\n",
       "      <td>NaN</td>\n",
       "      <td>bigbangtheory</td>\n",
       "      <td>Hi all!  \\nI made a The Big Bang Theory Discor...</td>\n",
       "      <td>t2_5fhfdvh8</td>\n",
       "      <td>False</td>\n",
       "      <td>NaN</td>\n",
       "      <td>0</td>\n",
       "      <td>False</td>\n",
       "      <td>Official Discord Server for r/bigbangtheory!</td>\n",
       "      <td>...</td>\n",
       "      <td>False</td>\n",
       "      <td>NaN</td>\n",
       "      <td>NaN</td>\n",
       "      <td>NaN</td>\n",
       "      <td>NaN</td>\n",
       "      <td>NaN</td>\n",
       "      <td>NaN</td>\n",
       "      <td>NaN</td>\n",
       "      <td>NaN</td>\n",
       "      <td>NaN</td>\n",
       "    </tr>\n",
       "    <tr>\n",
       "      <th>1</th>\n",
       "      <td>1</td>\n",
       "      <td>NaN</td>\n",
       "      <td>bigbangtheory</td>\n",
       "      <td>NaN</td>\n",
       "      <td>t2_6ab53k40</td>\n",
       "      <td>False</td>\n",
       "      <td>NaN</td>\n",
       "      <td>0</td>\n",
       "      <td>False</td>\n",
       "      <td>Just Leonard’s and Amy’s expressions after Pen...</td>\n",
       "      <td>...</td>\n",
       "      <td>False</td>\n",
       "      <td>https://i.imgur.com/exzGe1Q.jpg</td>\n",
       "      <td>dab8aa62-627a-11e5-a14d-12162dee14ed</td>\n",
       "      <td>NaN</td>\n",
       "      <td>NaN</td>\n",
       "      <td>NaN</td>\n",
       "      <td>NaN</td>\n",
       "      <td>NaN</td>\n",
       "      <td>NaN</td>\n",
       "      <td>NaN</td>\n",
       "    </tr>\n",
       "    <tr>\n",
       "      <th>2</th>\n",
       "      <td>2</td>\n",
       "      <td>NaN</td>\n",
       "      <td>bigbangtheory</td>\n",
       "      <td>NaN</td>\n",
       "      <td>t2_al54tgi5</td>\n",
       "      <td>False</td>\n",
       "      <td>NaN</td>\n",
       "      <td>0</td>\n",
       "      <td>False</td>\n",
       "      <td>Awww Sheldon</td>\n",
       "      <td>...</td>\n",
       "      <td>False</td>\n",
       "      <td>https://i.redd.it/fgw4r72tp4n61.png</td>\n",
       "      <td>NaN</td>\n",
       "      <td>NaN</td>\n",
       "      <td>NaN</td>\n",
       "      <td>NaN</td>\n",
       "      <td>NaN</td>\n",
       "      <td>NaN</td>\n",
       "      <td>NaN</td>\n",
       "      <td>NaN</td>\n",
       "    </tr>\n",
       "    <tr>\n",
       "      <th>3</th>\n",
       "      <td>3</td>\n",
       "      <td>NaN</td>\n",
       "      <td>bigbangtheory</td>\n",
       "      <td>NaN</td>\n",
       "      <td>t2_av2volx4</td>\n",
       "      <td>False</td>\n",
       "      <td>NaN</td>\n",
       "      <td>0</td>\n",
       "      <td>False</td>\n",
       "      <td>Expected 😂</td>\n",
       "      <td>...</td>\n",
       "      <td>False</td>\n",
       "      <td>https://i.redd.it/8ktfi28gx4n61.jpg</td>\n",
       "      <td>5d4e9c3c-4a35-11eb-9184-0e809bd389b1</td>\n",
       "      <td>NaN</td>\n",
       "      <td>NaN</td>\n",
       "      <td>NaN</td>\n",
       "      <td>NaN</td>\n",
       "      <td>NaN</td>\n",
       "      <td>NaN</td>\n",
       "      <td>NaN</td>\n",
       "    </tr>\n",
       "    <tr>\n",
       "      <th>4</th>\n",
       "      <td>4</td>\n",
       "      <td>NaN</td>\n",
       "      <td>bigbangtheory</td>\n",
       "      <td>NaN</td>\n",
       "      <td>t2_93i3syaj</td>\n",
       "      <td>False</td>\n",
       "      <td>NaN</td>\n",
       "      <td>0</td>\n",
       "      <td>False</td>\n",
       "      <td>bbt memes :)</td>\n",
       "      <td>...</td>\n",
       "      <td>False</td>\n",
       "      <td>https://i.redd.it/5i0oyo9wt2n61.jpg</td>\n",
       "      <td>5d4e9c3c-4a35-11eb-9184-0e809bd389b1</td>\n",
       "      <td>NaN</td>\n",
       "      <td>NaN</td>\n",
       "      <td>NaN</td>\n",
       "      <td>NaN</td>\n",
       "      <td>NaN</td>\n",
       "      <td>NaN</td>\n",
       "      <td>NaN</td>\n",
       "    </tr>\n",
       "  </tbody>\n",
       "</table>\n",
       "<p>5 rows × 112 columns</p>\n",
       "</div>"
      ],
      "text/plain": [
       "   Unnamed: 0  approved_at_utc      subreddit  \\\n",
       "0           0              NaN  bigbangtheory   \n",
       "1           1              NaN  bigbangtheory   \n",
       "2           2              NaN  bigbangtheory   \n",
       "3           3              NaN  bigbangtheory   \n",
       "4           4              NaN  bigbangtheory   \n",
       "\n",
       "                                            selftext author_fullname  saved  \\\n",
       "0  Hi all!  \\nI made a The Big Bang Theory Discor...     t2_5fhfdvh8  False   \n",
       "1                                                NaN     t2_6ab53k40  False   \n",
       "2                                                NaN     t2_al54tgi5  False   \n",
       "3                                                NaN     t2_av2volx4  False   \n",
       "4                                                NaN     t2_93i3syaj  False   \n",
       "\n",
       "   mod_reason_title  gilded  clicked  \\\n",
       "0               NaN       0    False   \n",
       "1               NaN       0    False   \n",
       "2               NaN       0    False   \n",
       "3               NaN       0    False   \n",
       "4               NaN       0    False   \n",
       "\n",
       "                                               title  ... is_video  \\\n",
       "0       Official Discord Server for r/bigbangtheory!  ...    False   \n",
       "1  Just Leonard’s and Amy’s expressions after Pen...  ...    False   \n",
       "2                                       Awww Sheldon  ...    False   \n",
       "3                                         Expected 😂  ...    False   \n",
       "4                                       bbt memes :)  ...    False   \n",
       "\n",
       "                url_overridden_by_dest                link_flair_template_id  \\\n",
       "0                                  NaN                                   NaN   \n",
       "1      https://i.imgur.com/exzGe1Q.jpg  dab8aa62-627a-11e5-a14d-12162dee14ed   \n",
       "2  https://i.redd.it/fgw4r72tp4n61.png                                   NaN   \n",
       "3  https://i.redd.it/8ktfi28gx4n61.jpg  5d4e9c3c-4a35-11eb-9184-0e809bd389b1   \n",
       "4  https://i.redd.it/5i0oyo9wt2n61.jpg  5d4e9c3c-4a35-11eb-9184-0e809bd389b1   \n",
       "\n",
       "   media_metadata crosspost_parent_list  crosspost_parent  poll_data  \\\n",
       "0             NaN                   NaN               NaN        NaN   \n",
       "1             NaN                   NaN               NaN        NaN   \n",
       "2             NaN                   NaN               NaN        NaN   \n",
       "3             NaN                   NaN               NaN        NaN   \n",
       "4             NaN                   NaN               NaN        NaN   \n",
       "\n",
       "   is_gallery gallery_data  author_cakeday  \n",
       "0         NaN          NaN             NaN  \n",
       "1         NaN          NaN             NaN  \n",
       "2         NaN          NaN             NaN  \n",
       "3         NaN          NaN             NaN  \n",
       "4         NaN          NaN             NaN  \n",
       "\n",
       "[5 rows x 112 columns]"
      ]
     },
     "execution_count": 192,
     "metadata": {},
     "output_type": "execute_result"
    }
   ],
   "source": [
    "bigbang1.head()"
   ]
  },
  {
   "cell_type": "code",
   "execution_count": 193,
   "metadata": {},
   "outputs": [
    {
     "data": {
      "text/plain": [
       "(997, 111)"
      ]
     },
     "execution_count": 193,
     "metadata": {},
     "output_type": "execute_result"
    }
   ],
   "source": [
    "bigbang1 = bigbang1.drop(['Unnamed: 0'],axis=1)\n",
    "bigbang1.shape"
   ]
  },
  {
   "cell_type": "code",
   "execution_count": 194,
   "metadata": {},
   "outputs": [
    {
     "data": {
      "text/html": [
       "<div>\n",
       "<style scoped>\n",
       "    .dataframe tbody tr th:only-of-type {\n",
       "        vertical-align: middle;\n",
       "    }\n",
       "\n",
       "    .dataframe tbody tr th {\n",
       "        vertical-align: top;\n",
       "    }\n",
       "\n",
       "    .dataframe thead th {\n",
       "        text-align: right;\n",
       "    }\n",
       "</style>\n",
       "<table border=\"1\" class=\"dataframe\">\n",
       "  <thead>\n",
       "    <tr style=\"text-align: right;\">\n",
       "      <th></th>\n",
       "      <th>name</th>\n",
       "      <th>subreddit</th>\n",
       "      <th>title</th>\n",
       "      <th>selftext</th>\n",
       "    </tr>\n",
       "  </thead>\n",
       "  <tbody>\n",
       "    <tr>\n",
       "      <th>0</th>\n",
       "      <td>t3_k8pqqw</td>\n",
       "      <td>bigbangtheory</td>\n",
       "      <td>Official Discord Server for r/bigbangtheory!</td>\n",
       "      <td>Hi all!  \\nI made a The Big Bang Theory Discor...</td>\n",
       "    </tr>\n",
       "    <tr>\n",
       "      <th>1</th>\n",
       "      <td>t3_m4x5ly</td>\n",
       "      <td>bigbangtheory</td>\n",
       "      <td>Just Leonard’s and Amy’s expressions after Pen...</td>\n",
       "      <td>NaN</td>\n",
       "    </tr>\n",
       "    <tr>\n",
       "      <th>2</th>\n",
       "      <td>t3_m5drha</td>\n",
       "      <td>bigbangtheory</td>\n",
       "      <td>Awww Sheldon</td>\n",
       "      <td>NaN</td>\n",
       "    </tr>\n",
       "    <tr>\n",
       "      <th>3</th>\n",
       "      <td>t3_m5edh7</td>\n",
       "      <td>bigbangtheory</td>\n",
       "      <td>Expected 😂</td>\n",
       "      <td>NaN</td>\n",
       "    </tr>\n",
       "    <tr>\n",
       "      <th>4</th>\n",
       "      <td>t3_m570hc</td>\n",
       "      <td>bigbangtheory</td>\n",
       "      <td>bbt memes :)</td>\n",
       "      <td>NaN</td>\n",
       "    </tr>\n",
       "    <tr>\n",
       "      <th>...</th>\n",
       "      <td>...</td>\n",
       "      <td>...</td>\n",
       "      <td>...</td>\n",
       "      <td>...</td>\n",
       "    </tr>\n",
       "    <tr>\n",
       "      <th>992</th>\n",
       "      <td>t3_k1vnxt</td>\n",
       "      <td>bigbangtheory</td>\n",
       "      <td>Young Sheldon Easter egg I noticed</td>\n",
       "      <td>It’s fucking terrible just the normal Big Bang...</td>\n",
       "    </tr>\n",
       "    <tr>\n",
       "      <th>993</th>\n",
       "      <td>t3_k1cv5u</td>\n",
       "      <td>bigbangtheory</td>\n",
       "      <td>Always wondered what this was...</td>\n",
       "      <td>NaN</td>\n",
       "    </tr>\n",
       "    <tr>\n",
       "      <th>994</th>\n",
       "      <td>t3_k1dauq</td>\n",
       "      <td>bigbangtheory</td>\n",
       "      <td>Can anyone help me with this? I dont understan...</td>\n",
       "      <td>NaN</td>\n",
       "    </tr>\n",
       "    <tr>\n",
       "      <th>995</th>\n",
       "      <td>t3_k18665</td>\n",
       "      <td>bigbangtheory</td>\n",
       "      <td>\"Revenge is a dish best served cold\" | In KLINGON</td>\n",
       "      <td>NaN</td>\n",
       "    </tr>\n",
       "    <tr>\n",
       "      <th>996</th>\n",
       "      <td>t3_k13azx</td>\n",
       "      <td>bigbangtheory</td>\n",
       "      <td>Amy and physics</td>\n",
       "      <td>hi guys,\\n\\nthis has probably been addressed b...</td>\n",
       "    </tr>\n",
       "  </tbody>\n",
       "</table>\n",
       "<p>997 rows × 4 columns</p>\n",
       "</div>"
      ],
      "text/plain": [
       "          name      subreddit  \\\n",
       "0    t3_k8pqqw  bigbangtheory   \n",
       "1    t3_m4x5ly  bigbangtheory   \n",
       "2    t3_m5drha  bigbangtheory   \n",
       "3    t3_m5edh7  bigbangtheory   \n",
       "4    t3_m570hc  bigbangtheory   \n",
       "..         ...            ...   \n",
       "992  t3_k1vnxt  bigbangtheory   \n",
       "993  t3_k1cv5u  bigbangtheory   \n",
       "994  t3_k1dauq  bigbangtheory   \n",
       "995  t3_k18665  bigbangtheory   \n",
       "996  t3_k13azx  bigbangtheory   \n",
       "\n",
       "                                                 title  \\\n",
       "0         Official Discord Server for r/bigbangtheory!   \n",
       "1    Just Leonard’s and Amy’s expressions after Pen...   \n",
       "2                                         Awww Sheldon   \n",
       "3                                           Expected 😂   \n",
       "4                                         bbt memes :)   \n",
       "..                                                 ...   \n",
       "992                 Young Sheldon Easter egg I noticed   \n",
       "993                   Always wondered what this was...   \n",
       "994  Can anyone help me with this? I dont understan...   \n",
       "995  \"Revenge is a dish best served cold\" | In KLINGON   \n",
       "996                                    Amy and physics   \n",
       "\n",
       "                                              selftext  \n",
       "0    Hi all!  \\nI made a The Big Bang Theory Discor...  \n",
       "1                                                  NaN  \n",
       "2                                                  NaN  \n",
       "3                                                  NaN  \n",
       "4                                                  NaN  \n",
       "..                                                 ...  \n",
       "992  It’s fucking terrible just the normal Big Bang...  \n",
       "993                                                NaN  \n",
       "994                                                NaN  \n",
       "995                                                NaN  \n",
       "996  hi guys,\\n\\nthis has probably been addressed b...  \n",
       "\n",
       "[997 rows x 4 columns]"
      ]
     },
     "execution_count": 194,
     "metadata": {},
     "output_type": "execute_result"
    }
   ],
   "source": [
    "bigbang1 = bigbang1[['name','subreddit','title','selftext']]\n",
    "bigbang1"
   ]
  },
  {
   "cell_type": "code",
   "execution_count": 195,
   "metadata": {},
   "outputs": [],
   "source": [
    "bigbang2 = [bigbang1, bigbang_data]\n",
    "\n",
    "bigbang_all = pd.concat(bigbang2)\n",
    "bigbang_all.reset_index(inplace=True,drop=True)"
   ]
  },
  {
   "cell_type": "code",
   "execution_count": 196,
   "metadata": {},
   "outputs": [
    {
     "data": {
      "text/plain": [
       "1012"
      ]
     },
     "execution_count": 196,
     "metadata": {},
     "output_type": "execute_result"
    }
   ],
   "source": [
    "bigbang_all['name'].nunique()"
   ]
  },
  {
   "cell_type": "code",
   "execution_count": 197,
   "metadata": {},
   "outputs": [
    {
     "data": {
      "text/plain": [
       "(1012, 4)"
      ]
     },
     "execution_count": 197,
     "metadata": {},
     "output_type": "execute_result"
    }
   ],
   "source": [
    "bigbang_all.drop_duplicates(subset ='name', inplace = True) \n",
    "bigbang_all.shape"
   ]
  },
  {
   "cell_type": "markdown",
   "metadata": {},
   "source": [
    "---\n",
    "\n",
    "# Feature Engineering"
   ]
  },
  {
   "cell_type": "markdown",
   "metadata": {},
   "source": [
    "In this section I joined HIMYM and The Big Bang Theory dataframe we have a total of 1881 posts to worked with. As I look more into the data I realized that joining all the text columns would allow for a more effective analysis, so the text and selftext columns were joined.\n",
    "\n",
    "I cleaned the data through the text_to_words function where I removed url links and non letter words first. Then I split the sentence into individual words and tolkenized it. After I classified to stopwords and removed those and lematized them. Finally they are joined back into a string of words.\n",
    "\n",
    "In the end I put them back into the joined dataframe to be able to keep and manipulate it in the future."
   ]
  },
  {
   "cell_type": "code",
   "execution_count": 198,
   "metadata": {},
   "outputs": [],
   "source": [
    "all_data = [himym_all, bigbang_all]\n",
    "\n",
    "data = pd.concat(all_data)\n",
    "data.reset_index(inplace=True,drop=True)"
   ]
  },
  {
   "cell_type": "code",
   "execution_count": 199,
   "metadata": {},
   "outputs": [
    {
     "data": {
      "text/plain": [
       "(1881, 4)"
      ]
     },
     "execution_count": 199,
     "metadata": {},
     "output_type": "execute_result"
    }
   ],
   "source": [
    "data.shape"
   ]
  },
  {
   "cell_type": "code",
   "execution_count": 200,
   "metadata": {},
   "outputs": [
    {
     "data": {
      "text/html": [
       "<div>\n",
       "<style scoped>\n",
       "    .dataframe tbody tr th:only-of-type {\n",
       "        vertical-align: middle;\n",
       "    }\n",
       "\n",
       "    .dataframe tbody tr th {\n",
       "        vertical-align: top;\n",
       "    }\n",
       "\n",
       "    .dataframe thead th {\n",
       "        text-align: right;\n",
       "    }\n",
       "</style>\n",
       "<table border=\"1\" class=\"dataframe\">\n",
       "  <thead>\n",
       "    <tr style=\"text-align: right;\">\n",
       "      <th></th>\n",
       "      <th>name</th>\n",
       "      <th>subreddit</th>\n",
       "      <th>title</th>\n",
       "      <th>selftext</th>\n",
       "    </tr>\n",
       "  </thead>\n",
       "  <tbody>\n",
       "    <tr>\n",
       "      <th>0</th>\n",
       "      <td>t3_m5dk47</td>\n",
       "      <td>HIMYM</td>\n",
       "      <td>\"But I... look, I don't, I don't even know if ...</td>\n",
       "      <td>NaN</td>\n",
       "    </tr>\n",
       "    <tr>\n",
       "      <th>1</th>\n",
       "      <td>t3_m4xbqg</td>\n",
       "      <td>HIMYM</td>\n",
       "      <td>Farhampton</td>\n",
       "      <td>NaN</td>\n",
       "    </tr>\n",
       "    <tr>\n",
       "      <th>2</th>\n",
       "      <td>t3_m50wtk</td>\n",
       "      <td>HIMYM</td>\n",
       "      <td>barney, what do you do for living? tell us 😡</td>\n",
       "      <td>NaN</td>\n",
       "    </tr>\n",
       "    <tr>\n",
       "      <th>3</th>\n",
       "      <td>t3_m5ggeo</td>\n",
       "      <td>HIMYM</td>\n",
       "      <td>Marshall is so lame sometimes and yet so funny 🙈🙈</td>\n",
       "      <td>NaN</td>\n",
       "    </tr>\n",
       "    <tr>\n",
       "      <th>4</th>\n",
       "      <td>t3_m4nauj</td>\n",
       "      <td>HIMYM</td>\n",
       "      <td>This submission on a BuzzFeed article called “...</td>\n",
       "      <td>NaN</td>\n",
       "    </tr>\n",
       "    <tr>\n",
       "      <th>...</th>\n",
       "      <td>...</td>\n",
       "      <td>...</td>\n",
       "      <td>...</td>\n",
       "      <td>...</td>\n",
       "    </tr>\n",
       "    <tr>\n",
       "      <th>1876</th>\n",
       "      <td>t3_k0onlb</td>\n",
       "      <td>bigbangtheory</td>\n",
       "      <td>Leonard</td>\n",
       "      <td>unpopular opinion Leonards a pussy</td>\n",
       "    </tr>\n",
       "    <tr>\n",
       "      <th>1877</th>\n",
       "      <td>t3_jzqzn3</td>\n",
       "      <td>bigbangtheory</td>\n",
       "      <td>Lenny, Lenny, Lenny</td>\n",
       "      <td>NaN</td>\n",
       "    </tr>\n",
       "    <tr>\n",
       "      <th>1878</th>\n",
       "      <td>t3_k0mg59</td>\n",
       "      <td>bigbangtheory</td>\n",
       "      <td>OMG!!!!! I watched in the wrong way</td>\n",
       "      <td>Am I the only who watched young sheldon first ...</td>\n",
       "    </tr>\n",
       "    <tr>\n",
       "      <th>1879</th>\n",
       "      <td>t3_k0g4ke</td>\n",
       "      <td>bigbangtheory</td>\n",
       "      <td>I feel at home whenever I see this quilt throu...</td>\n",
       "      <td>NaN</td>\n",
       "    </tr>\n",
       "    <tr>\n",
       "      <th>1880</th>\n",
       "      <td>t3_k05b5j</td>\n",
       "      <td>bigbangtheory</td>\n",
       "      <td>😂</td>\n",
       "      <td>NaN</td>\n",
       "    </tr>\n",
       "  </tbody>\n",
       "</table>\n",
       "<p>1881 rows × 4 columns</p>\n",
       "</div>"
      ],
      "text/plain": [
       "           name      subreddit  \\\n",
       "0     t3_m5dk47          HIMYM   \n",
       "1     t3_m4xbqg          HIMYM   \n",
       "2     t3_m50wtk          HIMYM   \n",
       "3     t3_m5ggeo          HIMYM   \n",
       "4     t3_m4nauj          HIMYM   \n",
       "...         ...            ...   \n",
       "1876  t3_k0onlb  bigbangtheory   \n",
       "1877  t3_jzqzn3  bigbangtheory   \n",
       "1878  t3_k0mg59  bigbangtheory   \n",
       "1879  t3_k0g4ke  bigbangtheory   \n",
       "1880  t3_k05b5j  bigbangtheory   \n",
       "\n",
       "                                                  title  \\\n",
       "0     \"But I... look, I don't, I don't even know if ...   \n",
       "1                                            Farhampton   \n",
       "2          barney, what do you do for living? tell us 😡   \n",
       "3     Marshall is so lame sometimes and yet so funny 🙈🙈   \n",
       "4     This submission on a BuzzFeed article called “...   \n",
       "...                                                 ...   \n",
       "1876                                            Leonard   \n",
       "1877                                Lenny, Lenny, Lenny   \n",
       "1878                OMG!!!!! I watched in the wrong way   \n",
       "1879  I feel at home whenever I see this quilt throu...   \n",
       "1880                                                  😂   \n",
       "\n",
       "                                               selftext  \n",
       "0                                                   NaN  \n",
       "1                                                   NaN  \n",
       "2                                                   NaN  \n",
       "3                                                   NaN  \n",
       "4                                                   NaN  \n",
       "...                                                 ...  \n",
       "1876                 unpopular opinion Leonards a pussy  \n",
       "1877                                                NaN  \n",
       "1878  Am I the only who watched young sheldon first ...  \n",
       "1879                                                NaN  \n",
       "1880                                                NaN  \n",
       "\n",
       "[1881 rows x 4 columns]"
      ]
     },
     "execution_count": 200,
     "metadata": {},
     "output_type": "execute_result"
    }
   ],
   "source": [
    "data"
   ]
  },
  {
   "cell_type": "code",
   "execution_count": 201,
   "metadata": {},
   "outputs": [
    {
     "name": "stdout",
     "output_type": "stream",
     "text": [
      "<class 'pandas.core.frame.DataFrame'>\n",
      "RangeIndex: 1881 entries, 0 to 1880\n",
      "Data columns (total 4 columns):\n",
      " #   Column     Non-Null Count  Dtype \n",
      "---  ------     --------------  ----- \n",
      " 0   name       1881 non-null   object\n",
      " 1   subreddit  1881 non-null   object\n",
      " 2   title      1881 non-null   object\n",
      " 3   selftext   954 non-null    object\n",
      "dtypes: object(4)\n",
      "memory usage: 58.9+ KB\n"
     ]
    }
   ],
   "source": [
    "data.info()"
   ]
  },
  {
   "cell_type": "code",
   "execution_count": 202,
   "metadata": {},
   "outputs": [],
   "source": [
    "data['selftext'] = data['selftext'].fillna('')"
   ]
  },
  {
   "cell_type": "code",
   "execution_count": 203,
   "metadata": {
    "scrolled": false
   },
   "outputs": [
    {
     "name": "stdout",
     "output_type": "stream",
     "text": [
      "<class 'pandas.core.frame.DataFrame'>\n",
      "RangeIndex: 1881 entries, 0 to 1880\n",
      "Data columns (total 4 columns):\n",
      " #   Column     Non-Null Count  Dtype \n",
      "---  ------     --------------  ----- \n",
      " 0   name       1881 non-null   object\n",
      " 1   subreddit  1881 non-null   object\n",
      " 2   title      1881 non-null   object\n",
      " 3   selftext   1881 non-null   object\n",
      "dtypes: object(4)\n",
      "memory usage: 58.9+ KB\n"
     ]
    }
   ],
   "source": [
    "data.info()"
   ]
  },
  {
   "cell_type": "code",
   "execution_count": 204,
   "metadata": {},
   "outputs": [
    {
     "data": {
      "text/html": [
       "<div>\n",
       "<style scoped>\n",
       "    .dataframe tbody tr th:only-of-type {\n",
       "        vertical-align: middle;\n",
       "    }\n",
       "\n",
       "    .dataframe tbody tr th {\n",
       "        vertical-align: top;\n",
       "    }\n",
       "\n",
       "    .dataframe thead th {\n",
       "        text-align: right;\n",
       "    }\n",
       "</style>\n",
       "<table border=\"1\" class=\"dataframe\">\n",
       "  <thead>\n",
       "    <tr style=\"text-align: right;\">\n",
       "      <th></th>\n",
       "      <th>name</th>\n",
       "      <th>subreddit</th>\n",
       "      <th>title</th>\n",
       "      <th>selftext</th>\n",
       "    </tr>\n",
       "  </thead>\n",
       "  <tbody>\n",
       "    <tr>\n",
       "      <th>0</th>\n",
       "      <td>t3_m5dk47</td>\n",
       "      <td>1</td>\n",
       "      <td>\"But I... look, I don't, I don't even know if ...</td>\n",
       "      <td></td>\n",
       "    </tr>\n",
       "    <tr>\n",
       "      <th>1</th>\n",
       "      <td>t3_m4xbqg</td>\n",
       "      <td>1</td>\n",
       "      <td>Farhampton</td>\n",
       "      <td></td>\n",
       "    </tr>\n",
       "    <tr>\n",
       "      <th>2</th>\n",
       "      <td>t3_m50wtk</td>\n",
       "      <td>1</td>\n",
       "      <td>barney, what do you do for living? tell us 😡</td>\n",
       "      <td></td>\n",
       "    </tr>\n",
       "    <tr>\n",
       "      <th>3</th>\n",
       "      <td>t3_m5ggeo</td>\n",
       "      <td>1</td>\n",
       "      <td>Marshall is so lame sometimes and yet so funny 🙈🙈</td>\n",
       "      <td></td>\n",
       "    </tr>\n",
       "    <tr>\n",
       "      <th>4</th>\n",
       "      <td>t3_m4nauj</td>\n",
       "      <td>1</td>\n",
       "      <td>This submission on a BuzzFeed article called “...</td>\n",
       "      <td></td>\n",
       "    </tr>\n",
       "  </tbody>\n",
       "</table>\n",
       "</div>"
      ],
      "text/plain": [
       "        name  subreddit                                              title  \\\n",
       "0  t3_m5dk47          1  \"But I... look, I don't, I don't even know if ...   \n",
       "1  t3_m4xbqg          1                                         Farhampton   \n",
       "2  t3_m50wtk          1       barney, what do you do for living? tell us 😡   \n",
       "3  t3_m5ggeo          1  Marshall is so lame sometimes and yet so funny 🙈🙈   \n",
       "4  t3_m4nauj          1  This submission on a BuzzFeed article called “...   \n",
       "\n",
       "  selftext  \n",
       "0           \n",
       "1           \n",
       "2           \n",
       "3           \n",
       "4           "
      ]
     },
     "execution_count": 204,
     "metadata": {},
     "output_type": "execute_result"
    }
   ],
   "source": [
    "data['subreddit'].replace({'HIMYM': 1, 'bigbangtheory': 0}, inplace=True)\n",
    "data.head()"
   ]
  },
  {
   "cell_type": "code",
   "execution_count": 205,
   "metadata": {
    "scrolled": true
   },
   "outputs": [
    {
     "data": {
      "text/html": [
       "<div>\n",
       "<style scoped>\n",
       "    .dataframe tbody tr th:only-of-type {\n",
       "        vertical-align: middle;\n",
       "    }\n",
       "\n",
       "    .dataframe tbody tr th {\n",
       "        vertical-align: top;\n",
       "    }\n",
       "\n",
       "    .dataframe thead th {\n",
       "        text-align: right;\n",
       "    }\n",
       "</style>\n",
       "<table border=\"1\" class=\"dataframe\">\n",
       "  <thead>\n",
       "    <tr style=\"text-align: right;\">\n",
       "      <th></th>\n",
       "      <th>name</th>\n",
       "      <th>subreddit</th>\n",
       "      <th>title</th>\n",
       "      <th>selftext</th>\n",
       "      <th>alltext</th>\n",
       "    </tr>\n",
       "  </thead>\n",
       "  <tbody>\n",
       "    <tr>\n",
       "      <th>0</th>\n",
       "      <td>t3_m5dk47</td>\n",
       "      <td>1</td>\n",
       "      <td>\"But I... look, I don't, I don't even know if ...</td>\n",
       "      <td></td>\n",
       "      <td>\"But I... look, I don't, I don't even know if ...</td>\n",
       "    </tr>\n",
       "    <tr>\n",
       "      <th>1</th>\n",
       "      <td>t3_m4xbqg</td>\n",
       "      <td>1</td>\n",
       "      <td>Farhampton</td>\n",
       "      <td></td>\n",
       "      <td>Farhampton</td>\n",
       "    </tr>\n",
       "    <tr>\n",
       "      <th>2</th>\n",
       "      <td>t3_m50wtk</td>\n",
       "      <td>1</td>\n",
       "      <td>barney, what do you do for living? tell us 😡</td>\n",
       "      <td></td>\n",
       "      <td>barney, what do you do for living? tell us 😡</td>\n",
       "    </tr>\n",
       "    <tr>\n",
       "      <th>3</th>\n",
       "      <td>t3_m5ggeo</td>\n",
       "      <td>1</td>\n",
       "      <td>Marshall is so lame sometimes and yet so funny 🙈🙈</td>\n",
       "      <td></td>\n",
       "      <td>Marshall is so lame sometimes and yet so funny...</td>\n",
       "    </tr>\n",
       "    <tr>\n",
       "      <th>4</th>\n",
       "      <td>t3_m4nauj</td>\n",
       "      <td>1</td>\n",
       "      <td>This submission on a BuzzFeed article called “...</td>\n",
       "      <td></td>\n",
       "      <td>This submission on a BuzzFeed article called “...</td>\n",
       "    </tr>\n",
       "  </tbody>\n",
       "</table>\n",
       "</div>"
      ],
      "text/plain": [
       "        name  subreddit                                              title  \\\n",
       "0  t3_m5dk47          1  \"But I... look, I don't, I don't even know if ...   \n",
       "1  t3_m4xbqg          1                                         Farhampton   \n",
       "2  t3_m50wtk          1       barney, what do you do for living? tell us 😡   \n",
       "3  t3_m5ggeo          1  Marshall is so lame sometimes and yet so funny 🙈🙈   \n",
       "4  t3_m4nauj          1  This submission on a BuzzFeed article called “...   \n",
       "\n",
       "  selftext                                            alltext  \n",
       "0           \"But I... look, I don't, I don't even know if ...  \n",
       "1                                                 Farhampton   \n",
       "2               barney, what do you do for living? tell us 😡   \n",
       "3           Marshall is so lame sometimes and yet so funny...  \n",
       "4           This submission on a BuzzFeed article called “...  "
      ]
     },
     "execution_count": 205,
     "metadata": {},
     "output_type": "execute_result"
    }
   ],
   "source": [
    "data[\"alltext\"] = data[\"title\"] +' '+ data[\"selftext\"]\n",
    "data.head()"
   ]
  },
  {
   "cell_type": "code",
   "execution_count": 206,
   "metadata": {},
   "outputs": [],
   "source": [
    "def text_to_words(raw_text):\n",
    "    # 1. Remove non-letters\n",
    "    letters_only = re.sub(r\"https?://.+?(\\s|$)\", \"\", raw_text) #removing links\n",
    "    letters_only = re.sub(\"[^a-zA-Z]\", \" \", letters_only) #removing all none letters\n",
    "\n",
    "    # 2. Convert to lower case, split into individual words.\n",
    "    words = letters_only.lower().split()\n",
    "    \n",
    "    # 3. Tokenizing\n",
    "    tokenizer = RegexpTokenizer(r'\\w+')\n",
    "    tokens = tokenizer.tokenize(raw_text)\n",
    "    \n",
    "    # 4. Add on own words to stop words\n",
    "    stopwords = nltk.corpus.stopwords.words('english')\n",
    "    new_stops = ['www','reddit','com','http','episode','season','poll','character','https','characters','know','look','kids',\n",
    "                'watched','even','think', 'make', 'love', 'like', 'time', 'really', 'know']\n",
    "    stopwords.extend(new_stops)\n",
    "    \n",
    "    # 5. Remove stopwords.\n",
    "    meaningful_words = [w for w in words if not w in stopwords]\n",
    "    \n",
    "    # 6. Lemmatizing\n",
    "    lemmatizer = WordNetLemmatizer()\n",
    "    lem = [lemmatizer.lemmatize(i) for i in meaningful_words]\n",
    "    \n",
    "    # 7. Join the words back into one string separated by space, \n",
    "    return(\" \".join(lem))"
   ]
  },
  {
   "cell_type": "code",
   "execution_count": 207,
   "metadata": {},
   "outputs": [],
   "source": [
    "clean_text=[]\n",
    "\n",
    "for text in data['alltext']:\n",
    "    clean_text.append(text_to_words(text))"
   ]
  },
  {
   "cell_type": "code",
   "execution_count": 208,
   "metadata": {},
   "outputs": [
    {
     "data": {
      "text/plain": [
       "['bacon',\n",
       " 'farhampton',\n",
       " 'barney living tell u',\n",
       " 'marshall lame sometimes yet funny',\n",
       " 'submission buzzfeed article called student sharing experience creepy problematic rude professor wow sound familiar']"
      ]
     },
     "execution_count": 208,
     "metadata": {},
     "output_type": "execute_result"
    }
   ],
   "source": [
    "clean_text[0:5]"
   ]
  },
  {
   "cell_type": "code",
   "execution_count": 209,
   "metadata": {},
   "outputs": [
    {
     "data": {
      "text/plain": [
       "'\"Classic Schmosby\" &amp;#x200B;\\n\\nhttps://preview.redd.it/e88p96vgc4n61.jpg?width=500&amp;format=pjpg&amp;auto=webp&amp;s=18b8edaee76be5d4b2e58b551c935cb670414ed6'"
      ]
     },
     "execution_count": 209,
     "metadata": {},
     "output_type": "execute_result"
    }
   ],
   "source": [
    "data.alltext[11]"
   ]
  },
  {
   "cell_type": "code",
   "execution_count": 210,
   "metadata": {},
   "outputs": [
    {
     "data": {
      "text/plain": [
       "'classic schmosby amp x b'"
      ]
     },
     "execution_count": 210,
     "metadata": {},
     "output_type": "execute_result"
    }
   ],
   "source": [
    "clean_text[11]"
   ]
  },
  {
   "cell_type": "code",
   "execution_count": 211,
   "metadata": {
    "scrolled": true
   },
   "outputs": [
    {
     "data": {
      "text/html": [
       "<div>\n",
       "<style scoped>\n",
       "    .dataframe tbody tr th:only-of-type {\n",
       "        vertical-align: middle;\n",
       "    }\n",
       "\n",
       "    .dataframe tbody tr th {\n",
       "        vertical-align: top;\n",
       "    }\n",
       "\n",
       "    .dataframe thead th {\n",
       "        text-align: right;\n",
       "    }\n",
       "</style>\n",
       "<table border=\"1\" class=\"dataframe\">\n",
       "  <thead>\n",
       "    <tr style=\"text-align: right;\">\n",
       "      <th></th>\n",
       "      <th>name</th>\n",
       "      <th>subreddit</th>\n",
       "      <th>title</th>\n",
       "      <th>selftext</th>\n",
       "      <th>alltext</th>\n",
       "      <th>clean_text</th>\n",
       "    </tr>\n",
       "  </thead>\n",
       "  <tbody>\n",
       "    <tr>\n",
       "      <th>0</th>\n",
       "      <td>t3_m5dk47</td>\n",
       "      <td>1</td>\n",
       "      <td>\"But I... look, I don't, I don't even know if ...</td>\n",
       "      <td></td>\n",
       "      <td>\"But I... look, I don't, I don't even know if ...</td>\n",
       "      <td>bacon</td>\n",
       "    </tr>\n",
       "    <tr>\n",
       "      <th>1</th>\n",
       "      <td>t3_m4xbqg</td>\n",
       "      <td>1</td>\n",
       "      <td>Farhampton</td>\n",
       "      <td></td>\n",
       "      <td>Farhampton</td>\n",
       "      <td>farhampton</td>\n",
       "    </tr>\n",
       "    <tr>\n",
       "      <th>2</th>\n",
       "      <td>t3_m50wtk</td>\n",
       "      <td>1</td>\n",
       "      <td>barney, what do you do for living? tell us 😡</td>\n",
       "      <td></td>\n",
       "      <td>barney, what do you do for living? tell us 😡</td>\n",
       "      <td>barney living tell u</td>\n",
       "    </tr>\n",
       "    <tr>\n",
       "      <th>3</th>\n",
       "      <td>t3_m5ggeo</td>\n",
       "      <td>1</td>\n",
       "      <td>Marshall is so lame sometimes and yet so funny 🙈🙈</td>\n",
       "      <td></td>\n",
       "      <td>Marshall is so lame sometimes and yet so funny...</td>\n",
       "      <td>marshall lame sometimes yet funny</td>\n",
       "    </tr>\n",
       "    <tr>\n",
       "      <th>4</th>\n",
       "      <td>t3_m4nauj</td>\n",
       "      <td>1</td>\n",
       "      <td>This submission on a BuzzFeed article called “...</td>\n",
       "      <td></td>\n",
       "      <td>This submission on a BuzzFeed article called “...</td>\n",
       "      <td>submission buzzfeed article called student sha...</td>\n",
       "    </tr>\n",
       "    <tr>\n",
       "      <th>...</th>\n",
       "      <td>...</td>\n",
       "      <td>...</td>\n",
       "      <td>...</td>\n",
       "      <td>...</td>\n",
       "      <td>...</td>\n",
       "      <td>...</td>\n",
       "    </tr>\n",
       "    <tr>\n",
       "      <th>1876</th>\n",
       "      <td>t3_k0onlb</td>\n",
       "      <td>0</td>\n",
       "      <td>Leonard</td>\n",
       "      <td>unpopular opinion Leonards a pussy</td>\n",
       "      <td>Leonard unpopular opinion Leonards a pussy</td>\n",
       "      <td>leonard unpopular opinion leonard pussy</td>\n",
       "    </tr>\n",
       "    <tr>\n",
       "      <th>1877</th>\n",
       "      <td>t3_jzqzn3</td>\n",
       "      <td>0</td>\n",
       "      <td>Lenny, Lenny, Lenny</td>\n",
       "      <td></td>\n",
       "      <td>Lenny, Lenny, Lenny</td>\n",
       "      <td>lenny lenny lenny</td>\n",
       "    </tr>\n",
       "    <tr>\n",
       "      <th>1878</th>\n",
       "      <td>t3_k0mg59</td>\n",
       "      <td>0</td>\n",
       "      <td>OMG!!!!! I watched in the wrong way</td>\n",
       "      <td>Am I the only who watched young sheldon first ...</td>\n",
       "      <td>OMG!!!!! I watched in the wrong way Am I the o...</td>\n",
       "      <td>omg wrong way young sheldon first watching big...</td>\n",
       "    </tr>\n",
       "    <tr>\n",
       "      <th>1879</th>\n",
       "      <td>t3_k0g4ke</td>\n",
       "      <td>0</td>\n",
       "      <td>I feel at home whenever I see this quilt throu...</td>\n",
       "      <td></td>\n",
       "      <td>I feel at home whenever I see this quilt throu...</td>\n",
       "      <td>feel home whenever see quilt throughout tv his...</td>\n",
       "    </tr>\n",
       "    <tr>\n",
       "      <th>1880</th>\n",
       "      <td>t3_k05b5j</td>\n",
       "      <td>0</td>\n",
       "      <td>😂</td>\n",
       "      <td></td>\n",
       "      <td>😂</td>\n",
       "      <td></td>\n",
       "    </tr>\n",
       "  </tbody>\n",
       "</table>\n",
       "<p>1881 rows × 6 columns</p>\n",
       "</div>"
      ],
      "text/plain": [
       "           name  subreddit                                              title  \\\n",
       "0     t3_m5dk47          1  \"But I... look, I don't, I don't even know if ...   \n",
       "1     t3_m4xbqg          1                                         Farhampton   \n",
       "2     t3_m50wtk          1       barney, what do you do for living? tell us 😡   \n",
       "3     t3_m5ggeo          1  Marshall is so lame sometimes and yet so funny 🙈🙈   \n",
       "4     t3_m4nauj          1  This submission on a BuzzFeed article called “...   \n",
       "...         ...        ...                                                ...   \n",
       "1876  t3_k0onlb          0                                            Leonard   \n",
       "1877  t3_jzqzn3          0                                Lenny, Lenny, Lenny   \n",
       "1878  t3_k0mg59          0                OMG!!!!! I watched in the wrong way   \n",
       "1879  t3_k0g4ke          0  I feel at home whenever I see this quilt throu...   \n",
       "1880  t3_k05b5j          0                                                  😂   \n",
       "\n",
       "                                               selftext  \\\n",
       "0                                                         \n",
       "1                                                         \n",
       "2                                                         \n",
       "3                                                         \n",
       "4                                                         \n",
       "...                                                 ...   \n",
       "1876                 unpopular opinion Leonards a pussy   \n",
       "1877                                                      \n",
       "1878  Am I the only who watched young sheldon first ...   \n",
       "1879                                                      \n",
       "1880                                                      \n",
       "\n",
       "                                                alltext  \\\n",
       "0     \"But I... look, I don't, I don't even know if ...   \n",
       "1                                           Farhampton    \n",
       "2         barney, what do you do for living? tell us 😡    \n",
       "3     Marshall is so lame sometimes and yet so funny...   \n",
       "4     This submission on a BuzzFeed article called “...   \n",
       "...                                                 ...   \n",
       "1876         Leonard unpopular opinion Leonards a pussy   \n",
       "1877                               Lenny, Lenny, Lenny    \n",
       "1878  OMG!!!!! I watched in the wrong way Am I the o...   \n",
       "1879  I feel at home whenever I see this quilt throu...   \n",
       "1880                                                 😂    \n",
       "\n",
       "                                             clean_text  \n",
       "0                                                 bacon  \n",
       "1                                            farhampton  \n",
       "2                                  barney living tell u  \n",
       "3                     marshall lame sometimes yet funny  \n",
       "4     submission buzzfeed article called student sha...  \n",
       "...                                                 ...  \n",
       "1876            leonard unpopular opinion leonard pussy  \n",
       "1877                                  lenny lenny lenny  \n",
       "1878  omg wrong way young sheldon first watching big...  \n",
       "1879  feel home whenever see quilt throughout tv his...  \n",
       "1880                                                     \n",
       "\n",
       "[1881 rows x 6 columns]"
      ]
     },
     "execution_count": 211,
     "metadata": {},
     "output_type": "execute_result"
    }
   ],
   "source": [
    "data['clean_text'] = clean_text\n",
    "data"
   ]
  },
  {
   "cell_type": "markdown",
   "metadata": {},
   "source": [
    "---\n",
    "# Data Visualization\n",
    "\n",
    "In this section I will be creating visualization to represent the word frequency, count and common words through the use of word clouds, bar chart and veen diagrams."
   ]
  },
  {
   "cell_type": "markdown",
   "metadata": {},
   "source": [
    "### Word Cloud"
   ]
  },
  {
   "cell_type": "markdown",
   "metadata": {},
   "source": [
    "The word that are showed the most in both shows are characters, importan plot line, oneliner or important settings of the shows:"
   ]
  },
  {
   "cell_type": "code",
   "execution_count": 212,
   "metadata": {},
   "outputs": [],
   "source": [
    "from wordcloud import WordCloud, STOPWORDS\n",
    "stopwords = set(STOPWORDS)\n",
    "\n",
    "def draw_wordcloud(data, plot_title=None):\n",
    "    wordcloud = WordCloud(\n",
    "        scale=7,\n",
    "        max_words=1000,\n",
    "        stopwords=stopwords,\n",
    "        width = 800,\n",
    "        height = 800,\n",
    "        background_color='floralwhite',\n",
    "        colormap='Reds',\n",
    "        contour_width=3,\n",
    "        contour_color='crimson').generate(data)\n",
    "    \n",
    "    plt.figure(figsize=(16,10), facecolor='white')\n",
    "    plt.imshow(wordcloud)\n",
    "    plt.title(plot_title, fontsize=20, pad=50)\n",
    "    plt.axis(\"off\")\n",
    "    plt.show()"
   ]
  },
  {
   "cell_type": "code",
   "execution_count": 213,
   "metadata": {},
   "outputs": [
    {
     "data": {
      "image/png": "[encoded data removed]",
      "text/plain": [
       "<Figure size 1152x720 with 1 Axes>"
      ]
     },
     "metadata": {},
     "output_type": "display_data"
    }
   ],
   "source": [
    "draw_wordcloud(str(data[data.subreddit==1].clean_text),plot_title='Word Cloud for /r/HIMYM')"
   ]
  },
  {
   "cell_type": "code",
   "execution_count": 214,
   "metadata": {},
   "outputs": [
    {
     "data": {
      "image/png": "[encoded data removed]",
      "text/plain": [
       "<Figure size 1152x720 with 1 Axes>"
      ]
     },
     "metadata": {},
     "output_type": "display_data"
    }
   ],
   "source": [
    "draw_wordcloud(str(data[data.subreddit==0].clean_text),plot_title='Word Cloud for /r/bigbangtheory')"
   ]
  },
  {
   "cell_type": "markdown",
   "metadata": {},
   "source": [
    "### Word Counts"
   ]
  },
  {
   "cell_type": "markdown",
   "metadata": {},
   "source": [
    "In the word count we can see that the most repeated words are mostly characters from each shows:"
   ]
  },
  {
   "cell_type": "code",
   "execution_count": 215,
   "metadata": {},
   "outputs": [],
   "source": [
    "from sklearn.feature_extraction.text import CountVectorizer, TfidfVectorizer\n",
    "\n",
    "cvec = CountVectorizer(stop_words='english')\n",
    "\n",
    "tvec = TfidfVectorizer(stop_words='english')"
   ]
  },
  {
   "cell_type": "code",
   "execution_count": 216,
   "metadata": {},
   "outputs": [
    {
     "data": {
      "text/plain": [
       "ted         489\n",
       "robin       364\n",
       "barney      334\n",
       "lily        191\n",
       "marshall    180\n",
       "himym       162\n",
       "ending      118\n",
       "year         99\n",
       "scene        91\n",
       "tracy        88\n",
       "dtype: int64"
      ]
     },
     "execution_count": 216,
     "metadata": {},
     "output_type": "execute_result"
    }
   ],
   "source": [
    "#himym cvec count\n",
    "cvec_himym = cvec.fit_transform(data[data.subreddit==1].clean_text)\n",
    "cvec_df = pd.DataFrame(cvec_himym.todense(),columns=cvec.get_feature_names())\n",
    "cvec_himym_count = cvec_df.sum(axis=0)\n",
    "cvec_himym_count.sort_values(ascending=False).head(10)"
   ]
  },
  {
   "cell_type": "code",
   "execution_count": 217,
   "metadata": {},
   "outputs": [
    {
     "data": {
      "text/plain": [
       "ted         36.378108\n",
       "barney      31.112751\n",
       "robin       29.905098\n",
       "himym       20.949044\n",
       "marshall    20.157860\n",
       "lily        18.623875\n",
       "view        18.347154\n",
       "scene       16.384731\n",
       "ending      14.562348\n",
       "best        12.359381\n",
       "dtype: float64"
      ]
     },
     "execution_count": 217,
     "metadata": {},
     "output_type": "execute_result"
    }
   ],
   "source": [
    "#himym tvec count\n",
    "tvec_himym = tvec.fit_transform(data[data.subreddit==1].clean_text)\n",
    "tvec_df = pd.DataFrame(tvec_himym.todense(),columns=tvec.get_feature_names())\n",
    "tvec_himym_count = tvec_df.sum(axis=0)\n",
    "tvec_himym_count.sort_values(ascending=False).head(10)"
   ]
  },
  {
   "cell_type": "code",
   "execution_count": 218,
   "metadata": {},
   "outputs": [
    {
     "data": {
      "text/plain": [
       "sheldon    547\n",
       "penny      255\n",
       "leonard    238\n",
       "howard     162\n",
       "amy        157\n",
       "big        150\n",
       "raj        147\n",
       "bang       138\n",
       "theory     135\n",
       "guy         79\n",
       "dtype: int64"
      ]
     },
     "execution_count": 218,
     "metadata": {},
     "output_type": "execute_result"
    }
   ],
   "source": [
    "#bigbang cvec count\n",
    "cvec_bbt = cvec.fit_transform(data[data.subreddit==0].clean_text)\n",
    "cvec_df = pd.DataFrame(cvec_bbt.todense(),columns=cvec.get_feature_names())\n",
    "cvec_bbt_count = cvec_df.sum(axis=0)\n",
    "cvec_bbt_count.sort_values(ascending=False).head(10)"
   ]
  },
  {
   "cell_type": "code",
   "execution_count": 219,
   "metadata": {},
   "outputs": [
    {
     "data": {
      "text/plain": [
       "sheldon    58.510322\n",
       "penny      28.611647\n",
       "leonard    26.874159\n",
       "big        23.211215\n",
       "bang       22.892721\n",
       "howard     22.720196\n",
       "theory     22.135693\n",
       "view       18.799604\n",
       "raj        18.620969\n",
       "best       16.697760\n",
       "dtype: float64"
      ]
     },
     "execution_count": 219,
     "metadata": {},
     "output_type": "execute_result"
    }
   ],
   "source": [
    "#bigbang tvec count\n",
    "tvec_bbt = tvec.fit_transform(data[data.subreddit==0].clean_text)\n",
    "tvec_df = pd.DataFrame(tvec_bbt.todense(),columns=tvec.get_feature_names())\n",
    "tvec_bbt_count = tvec_df.sum(axis=0)\n",
    "tvec_bbt_count.sort_values(ascending=False).head(10)"
   ]
  },
  {
   "cell_type": "code",
   "execution_count": 220,
   "metadata": {},
   "outputs": [],
   "source": [
    "def word_count(cvec_data,tvec_data,title1,title2):\n",
    "    plt.figure(figsize=(22,16), facecolor='white')\n",
    "\n",
    "    plt.subplot(2,2,1)\n",
    "    cvec_data.sort_values().tail(10).plot(kind='barh')\n",
    "    plt.title(title1)\n",
    "    plt.xlabel('Count')\n",
    "    plt.ylabel('Word')\n",
    "\n",
    "    plt.subplot(2,2,2)\n",
    "    tvec_data.sort_values().tail(10).plot(kind='barh')\n",
    "    plt.title(title2)\n",
    "    plt.xlabel('TFIDF Value')\n",
    "    plt.ylabel('Word')\n",
    "\n",
    "    plt.tight_layout()"
   ]
  },
  {
   "cell_type": "code",
   "execution_count": 221,
   "metadata": {},
   "outputs": [
    {
     "data": {
      "image/png": "[encoded data removed]",
      "text/plain": [
       "<Figure size 1584x1152 with 2 Axes>"
      ]
     },
     "metadata": {},
     "output_type": "display_data"
    }
   ],
   "source": [
    "word_count(cvec_data=cvec_himym_count,tvec_data=tvec_himym_count,title1='Top 10 Words in HIMYM',title2='Top 10 TFIDF Values in HIMYM')"
   ]
  },
  {
   "cell_type": "code",
   "execution_count": 222,
   "metadata": {
    "scrolled": false
   },
   "outputs": [
    {
     "data": {
      "image/png": "[encoded data removed]",
      "text/plain": [
       "<Figure size 1584x1152 with 2 Axes>"
      ]
     },
     "metadata": {},
     "output_type": "display_data"
    }
   ],
   "source": [
    "word_count(cvec_data=cvec_bbt_count,tvec_data=tvec_bbt_count,title1='Top 10 Words in Big Bang Theory',title2='Top 10 TFIDF Values in Big Bang Theory')"
   ]
  },
  {
   "cell_type": "markdown",
   "metadata": {},
   "source": [
    "### Word Frequencies\n",
    "\n",
    "The word count allow us to defined how many times a word is repeated however, it is hard to understand from just count. So I will be exploring how many time the word is repeted in proportion to the toal word count shown as frequency in %:"
   ]
  },
  {
   "cell_type": "code",
   "execution_count": 223,
   "metadata": {},
   "outputs": [
    {
     "data": {
      "text/html": [
       "<div>\n",
       "<style scoped>\n",
       "    .dataframe tbody tr th:only-of-type {\n",
       "        vertical-align: middle;\n",
       "    }\n",
       "\n",
       "    .dataframe tbody tr th {\n",
       "        vertical-align: top;\n",
       "    }\n",
       "\n",
       "    .dataframe thead th {\n",
       "        text-align: right;\n",
       "    }\n",
       "</style>\n",
       "<table border=\"1\" class=\"dataframe\">\n",
       "  <thead>\n",
       "    <tr style=\"text-align: right;\">\n",
       "      <th></th>\n",
       "      <th>words</th>\n",
       "      <th>count</th>\n",
       "      <th>freq</th>\n",
       "    </tr>\n",
       "  </thead>\n",
       "  <tbody>\n",
       "    <tr>\n",
       "      <th>3291</th>\n",
       "      <td>ted</td>\n",
       "      <td>489</td>\n",
       "      <td>13.230519</td>\n",
       "    </tr>\n",
       "    <tr>\n",
       "      <th>2753</th>\n",
       "      <td>robin</td>\n",
       "      <td>364</td>\n",
       "      <td>9.848485</td>\n",
       "    </tr>\n",
       "    <tr>\n",
       "      <th>257</th>\n",
       "      <td>barney</td>\n",
       "      <td>334</td>\n",
       "      <td>9.036797</td>\n",
       "    </tr>\n",
       "    <tr>\n",
       "      <th>1891</th>\n",
       "      <td>lily</td>\n",
       "      <td>191</td>\n",
       "      <td>5.167749</td>\n",
       "    </tr>\n",
       "    <tr>\n",
       "      <th>2005</th>\n",
       "      <td>marshall</td>\n",
       "      <td>180</td>\n",
       "      <td>4.870130</td>\n",
       "    </tr>\n",
       "    <tr>\n",
       "      <th>...</th>\n",
       "      <td>...</td>\n",
       "      <td>...</td>\n",
       "      <td>...</td>\n",
       "    </tr>\n",
       "    <tr>\n",
       "      <th>1606</th>\n",
       "      <td>icon</td>\n",
       "      <td>1</td>\n",
       "      <td>0.027056</td>\n",
       "    </tr>\n",
       "    <tr>\n",
       "      <th>1609</th>\n",
       "      <td>ideally</td>\n",
       "      <td>1</td>\n",
       "      <td>0.027056</td>\n",
       "    </tr>\n",
       "    <tr>\n",
       "      <th>1610</th>\n",
       "      <td>identify</td>\n",
       "      <td>1</td>\n",
       "      <td>0.027056</td>\n",
       "    </tr>\n",
       "    <tr>\n",
       "      <th>1611</th>\n",
       "      <td>identity</td>\n",
       "      <td>1</td>\n",
       "      <td>0.027056</td>\n",
       "    </tr>\n",
       "    <tr>\n",
       "      <th>3695</th>\n",
       "      <td>zoom</td>\n",
       "      <td>1</td>\n",
       "      <td>0.027056</td>\n",
       "    </tr>\n",
       "  </tbody>\n",
       "</table>\n",
       "<p>3696 rows × 3 columns</p>\n",
       "</div>"
      ],
      "text/plain": [
       "         words  count       freq\n",
       "3291       ted    489  13.230519\n",
       "2753     robin    364   9.848485\n",
       "257     barney    334   9.036797\n",
       "1891      lily    191   5.167749\n",
       "2005  marshall    180   4.870130\n",
       "...        ...    ...        ...\n",
       "1606      icon      1   0.027056\n",
       "1609   ideally      1   0.027056\n",
       "1610  identify      1   0.027056\n",
       "1611  identity      1   0.027056\n",
       "3695      zoom      1   0.027056\n",
       "\n",
       "[3696 rows x 3 columns]"
      ]
     },
     "execution_count": 223,
     "metadata": {},
     "output_type": "execute_result"
    }
   ],
   "source": [
    "himym_freq = pd.DataFrame(cvec_himym_count)\n",
    "himym_freq.reset_index(inplace=True)\n",
    "himym_freq.rename(columns = {'index':'words',0:'count'},inplace = True)\n",
    "himym_freq['freq'] = himym_freq['count'] / len(cvec_himym_count) * 100\n",
    "himym_freq.sort_values(by='count',ascending=False, inplace=True)\n",
    "himym_freq"
   ]
  },
  {
   "cell_type": "code",
   "execution_count": 224,
   "metadata": {},
   "outputs": [
    {
     "data": {
      "text/html": [
       "<div>\n",
       "<style scoped>\n",
       "    .dataframe tbody tr th:only-of-type {\n",
       "        vertical-align: middle;\n",
       "    }\n",
       "\n",
       "    .dataframe tbody tr th {\n",
       "        vertical-align: top;\n",
       "    }\n",
       "\n",
       "    .dataframe thead th {\n",
       "        text-align: right;\n",
       "    }\n",
       "</style>\n",
       "<table border=\"1\" class=\"dataframe\">\n",
       "  <thead>\n",
       "    <tr style=\"text-align: right;\">\n",
       "      <th></th>\n",
       "      <th>words</th>\n",
       "      <th>count</th>\n",
       "      <th>freq</th>\n",
       "    </tr>\n",
       "  </thead>\n",
       "  <tbody>\n",
       "    <tr>\n",
       "      <th>3075</th>\n",
       "      <td>sheldon</td>\n",
       "      <td>547</td>\n",
       "      <td>14.304393</td>\n",
       "    </tr>\n",
       "    <tr>\n",
       "      <th>2476</th>\n",
       "      <td>penny</td>\n",
       "      <td>255</td>\n",
       "      <td>6.668410</td>\n",
       "    </tr>\n",
       "    <tr>\n",
       "      <th>1994</th>\n",
       "      <td>leonard</td>\n",
       "      <td>238</td>\n",
       "      <td>6.223849</td>\n",
       "    </tr>\n",
       "    <tr>\n",
       "      <th>1682</th>\n",
       "      <td>howard</td>\n",
       "      <td>162</td>\n",
       "      <td>4.236402</td>\n",
       "    </tr>\n",
       "    <tr>\n",
       "      <th>127</th>\n",
       "      <td>amy</td>\n",
       "      <td>157</td>\n",
       "      <td>4.105649</td>\n",
       "    </tr>\n",
       "    <tr>\n",
       "      <th>...</th>\n",
       "      <td>...</td>\n",
       "      <td>...</td>\n",
       "      <td>...</td>\n",
       "    </tr>\n",
       "    <tr>\n",
       "      <th>964</th>\n",
       "      <td>disappeared</td>\n",
       "      <td>1</td>\n",
       "      <td>0.026151</td>\n",
       "    </tr>\n",
       "    <tr>\n",
       "      <th>2305</th>\n",
       "      <td>nicety</td>\n",
       "      <td>1</td>\n",
       "      <td>0.026151</td>\n",
       "    </tr>\n",
       "    <tr>\n",
       "      <th>2304</th>\n",
       "      <td>nicer</td>\n",
       "      <td>1</td>\n",
       "      <td>0.026151</td>\n",
       "    </tr>\n",
       "    <tr>\n",
       "      <th>2303</th>\n",
       "      <td>niceguys</td>\n",
       "      <td>1</td>\n",
       "      <td>0.026151</td>\n",
       "    </tr>\n",
       "    <tr>\n",
       "      <th>746</th>\n",
       "      <td>convince</td>\n",
       "      <td>1</td>\n",
       "      <td>0.026151</td>\n",
       "    </tr>\n",
       "  </tbody>\n",
       "</table>\n",
       "<p>3824 rows × 3 columns</p>\n",
       "</div>"
      ],
      "text/plain": [
       "            words  count       freq\n",
       "3075      sheldon    547  14.304393\n",
       "2476        penny    255   6.668410\n",
       "1994      leonard    238   6.223849\n",
       "1682       howard    162   4.236402\n",
       "127           amy    157   4.105649\n",
       "...           ...    ...        ...\n",
       "964   disappeared      1   0.026151\n",
       "2305       nicety      1   0.026151\n",
       "2304        nicer      1   0.026151\n",
       "2303     niceguys      1   0.026151\n",
       "746      convince      1   0.026151\n",
       "\n",
       "[3824 rows x 3 columns]"
      ]
     },
     "execution_count": 224,
     "metadata": {},
     "output_type": "execute_result"
    }
   ],
   "source": [
    "bbt_freq = pd.DataFrame(cvec_bbt_count)\n",
    "bbt_freq.reset_index(inplace=True)\n",
    "bbt_freq.rename(columns = {'index':'words',0:'count'},inplace = True)\n",
    "bbt_freq['freq'] = bbt_freq['count'] / len(cvec_bbt_count) * 100\n",
    "bbt_freq.sort_values(by='count',ascending=False, inplace=True)\n",
    "bbt_freq"
   ]
  },
  {
   "cell_type": "code",
   "execution_count": 225,
   "metadata": {},
   "outputs": [
    {
     "data": {
      "image/png": "[encoded data removed]",
      "text/plain": [
       "<Figure size 720x720 with 1 Axes>"
      ]
     },
     "metadata": {
      "needs_background": "light"
     },
     "output_type": "display_data"
    }
   ],
   "source": [
    "plt.figure(figsize=(10,10))\n",
    "plt.title('HIMYM Top 20 Words by Frequencies of Apperance',fontsize=25)\n",
    "\n",
    "sns.barplot(data=himym_freq.head(10),x='freq',y='words',orient='h')\n",
    "\n",
    "plt.xlabel('Frequency (%)',fontsize=10)\n",
    "plt.ylabel('Words',fontsize=20)\n",
    "plt.tick_params(labelsize=15)"
   ]
  },
  {
   "cell_type": "code",
   "execution_count": 226,
   "metadata": {
    "scrolled": false
   },
   "outputs": [
    {
     "data": {
      "image/png": "[encoded data removed]",
      "text/plain": [
       "<Figure size 720x720 with 1 Axes>"
      ]
     },
     "metadata": {
      "needs_background": "light"
     },
     "output_type": "display_data"
    }
   ],
   "source": [
    "plt.figure(figsize=(10,10))\n",
    "plt.title('Big Bang Theory Top 10 Words by Frequencies of Apperance',fontsize=25)\n",
    "\n",
    "sns.barplot(data=bbt_freq.head(10),x='freq',y='words',orient='h')\n",
    "\n",
    "plt.xlabel('Frequency (%)',fontsize=20)\n",
    "plt.ylabel('Words',fontsize=20)\n",
    "plt.tick_params(labelsize=15)"
   ]
  },
  {
   "cell_type": "markdown",
   "metadata": {},
   "source": [
    "### Venn Diagram\n",
    "\n",
    "By knowing the count and frquency of each words we see that there are some trends in what shows up more often like character names or location names. So I wonder if there are any over lapping words from both shows:"
   ]
  },
  {
   "cell_type": "code",
   "execution_count": 227,
   "metadata": {},
   "outputs": [],
   "source": [
    "set1 = set(himym_freq.words.head(20))\n",
    "set2 = set(bbt_freq.words.head(20))"
   ]
  },
  {
   "cell_type": "code",
   "execution_count": 228,
   "metadata": {
    "scrolled": false
   },
   "outputs": [
    {
     "data": {
      "image/png": "[encoded data removed]",
      "text/plain": [
       "<Figure size 864x720 with 1 Axes>"
      ]
     },
     "metadata": {},
     "output_type": "display_data"
    }
   ],
   "source": [
    "plt.figure(figsize=(12,10))\n",
    "plt.title('Common Words',fontsize=25)   \n",
    "\n",
    "venn = venn2([set1, set2], (\"HIMYM\", \"BigBangTheory\"))\n",
    "venn.get_label_by_id('10').set_text('\\n'.join(set1-set2))\n",
    "venn.get_label_by_id('01').set_text('\\n'.join(set2-set1))\n",
    "venn.get_label_by_id('11').set_text('\\n'.join(set2&set1))"
   ]
  },
  {
   "cell_type": "markdown",
   "metadata": {},
   "source": [
    "From the first venn diagram produced there were overlapping words that can be removed to make the estimations better including words like: think, make, love, like, time, really, know."
   ]
  },
  {
   "cell_type": "markdown",
   "metadata": {},
   "source": [
    "---\n",
    "\n",
    "# Modeling\n",
    "\n",
    "In this section I will be using estimators to create prediction models to predict which posts belong in which subreddit. I have create a modeling fuction called 'modeling' that automates different estimators and vectorized with customized parameters input, and print out each model accuracy score. \n",
    "\n",
    "The model is being judged on their accuracy score and confusion matrix."
   ]
  },
  {
   "cell_type": "code",
   "execution_count": 229,
   "metadata": {},
   "outputs": [],
   "source": [
    "from sklearn.preprocessing import StandardScaler, PolynomialFeatures\n",
    "from sklearn.model_selection import train_test_split, cross_val_score, cross_val_predict\n",
    "from sklearn import metrics\n",
    "from sklearn.linear_model import LinearRegression\n",
    "from sklearn.linear_model import Ridge, RidgeCV, Lasso, LassoCV,  ElasticNet\n",
    "from sklearn.linear_model import LogisticRegression, LogisticRegressionCV\n",
    "from sklearn.neighbors import KNeighborsClassifier\n",
    "from sklearn.naive_bayes import MultinomialNB\n",
    "\n",
    "from sklearn.model_selection import GridSearchCV \n",
    "from sklearn.pipeline import Pipeline\n",
    "\n",
    "from sklearn.metrics import confusion_matrix"
   ]
  },
  {
   "cell_type": "code",
   "execution_count": 230,
   "metadata": {},
   "outputs": [
    {
     "name": "stdout",
     "output_type": "stream",
     "text": [
      "There are 1881 reddit posts.\n"
     ]
    }
   ],
   "source": [
    "# Get the number of reviews based on the dataframe size.\n",
    "total_posts = data.shape[0]\n",
    "print(f'There are {total_posts} reddit posts.')"
   ]
  },
  {
   "cell_type": "code",
   "execution_count": 231,
   "metadata": {},
   "outputs": [],
   "source": [
    "X = data[['clean_text']]\n",
    "y = data['subreddit']\n",
    "\n",
    "X_train, X_test, y_train, y_test = train_test_split(X, y, test_size=.2, random_state=42)"
   ]
  },
  {
   "cell_type": "code",
   "execution_count": 232,
   "metadata": {},
   "outputs": [],
   "source": [
    "clean_text_train=[]\n",
    "clean_text_test=[]\n",
    "\n",
    "for text in X_train['clean_text']:\n",
    "    clean_text_train.append(text)\n",
    "    \n",
    "\n",
    "for text in X_test['clean_text']:\n",
    "    clean_text_test.append(text)"
   ]
  },
  {
   "cell_type": "code",
   "execution_count": 233,
   "metadata": {},
   "outputs": [],
   "source": [
    "def modeling(estimator,vectorizer,y_train,max_features=None, min_df=1, max_df=1.0, ngram_range=(1,1),n_neighbors=5):\n",
    "    print('Estimator Used:', estimator)\n",
    "    print('Vectorizer:', vectorizer)\n",
    "    \n",
    "    # Instantiate the transformer.\n",
    "    cvec = CountVectorizer(analyzer = \"word\",\n",
    "                           tokenizer = None,\n",
    "                           preprocessor = None,\n",
    "                           stop_words = None,\n",
    "                           max_features=max_features,\n",
    "                           min_df=min_df,\n",
    "                           max_df=max_df,\n",
    "                           ngram_range=ngram_range) \n",
    "\n",
    "    tvec = TfidfVectorizer(analyzer = \"word\",\n",
    "                           tokenizer = None,\n",
    "                           preprocessor = None,\n",
    "                           stop_words = None,\n",
    "                           max_features=max_features,\n",
    "                           min_df=min_df,\n",
    "                           max_df=max_df,\n",
    "                           ngram_range=ngram_range)\n",
    "    if vectorizer == 'cvec':\n",
    "        train_data_features = cvec.fit_transform(clean_text_train)\n",
    "        test_data_features = cvec.transform(clean_text_test)\n",
    "        print('Train Data Shape',train_data_features.shape)\n",
    "        print('Test Data Shape',test_data_features.shape)\n",
    "        \n",
    "    elif vectorizer == 'tvec':\n",
    "        train_data_features = tvec.fit_transform(clean_text_train)\n",
    "        test_data_features = tvec.transform(clean_text_test)\n",
    "        print('Train Data Shape',train_data_features.shape)\n",
    "        print('Test Data Shape',test_data_features.shape)\n",
    "    \n",
    "    if estimator == 'log':\n",
    "        log = LogisticRegression(solver = 'lbfgs')\n",
    "        log.fit(train_data_features, y_train)\n",
    "        print('Train Logistic regression Accuracy:', cross_val_score(log,train_data_features,y_train,cv=5).mean())\n",
    "        print('Test Logistic regression Accuracy:', cross_val_score(log,test_data_features, y_test,cv=5).mean())\n",
    "        return log.predict(test_data_features)\n",
    "    \n",
    "    elif estimator == 'knn':\n",
    "        knn = KNeighborsClassifier(n_neighbors=n_neighbors)\n",
    "        knn.fit(train_data_features, y_train)\n",
    "        print('Train KNN regression Accuracy:', cross_val_score(knn,train_data_features,y_train,cv=5).mean())\n",
    "        print('Test KNN regression Accuracy:', cross_val_score(knn,test_data_features, y_test,cv=5).mean())\n",
    "        return knn.predict(test_data_features)\n",
    "        \n",
    "    elif estimator == 'bayes':\n",
    "        nb = MultinomialNB()\n",
    "        nb.fit(train_data_features, y_train)\n",
    "        print('Train Naive Bayes regression Accuracy:', cross_val_score(nb,train_data_features,y_train,cv=5).mean())\n",
    "        print('Test Naive Bayes regression Accuracy:', cross_val_score(nb,test_data_features, y_test,cv=5).mean())\n",
    "        return nb.predict(test_data_features)\n",
    "\n",
    "    else:\n",
    "        print('ERROR Parameters')"
   ]
  },
  {
   "cell_type": "code",
   "execution_count": 234,
   "metadata": {},
   "outputs": [],
   "source": [
    "#Creating a Confusion Matrix to understand the prediction\n",
    "def confusion_eval(y_test,prediction):\n",
    "    tn, fp, fn, tp = confusion_matrix(y_test,prediction).ravel()\n",
    "\n",
    "    print('All Data:', len(y_test))\n",
    "    print('Correctly Predict that the post is from HIMYM (TP):',tp)\n",
    "    print('Correctly Predict that the post is from Big Bang Theory (TN):',tn)\n",
    "    print('Incorrectly Predict that the post is from HIMYM (FP):',fp)\n",
    "    print('Incorrectly Predict that the post is from Big Bang Theory (FN):',fn)"
   ]
  },
  {
   "cell_type": "code",
   "execution_count": 235,
   "metadata": {},
   "outputs": [],
   "source": [
    "def confusion_score(y_test,prediction):\n",
    "    tn, fp, fn, tp = confusion_matrix(y_test,prediction).ravel()\n",
    "    \n",
    "    print('Accuracy: {}'.format(round((tp+tn)/(tp+fp+tn+fn),4)))\n",
    "    print('Misclassification rate: {}'.format(round((fp+fn)/(tp+fp+tn+fn),4)))\n",
    "    print('Precision: {}'.format(round(tp/(tp+fp),4)))\n",
    "    print('Recall: {}'.format(round(tp/(tp+fn),4)))\n",
    "    print('Specificity: {}'.format(round(tn/(tn+fp),4)))"
   ]
  },
  {
   "cell_type": "markdown",
   "metadata": {},
   "source": [
    "### Logistic Regression\n",
    "\n",
    "First we will explore Logistic Regression, starting by comparing the vectorizor to see which gives the best accuracy score and will be using that as the default vectorizer and adjust the parameters to find the highest accuracy socre."
   ]
  },
  {
   "cell_type": "code",
   "execution_count": 236,
   "metadata": {
    "scrolled": true
   },
   "outputs": [
    {
     "name": "stdout",
     "output_type": "stream",
     "text": [
      "Estimator Used: log\n",
      "Vectorizer: tvec\n",
      "Train Data Shape (1504, 5322)\n",
      "Test Data Shape (377, 5322)\n",
      "Train Logistic regression Accuracy: 0.8576965669988926\n",
      "Test Logistic regression Accuracy: 0.8197543859649123\n"
     ]
    }
   ],
   "source": [
    "#getting accuracy score\n",
    "predict_log_tvec = modeling(estimator='log',vectorizer='tvec',y_train=y_train)"
   ]
  },
  {
   "cell_type": "code",
   "execution_count": 237,
   "metadata": {
    "scrolled": true
   },
   "outputs": [
    {
     "name": "stdout",
     "output_type": "stream",
     "text": [
      "Estimator Used: log\n",
      "Vectorizer: cvec\n",
      "Train Data Shape (1504, 5322)\n",
      "Test Data Shape (377, 5322)\n",
      "Train Logistic regression Accuracy: 0.8636788482834994\n",
      "Test Logistic regression Accuracy: 0.8170526315789474\n"
     ]
    }
   ],
   "source": [
    "predict_log_cvec = modeling(estimator='log',vectorizer='cvec',y_train=y_train)"
   ]
  },
  {
   "cell_type": "code",
   "execution_count": 238,
   "metadata": {},
   "outputs": [
    {
     "name": "stdout",
     "output_type": "stream",
     "text": [
      "Estimator Used: log\n",
      "Vectorizer: cvec\n",
      "Train Data Shape (1504, 3000)\n",
      "Test Data Shape (377, 3000)\n",
      "Train Logistic regression Accuracy: 0.8636788482834994\n",
      "Test Logistic regression Accuracy: 0.8250175438596491\n"
     ]
    }
   ],
   "source": [
    "predict_log_3000 = modeling(estimator='log',vectorizer='cvec',y_train=y_train,max_features=3000)"
   ]
  },
  {
   "cell_type": "code",
   "execution_count": 239,
   "metadata": {},
   "outputs": [
    {
     "name": "stdout",
     "output_type": "stream",
     "text": [
      "Estimator Used: log\n",
      "Vectorizer: cvec\n",
      "Train Data Shape (1504, 218)\n",
      "Test Data Shape (377, 218)\n",
      "Train Logistic regression Accuracy: 0.8344163898117387\n",
      "Test Logistic regression Accuracy: 0.7905964912280702\n"
     ]
    }
   ],
   "source": [
    "predict_log_min20 = modeling(estimator='log',vectorizer='cvec',y_train=y_train,max_features=3000, min_df=20)"
   ]
  },
  {
   "cell_type": "markdown",
   "metadata": {},
   "source": [
    "##### Evaluate Logistic Model\n",
    "\n",
    "From above we see that using CountVectorizer with 3000 as max_features and 20 as min_df for parameters is the best vectorizor for the model which resulted in the highest test data R2 score of 0.7615697889670493 and train data R2 score of 0.8414406779661017.\n",
    "\n",
    "However the best prediction came from the model using Count Vectorizer with its default parameters giving us the highest training R2 score of 0.8583875400824553 and training R2 score of 0.7534616808589412."
   ]
  },
  {
   "cell_type": "code",
   "execution_count": 240,
   "metadata": {},
   "outputs": [
    {
     "data": {
      "text/html": [
       "<div>\n",
       "<style scoped>\n",
       "    .dataframe tbody tr th:only-of-type {\n",
       "        vertical-align: middle;\n",
       "    }\n",
       "\n",
       "    .dataframe tbody tr th {\n",
       "        vertical-align: top;\n",
       "    }\n",
       "\n",
       "    .dataframe thead th {\n",
       "        text-align: right;\n",
       "    }\n",
       "</style>\n",
       "<table border=\"1\" class=\"dataframe\">\n",
       "  <thead>\n",
       "    <tr style=\"text-align: right;\">\n",
       "      <th></th>\n",
       "      <th>Predict Subreddit</th>\n",
       "      <th>Actual Subreddit</th>\n",
       "      <th>Check</th>\n",
       "    </tr>\n",
       "  </thead>\n",
       "  <tbody>\n",
       "    <tr>\n",
       "      <th>1113</th>\n",
       "      <td>0</td>\n",
       "      <td>0</td>\n",
       "      <td>True</td>\n",
       "    </tr>\n",
       "    <tr>\n",
       "      <th>593</th>\n",
       "      <td>1</td>\n",
       "      <td>1</td>\n",
       "      <td>True</td>\n",
       "    </tr>\n",
       "    <tr>\n",
       "      <th>598</th>\n",
       "      <td>0</td>\n",
       "      <td>1</td>\n",
       "      <td>False</td>\n",
       "    </tr>\n",
       "    <tr>\n",
       "      <th>743</th>\n",
       "      <td>0</td>\n",
       "      <td>1</td>\n",
       "      <td>False</td>\n",
       "    </tr>\n",
       "    <tr>\n",
       "      <th>1009</th>\n",
       "      <td>0</td>\n",
       "      <td>0</td>\n",
       "      <td>True</td>\n",
       "    </tr>\n",
       "  </tbody>\n",
       "</table>\n",
       "</div>"
      ],
      "text/plain": [
       "      Predict Subreddit  Actual Subreddit  Check\n",
       "1113                  0                 0   True\n",
       "593                   1                 1   True\n",
       "598                   0                 1  False\n",
       "743                   0                 1  False\n",
       "1009                  0                 0   True"
      ]
     },
     "execution_count": 240,
     "metadata": {},
     "output_type": "execute_result"
    }
   ],
   "source": [
    "#Highest Training R2 Score\n",
    "check = predict_log_cvec == y_test\n",
    "\n",
    "df_pred = pd.DataFrame({'Predict Subreddit':predict_log_cvec,'Actual Subreddit':y_test, 'Check':check})\n",
    "df_pred.head()"
   ]
  },
  {
   "cell_type": "code",
   "execution_count": 241,
   "metadata": {},
   "outputs": [
    {
     "data": {
      "text/plain": [
       "True     311\n",
       "False     66\n",
       "Name: subreddit, dtype: int64"
      ]
     },
     "execution_count": 241,
     "metadata": {},
     "output_type": "execute_result"
    }
   ],
   "source": [
    "check.value_counts()"
   ]
  },
  {
   "cell_type": "code",
   "execution_count": 242,
   "metadata": {},
   "outputs": [
    {
     "name": "stdout",
     "output_type": "stream",
     "text": [
      "All Data: 377\n",
      "Correctly Predict that the post is from HIMYM (TP): 131\n",
      "Correctly Predict that the post is from Big Bang Theory (TN): 180\n",
      "Incorrectly Predict that the post is from HIMYM (FP): 17\n",
      "Incorrectly Predict that the post is from Big Bang Theory (FN): 49\n"
     ]
    }
   ],
   "source": [
    "confusion_eval(y_test,predict_log_cvec)"
   ]
  },
  {
   "cell_type": "code",
   "execution_count": 243,
   "metadata": {},
   "outputs": [
    {
     "name": "stdout",
     "output_type": "stream",
     "text": [
      "Accuracy: 0.8249\n",
      "Misclassification rate: 0.1751\n",
      "Precision: 0.8851\n",
      "Recall: 0.7278\n",
      "Specificity: 0.9137\n"
     ]
    }
   ],
   "source": [
    "confusion_score(y_test,predict_log_cvec)"
   ]
  },
  {
   "cell_type": "code",
   "execution_count": 244,
   "metadata": {
    "scrolled": true
   },
   "outputs": [
    {
     "data": {
      "text/html": [
       "<div>\n",
       "<style scoped>\n",
       "    .dataframe tbody tr th:only-of-type {\n",
       "        vertical-align: middle;\n",
       "    }\n",
       "\n",
       "    .dataframe tbody tr th {\n",
       "        vertical-align: top;\n",
       "    }\n",
       "\n",
       "    .dataframe thead th {\n",
       "        text-align: right;\n",
       "    }\n",
       "</style>\n",
       "<table border=\"1\" class=\"dataframe\">\n",
       "  <thead>\n",
       "    <tr style=\"text-align: right;\">\n",
       "      <th></th>\n",
       "      <th>Predict Subreddit</th>\n",
       "      <th>Actual Subreddit</th>\n",
       "      <th>Check</th>\n",
       "    </tr>\n",
       "  </thead>\n",
       "  <tbody>\n",
       "    <tr>\n",
       "      <th>1113</th>\n",
       "      <td>0</td>\n",
       "      <td>0</td>\n",
       "      <td>True</td>\n",
       "    </tr>\n",
       "    <tr>\n",
       "      <th>593</th>\n",
       "      <td>1</td>\n",
       "      <td>1</td>\n",
       "      <td>True</td>\n",
       "    </tr>\n",
       "    <tr>\n",
       "      <th>598</th>\n",
       "      <td>0</td>\n",
       "      <td>1</td>\n",
       "      <td>False</td>\n",
       "    </tr>\n",
       "    <tr>\n",
       "      <th>743</th>\n",
       "      <td>0</td>\n",
       "      <td>1</td>\n",
       "      <td>False</td>\n",
       "    </tr>\n",
       "    <tr>\n",
       "      <th>1009</th>\n",
       "      <td>0</td>\n",
       "      <td>0</td>\n",
       "      <td>True</td>\n",
       "    </tr>\n",
       "  </tbody>\n",
       "</table>\n",
       "</div>"
      ],
      "text/plain": [
       "      Predict Subreddit  Actual Subreddit  Check\n",
       "1113                  0                 0   True\n",
       "593                   1                 1   True\n",
       "598                   0                 1  False\n",
       "743                   0                 1  False\n",
       "1009                  0                 0   True"
      ]
     },
     "execution_count": 244,
     "metadata": {},
     "output_type": "execute_result"
    }
   ],
   "source": [
    "#Highest Testing R2 Score\n",
    "check = predict_log_min20 == y_test\n",
    "\n",
    "df_pred = pd.DataFrame({'Predict Subreddit':predict_log_min20,'Actual Subreddit':y_test, 'Check':check})\n",
    "df_pred.head()"
   ]
  },
  {
   "cell_type": "code",
   "execution_count": 245,
   "metadata": {},
   "outputs": [
    {
     "data": {
      "text/plain": [
       "True     308\n",
       "False     69\n",
       "Name: subreddit, dtype: int64"
      ]
     },
     "execution_count": 245,
     "metadata": {},
     "output_type": "execute_result"
    }
   ],
   "source": [
    "check.value_counts()"
   ]
  },
  {
   "cell_type": "code",
   "execution_count": 246,
   "metadata": {
    "scrolled": true
   },
   "outputs": [
    {
     "name": "stdout",
     "output_type": "stream",
     "text": [
      "All Data: 377\n",
      "Correctly Predict that the post is from HIMYM (TP): 126\n",
      "Correctly Predict that the post is from Big Bang Theory (TN): 182\n",
      "Incorrectly Predict that the post is from HIMYM (FP): 15\n",
      "Incorrectly Predict that the post is from Big Bang Theory (FN): 54\n"
     ]
    }
   ],
   "source": [
    "confusion_eval(y_test,predict_log_min20)"
   ]
  },
  {
   "cell_type": "code",
   "execution_count": 247,
   "metadata": {
    "scrolled": true
   },
   "outputs": [
    {
     "name": "stdout",
     "output_type": "stream",
     "text": [
      "Accuracy: 0.817\n",
      "Misclassification rate: 0.183\n",
      "Precision: 0.8936\n",
      "Recall: 0.7\n",
      "Specificity: 0.9239\n"
     ]
    }
   ],
   "source": [
    "confusion_score(y_test,predict_log_min20)"
   ]
  },
  {
   "cell_type": "markdown",
   "metadata": {},
   "source": [
    "### Adjusting Logistic Regression Model\n",
    "\n",
    "The logistic regression model with the highest training accuracy score does appear to be somewhat overfit, inferring training data with 83% accuracy while only predicting test data with 80% accuracy.\n",
    "\n",
    "Looking at the confusion martrix, more HIMYM (133 posts) posts were misclassfied as Big Bang Theory posts (178 posts). Now we will adjust the model parameters:"
   ]
  },
  {
   "cell_type": "code",
   "execution_count": 248,
   "metadata": {},
   "outputs": [],
   "source": [
    "cvec = CountVectorizer(analyzer = \"word\",\n",
    "                       tokenizer = None,\n",
    "                       preprocessor = None,\n",
    "                       stop_words = None,\n",
    "                       max_features=None,\n",
    "                       min_df=1,\n",
    "                       max_df=1.0,\n",
    "                       ngram_range=(1,1)) "
   ]
  },
  {
   "cell_type": "code",
   "execution_count": 249,
   "metadata": {
    "scrolled": true
   },
   "outputs": [
    {
     "name": "stdout",
     "output_type": "stream",
     "text": [
      "Train Data Shape (1504, 5322)\n",
      "Test Data Shape (377, 5322)\n"
     ]
    }
   ],
   "source": [
    "train_data_features = cvec.fit_transform(clean_text_train)\n",
    "test_data_features = cvec.transform(clean_text_test)\n",
    "print('Train Data Shape',train_data_features.shape)\n",
    "print('Test Data Shape',test_data_features.shape)"
   ]
  },
  {
   "cell_type": "markdown",
   "metadata": {},
   "source": [
    "##### Logistic Regression Hyperparameters Tuning"
   ]
  },
  {
   "cell_type": "code",
   "execution_count": 250,
   "metadata": {},
   "outputs": [],
   "source": [
    "log = LogisticRegression()"
   ]
  },
  {
   "cell_type": "code",
   "execution_count": 251,
   "metadata": {},
   "outputs": [
    {
     "data": {
      "text/plain": [
       "dict_keys(['C', 'class_weight', 'dual', 'fit_intercept', 'intercept_scaling', 'l1_ratio', 'max_iter', 'multi_class', 'n_jobs', 'penalty', 'random_state', 'solver', 'tol', 'verbose', 'warm_start'])"
      ]
     },
     "execution_count": 251,
     "metadata": {},
     "output_type": "execute_result"
    }
   ],
   "source": [
    "log.get_params().keys()"
   ]
  },
  {
   "cell_type": "code",
   "execution_count": 252,
   "metadata": {},
   "outputs": [],
   "source": [
    "log_params = {\n",
    "    'solver': ['newton-cg', 'lbfgs', 'liblinear'],\n",
    "    'penalty': ['l2','l1'],\n",
    "    'C': np.logspace(-4, 4, 50)\n",
    "}"
   ]
  },
  {
   "cell_type": "code",
   "execution_count": 253,
   "metadata": {},
   "outputs": [],
   "source": [
    "log_gridsearch = GridSearchCV(log,log_params, n_jobs=-1, cv=5, scoring='accuracy',error_score=0)"
   ]
  },
  {
   "cell_type": "code",
   "execution_count": 254,
   "metadata": {},
   "outputs": [
    {
     "data": {
      "text/plain": [
       "0.864343300110742"
      ]
     },
     "execution_count": 254,
     "metadata": {},
     "output_type": "execute_result"
    }
   ],
   "source": [
    "log_gridsearch.fit(train_data_features, y_train)\n",
    "\n",
    "log_gridsearch.best_score_"
   ]
  },
  {
   "cell_type": "code",
   "execution_count": 255,
   "metadata": {},
   "outputs": [
    {
     "data": {
      "text/plain": [
       "{'C': 1.2067926406393288, 'penalty': 'l2', 'solver': 'newton-cg'}"
      ]
     },
     "execution_count": 255,
     "metadata": {},
     "output_type": "execute_result"
    }
   ],
   "source": [
    "log_gridsearch.best_params_"
   ]
  },
  {
   "cell_type": "code",
   "execution_count": 256,
   "metadata": {
    "scrolled": true
   },
   "outputs": [
    {
     "data": {
      "text/plain": [
       "0.8249336870026526"
      ]
     },
     "execution_count": 256,
     "metadata": {},
     "output_type": "execute_result"
    }
   ],
   "source": [
    "log_gridsearch.score(test_data_features, y_test)"
   ]
  },
  {
   "cell_type": "code",
   "execution_count": 257,
   "metadata": {},
   "outputs": [
    {
     "data": {
      "text/plain": [
       "True     311\n",
       "False     66\n",
       "Name: subreddit, dtype: int64"
      ]
     },
     "execution_count": 257,
     "metadata": {},
     "output_type": "execute_result"
    }
   ],
   "source": [
    "predict_log_grid = log_gridsearch.predict(test_data_features)\n",
    "\n",
    "check = predict_log_grid == y_test\n",
    "check.value_counts()"
   ]
  },
  {
   "cell_type": "code",
   "execution_count": 258,
   "metadata": {
    "scrolled": true
   },
   "outputs": [
    {
     "name": "stdout",
     "output_type": "stream",
     "text": [
      "All Data: 377\n",
      "Correctly Predict that the post is from HIMYM (TP): 131\n",
      "Correctly Predict that the post is from Big Bang Theory (TN): 180\n",
      "Incorrectly Predict that the post is from HIMYM (FP): 17\n",
      "Incorrectly Predict that the post is from Big Bang Theory (FN): 49\n"
     ]
    }
   ],
   "source": [
    "confusion_eval(y_test,predict_log_grid)"
   ]
  },
  {
   "cell_type": "code",
   "execution_count": 259,
   "metadata": {},
   "outputs": [
    {
     "name": "stdout",
     "output_type": "stream",
     "text": [
      "Accuracy: 0.8249\n",
      "Misclassification rate: 0.1751\n",
      "Precision: 0.8851\n",
      "Recall: 0.7278\n",
      "Specificity: 0.9137\n"
     ]
    }
   ],
   "source": [
    "confusion_score(y_test,predict_log_grid)"
   ]
  },
  {
   "cell_type": "markdown",
   "metadata": {},
   "source": [
    "Through customized paramter setting for logistic regression using GridSearch CV, the best parameters were:\n",
    "- CountVectorizer\n",
    "- Logistic Regression\n",
    "    - 'C': 0.5689866029018293\n",
    "    - 'penalty': 'l2'\n",
    "    - 'solver': 'newton-cg'}"
   ]
  },
  {
   "cell_type": "markdown",
   "metadata": {},
   "source": [
    "### KNN Regression\n",
    "\n",
    "Now we will explore KNN Regression, starting by comparing the vectorizor to see which gives the best accuracy score and will be using that as the default vectorizer and adjust the parameters to find the highest accuracy socre."
   ]
  },
  {
   "cell_type": "code",
   "execution_count": 260,
   "metadata": {
    "scrolled": true
   },
   "outputs": [
    {
     "name": "stdout",
     "output_type": "stream",
     "text": [
      "Estimator Used: knn\n",
      "Vectorizer: tvec\n",
      "Train Data Shape (1504, 5322)\n",
      "Test Data Shape (377, 5322)\n",
      "Train KNN regression Accuracy: 0.5325559246954595\n",
      "Test KNN regression Accuracy: 0.5701052631578948\n"
     ]
    }
   ],
   "source": [
    "knn_tvec = modeling(estimator='knn',vectorizer='tvec',y_train=y_train)"
   ]
  },
  {
   "cell_type": "code",
   "execution_count": 261,
   "metadata": {},
   "outputs": [
    {
     "name": "stdout",
     "output_type": "stream",
     "text": [
      "Estimator Used: knn\n",
      "Vectorizer: cvec\n",
      "Train Data Shape (1504, 5322)\n",
      "Test Data Shape (377, 5322)\n",
      "Train KNN regression Accuracy: 0.7240420819490587\n",
      "Test KNN regression Accuracy: 0.6840701754385965\n"
     ]
    }
   ],
   "source": [
    "knn_cvec_n5 = modeling(estimator='knn',vectorizer='cvec',y_train=y_train)"
   ]
  },
  {
   "cell_type": "code",
   "execution_count": 262,
   "metadata": {},
   "outputs": [
    {
     "name": "stdout",
     "output_type": "stream",
     "text": [
      "Estimator Used: knn\n",
      "Vectorizer: cvec\n",
      "Train Data Shape (1504, 5322)\n",
      "Test Data Shape (377, 5322)\n",
      "Train KNN regression Accuracy: 0.678859357696567\n",
      "Test KNN regression Accuracy: 0.7163508771929825\n"
     ]
    }
   ],
   "source": [
    "knn_cvec_n10 = modeling(estimator='knn',vectorizer='cvec',y_train=y_train,n_neighbors=10)"
   ]
  },
  {
   "cell_type": "code",
   "execution_count": 263,
   "metadata": {
    "scrolled": true
   },
   "outputs": [
    {
     "name": "stdout",
     "output_type": "stream",
     "text": [
      "Estimator Used: knn\n",
      "Vectorizer: cvec\n",
      "Train Data Shape (1504, 5322)\n",
      "Test Data Shape (377, 5322)\n",
      "Train KNN regression Accuracy: 0.6535836101882614\n",
      "Test KNN regression Accuracy: 0.6711578947368422\n"
     ]
    }
   ],
   "source": [
    "knn_cvec_n20 = modeling(estimator='knn',vectorizer='cvec',y_train=y_train,n_neighbors=20)"
   ]
  },
  {
   "cell_type": "code",
   "execution_count": 264,
   "metadata": {},
   "outputs": [
    {
     "name": "stdout",
     "output_type": "stream",
     "text": [
      "Estimator Used: knn\n",
      "Vectorizer: cvec\n",
      "Train Data Shape (1504, 5322)\n",
      "Test Data Shape (377, 5322)\n",
      "Train KNN regression Accuracy: 0.6562547065337763\n",
      "Test KNN regression Accuracy: 0.6790175438596491\n"
     ]
    }
   ],
   "source": [
    "knn_cvec_n25 = modeling(estimator='knn',vectorizer='cvec',y_train=y_train,n_neighbors=25)"
   ]
  },
  {
   "cell_type": "code",
   "execution_count": 265,
   "metadata": {},
   "outputs": [
    {
     "name": "stdout",
     "output_type": "stream",
     "text": [
      "Estimator Used: knn\n",
      "Vectorizer: cvec\n",
      "Train Data Shape (1504, 5322)\n",
      "Test Data Shape (377, 5322)\n",
      "Train KNN regression Accuracy: 0.642954595791805\n",
      "Test KNN regression Accuracy: 0.6420350877192983\n"
     ]
    }
   ],
   "source": [
    "knn_cvec_n30 = modeling(estimator='knn',vectorizer='cvec',y_train=y_train,n_neighbors=30)"
   ]
  },
  {
   "cell_type": "code",
   "execution_count": 266,
   "metadata": {},
   "outputs": [
    {
     "name": "stdout",
     "output_type": "stream",
     "text": [
      "Estimator Used: knn\n",
      "Vectorizer: cvec\n",
      "Train Data Shape (1504, 3000)\n",
      "Test Data Shape (377, 3000)\n",
      "Train KNN regression Accuracy: 0.6675592469545958\n",
      "Test KNN regression Accuracy: 0.6367368421052633\n"
     ]
    }
   ],
   "source": [
    "knn_cvec_n25 = modeling(estimator='knn',vectorizer='cvec',y_train=y_train,n_neighbors=20,max_features=3000,ngram_range=(1,2))"
   ]
  },
  {
   "cell_type": "code",
   "execution_count": 267,
   "metadata": {},
   "outputs": [
    {
     "name": "stdout",
     "output_type": "stream",
     "text": [
      "Estimator Used: knn\n",
      "Vectorizer: cvec\n",
      "Train Data Shape (1504, 3000)\n",
      "Test Data Shape (377, 3000)\n",
      "Train KNN regression Accuracy: 0.6622325581395349\n",
      "Test KNN regression Accuracy: 0.6501052631578947\n"
     ]
    }
   ],
   "source": [
    "knn_cvec_n25 = modeling(estimator='knn',vectorizer='cvec',y_train=y_train,n_neighbors=20,max_features=3000,min_df=2, max_df=0.9,ngram_range=(1,2))"
   ]
  },
  {
   "cell_type": "markdown",
   "metadata": {},
   "source": [
    "##### Evaluate KNN Model\n",
    "\n",
    "From above we see that using CountVectorizer and its default parameters is the best vectorizor for the model in combination with using 20 as N nearest neighbors resulting in the highest test data R2 score of 0.6830433172898926 and the train data R2 score of 0.7188021071919377. "
   ]
  },
  {
   "cell_type": "code",
   "execution_count": 268,
   "metadata": {},
   "outputs": [
    {
     "data": {
      "text/html": [
       "<div>\n",
       "<style scoped>\n",
       "    .dataframe tbody tr th:only-of-type {\n",
       "        vertical-align: middle;\n",
       "    }\n",
       "\n",
       "    .dataframe tbody tr th {\n",
       "        vertical-align: top;\n",
       "    }\n",
       "\n",
       "    .dataframe thead th {\n",
       "        text-align: right;\n",
       "    }\n",
       "</style>\n",
       "<table border=\"1\" class=\"dataframe\">\n",
       "  <thead>\n",
       "    <tr style=\"text-align: right;\">\n",
       "      <th></th>\n",
       "      <th>Predict Subreddit</th>\n",
       "      <th>Actual Subreddit</th>\n",
       "      <th>Check</th>\n",
       "    </tr>\n",
       "  </thead>\n",
       "  <tbody>\n",
       "    <tr>\n",
       "      <th>1113</th>\n",
       "      <td>0</td>\n",
       "      <td>0</td>\n",
       "      <td>True</td>\n",
       "    </tr>\n",
       "    <tr>\n",
       "      <th>593</th>\n",
       "      <td>0</td>\n",
       "      <td>1</td>\n",
       "      <td>False</td>\n",
       "    </tr>\n",
       "    <tr>\n",
       "      <th>598</th>\n",
       "      <td>0</td>\n",
       "      <td>1</td>\n",
       "      <td>False</td>\n",
       "    </tr>\n",
       "    <tr>\n",
       "      <th>743</th>\n",
       "      <td>0</td>\n",
       "      <td>1</td>\n",
       "      <td>False</td>\n",
       "    </tr>\n",
       "    <tr>\n",
       "      <th>1009</th>\n",
       "      <td>0</td>\n",
       "      <td>0</td>\n",
       "      <td>True</td>\n",
       "    </tr>\n",
       "  </tbody>\n",
       "</table>\n",
       "</div>"
      ],
      "text/plain": [
       "      Predict Subreddit  Actual Subreddit  Check\n",
       "1113                  0                 0   True\n",
       "593                   0                 1  False\n",
       "598                   0                 1  False\n",
       "743                   0                 1  False\n",
       "1009                  0                 0   True"
      ]
     },
     "execution_count": 268,
     "metadata": {},
     "output_type": "execute_result"
    }
   ],
   "source": [
    "check = knn_cvec_n20 == y_test\n",
    "\n",
    "df_pred = pd.DataFrame({'Predict Subreddit':knn_cvec_n20,'Actual Subreddit':y_test, 'Check':check})\n",
    "df_pred.head()"
   ]
  },
  {
   "cell_type": "code",
   "execution_count": 269,
   "metadata": {},
   "outputs": [
    {
     "data": {
      "text/plain": [
       "True     239\n",
       "False    138\n",
       "Name: subreddit, dtype: int64"
      ]
     },
     "execution_count": 269,
     "metadata": {},
     "output_type": "execute_result"
    }
   ],
   "source": [
    "check.value_counts()"
   ]
  },
  {
   "cell_type": "code",
   "execution_count": 270,
   "metadata": {
    "scrolled": true
   },
   "outputs": [
    {
     "name": "stdout",
     "output_type": "stream",
     "text": [
      "All Data: 377\n",
      "Correctly Predict that the post is from HIMYM (TP): 42\n",
      "Correctly Predict that the post is from Big Bang Theory (TN): 197\n",
      "Incorrectly Predict that the post is from HIMYM (FP): 0\n",
      "Incorrectly Predict that the post is from Big Bang Theory (FN): 138\n"
     ]
    }
   ],
   "source": [
    "confusion_eval(y_test,knn_cvec_n20)"
   ]
  },
  {
   "cell_type": "code",
   "execution_count": 271,
   "metadata": {},
   "outputs": [
    {
     "name": "stdout",
     "output_type": "stream",
     "text": [
      "Accuracy: 0.634\n",
      "Misclassification rate: 0.366\n",
      "Precision: 1.0\n",
      "Recall: 0.2333\n",
      "Specificity: 1.0\n"
     ]
    }
   ],
   "source": [
    "confusion_score(y_test,knn_cvec_n20)"
   ]
  },
  {
   "cell_type": "markdown",
   "metadata": {},
   "source": [
    "### Adjusting KNN\n",
    "\n",
    "The KNN regression predicting the data with 62% accuracy.\n",
    "\n",
    "Looking at the confusion martrix, less HIMYM (38 posts) posts were misclassfied as Big Bang Theory posts (197 posts). Now we will adjust the model parameters:"
   ]
  },
  {
   "cell_type": "code",
   "execution_count": 272,
   "metadata": {},
   "outputs": [],
   "source": [
    "cvec = CountVectorizer(analyzer = \"word\",\n",
    "                       tokenizer = None,\n",
    "                       preprocessor = None,\n",
    "                       stop_words = None,\n",
    "                       max_features=None,\n",
    "                       min_df=1,\n",
    "                       max_df=1.0,\n",
    "                       ngram_range=(1,1)) "
   ]
  },
  {
   "cell_type": "code",
   "execution_count": 273,
   "metadata": {},
   "outputs": [
    {
     "name": "stdout",
     "output_type": "stream",
     "text": [
      "Train Data Shape (1504, 5322)\n",
      "Test Data Shape (377, 5322)\n"
     ]
    }
   ],
   "source": [
    "train_data_features = cvec.fit_transform(clean_text_train)\n",
    "test_data_features = cvec.transform(clean_text_test)\n",
    "print('Train Data Shape',train_data_features.shape)\n",
    "print('Test Data Shape',test_data_features.shape)"
   ]
  },
  {
   "cell_type": "markdown",
   "metadata": {},
   "source": [
    "##### KNN Estimator Hyperparameters Tuning"
   ]
  },
  {
   "cell_type": "code",
   "execution_count": 274,
   "metadata": {},
   "outputs": [],
   "source": [
    "knn = KNeighborsClassifier()"
   ]
  },
  {
   "cell_type": "code",
   "execution_count": 275,
   "metadata": {},
   "outputs": [
    {
     "data": {
      "text/plain": [
       "dict_keys(['algorithm', 'leaf_size', 'metric', 'metric_params', 'n_jobs', 'n_neighbors', 'p', 'weights'])"
      ]
     },
     "execution_count": 275,
     "metadata": {},
     "output_type": "execute_result"
    }
   ],
   "source": [
    "knn.get_params().keys()"
   ]
  },
  {
   "cell_type": "code",
   "execution_count": 276,
   "metadata": {},
   "outputs": [],
   "source": [
    "knn_params = {\n",
    "    'n_neighbors': range(1, 50, 10),\n",
    "    'weights': ['uniform', 'distance'],\n",
    "    'metric': ['euclidean', 'manhattan', 'minkowski']\n",
    "}"
   ]
  },
  {
   "cell_type": "code",
   "execution_count": 277,
   "metadata": {},
   "outputs": [],
   "source": [
    "# Instantiate our GridSearchCV object.\n",
    "knn_gridsearch = GridSearchCV(knn,knn_params, cv=5, verbose=1)"
   ]
  },
  {
   "cell_type": "code",
   "execution_count": 278,
   "metadata": {},
   "outputs": [
    {
     "name": "stdout",
     "output_type": "stream",
     "text": [
      "Fitting 5 folds for each of 30 candidates, totalling 150 fits\n"
     ]
    },
    {
     "data": {
      "text/plain": [
       "0.761295681063123"
      ]
     },
     "execution_count": 278,
     "metadata": {},
     "output_type": "execute_result"
    }
   ],
   "source": [
    "knn_gridsearch.fit(train_data_features, y_train)\n",
    "\n",
    "knn_gridsearch.best_score_"
   ]
  },
  {
   "cell_type": "code",
   "execution_count": 279,
   "metadata": {
    "scrolled": true
   },
   "outputs": [
    {
     "data": {
      "text/plain": [
       "{'metric': 'euclidean', 'n_neighbors': 1, 'weights': 'uniform'}"
      ]
     },
     "execution_count": 279,
     "metadata": {},
     "output_type": "execute_result"
    }
   ],
   "source": [
    "knn_gridsearch.best_params_"
   ]
  },
  {
   "cell_type": "code",
   "execution_count": 280,
   "metadata": {
    "scrolled": true
   },
   "outputs": [
    {
     "data": {
      "text/plain": [
       "0.7506631299734748"
      ]
     },
     "execution_count": 280,
     "metadata": {},
     "output_type": "execute_result"
    }
   ],
   "source": [
    "knn_gridsearch.score(test_data_features, y_test)"
   ]
  },
  {
   "cell_type": "code",
   "execution_count": 281,
   "metadata": {},
   "outputs": [
    {
     "data": {
      "text/plain": [
       "True     283\n",
       "False     94\n",
       "Name: subreddit, dtype: int64"
      ]
     },
     "execution_count": 281,
     "metadata": {},
     "output_type": "execute_result"
    }
   ],
   "source": [
    "predict_knn_grid = knn_gridsearch.predict(test_data_features)\n",
    "\n",
    "check = predict_knn_grid == y_test\n",
    "check.value_counts()"
   ]
  },
  {
   "cell_type": "code",
   "execution_count": 282,
   "metadata": {
    "scrolled": false
   },
   "outputs": [
    {
     "name": "stdout",
     "output_type": "stream",
     "text": [
      "All Data: 377\n",
      "Correctly Predict that the post is from HIMYM (TP): 104\n",
      "Correctly Predict that the post is from Big Bang Theory (TN): 179\n",
      "Incorrectly Predict that the post is from HIMYM (FP): 18\n",
      "Incorrectly Predict that the post is from Big Bang Theory (FN): 76\n"
     ]
    }
   ],
   "source": [
    "confusion_eval(y_test,predict_knn_grid)"
   ]
  },
  {
   "cell_type": "code",
   "execution_count": 283,
   "metadata": {},
   "outputs": [
    {
     "name": "stdout",
     "output_type": "stream",
     "text": [
      "Accuracy: 0.7507\n",
      "Misclassification rate: 0.2493\n",
      "Precision: 0.8525\n",
      "Recall: 0.5778\n",
      "Specificity: 0.9086\n"
     ]
    }
   ],
   "source": [
    "confusion_score(y_test,predict_knn_grid)"
   ]
  },
  {
   "cell_type": "markdown",
   "metadata": {},
   "source": [
    "Through customized paramter setting for KNN regression using GridSearch CV, the best parameters were:\n",
    "- CountVectorizer\n",
    "- Logistic Regression\n",
    "    - 'metric': 'euclidean'\n",
    "    - 'n_neighbors': 1\n",
    "    - 'weights': 'uniform'"
   ]
  },
  {
   "cell_type": "markdown",
   "metadata": {},
   "source": [
    "### Naive Bayes Estimator\n",
    "\n",
    "Lastly we will explore Naive Bayes Estimator, starting by comparing the vectorizor to see which gives the best accuracy score and will be using that as the default vectorizer and adjust the parameters to find the highest accuracy socre."
   ]
  },
  {
   "cell_type": "code",
   "execution_count": 284,
   "metadata": {},
   "outputs": [
    {
     "name": "stdout",
     "output_type": "stream",
     "text": [
      "Estimator Used: bayes\n",
      "Vectorizer: tvec\n",
      "Train Data Shape (1504, 5322)\n",
      "Test Data Shape (377, 5322)\n",
      "Train Naive Bayes regression Accuracy: 0.8663433001107419\n",
      "Test Naive Bayes regression Accuracy: 0.8145263157894738\n"
     ]
    }
   ],
   "source": [
    "bayes_tvec = modeling(estimator='bayes',vectorizer='tvec',y_train=y_train)"
   ]
  },
  {
   "cell_type": "code",
   "execution_count": 285,
   "metadata": {},
   "outputs": [
    {
     "name": "stdout",
     "output_type": "stream",
     "text": [
      "Estimator Used: bayes\n",
      "Vectorizer: cvec\n",
      "Train Data Shape (1504, 5322)\n",
      "Test Data Shape (377, 5322)\n",
      "Train Naive Bayes regression Accuracy: 0.8643521594684385\n",
      "Test Naive Bayes regression Accuracy: 0.8411228070175438\n"
     ]
    }
   ],
   "source": [
    "bayes_cvec = modeling(estimator='bayes',vectorizer='cvec',y_train=y_train)"
   ]
  },
  {
   "cell_type": "code",
   "execution_count": 286,
   "metadata": {},
   "outputs": [
    {
     "name": "stdout",
     "output_type": "stream",
     "text": [
      "Estimator Used: bayes\n",
      "Vectorizer: cvec\n",
      "Train Data Shape (1504, 3000)\n",
      "Test Data Shape (377, 3000)\n",
      "Train Naive Bayes regression Accuracy: 0.8670121816168328\n",
      "Test Naive Bayes regression Accuracy: 0.8490526315789474\n"
     ]
    }
   ],
   "source": [
    "bayes_3000 = modeling(estimator='bayes',vectorizer='cvec',y_train=y_train,max_features=3000)"
   ]
  },
  {
   "cell_type": "code",
   "execution_count": 287,
   "metadata": {
    "scrolled": true
   },
   "outputs": [
    {
     "name": "stdout",
     "output_type": "stream",
     "text": [
      "Estimator Used: bayes\n",
      "Vectorizer: cvec\n",
      "Train Data Shape (1504, 2421)\n",
      "Test Data Shape (377, 2421)\n",
      "Train Naive Bayes regression Accuracy: 0.8663499446290144\n",
      "Test Naive Bayes regression Accuracy: 0.8437543859649124\n"
     ]
    }
   ],
   "source": [
    "bayes_min2 = modeling(estimator='bayes',vectorizer='cvec',y_train=y_train,max_features=3000,min_df=2)"
   ]
  },
  {
   "cell_type": "markdown",
   "metadata": {},
   "source": [
    "##### Evaluate Naive Bayes Estimator\n",
    "\n",
    "From above we see that using CountVectorizer with its parameters at max_features=3000 and min_df=2 is the best vectorizor for the Bayes model resulting in the highest test data R2 score of 0.7859311366160682 and the train data R2 score of 0.8631310123683005.\n",
    "\n",
    "However for adjusting consistancy we will input CountVectorizer default parameters."
   ]
  },
  {
   "cell_type": "code",
   "execution_count": 288,
   "metadata": {},
   "outputs": [
    {
     "data": {
      "text/html": [
       "<div>\n",
       "<style scoped>\n",
       "    .dataframe tbody tr th:only-of-type {\n",
       "        vertical-align: middle;\n",
       "    }\n",
       "\n",
       "    .dataframe tbody tr th {\n",
       "        vertical-align: top;\n",
       "    }\n",
       "\n",
       "    .dataframe thead th {\n",
       "        text-align: right;\n",
       "    }\n",
       "</style>\n",
       "<table border=\"1\" class=\"dataframe\">\n",
       "  <thead>\n",
       "    <tr style=\"text-align: right;\">\n",
       "      <th></th>\n",
       "      <th>Predict Subreddit</th>\n",
       "      <th>Actual Subreddit</th>\n",
       "      <th>Check</th>\n",
       "    </tr>\n",
       "  </thead>\n",
       "  <tbody>\n",
       "    <tr>\n",
       "      <th>1113</th>\n",
       "      <td>0</td>\n",
       "      <td>0</td>\n",
       "      <td>True</td>\n",
       "    </tr>\n",
       "    <tr>\n",
       "      <th>593</th>\n",
       "      <td>1</td>\n",
       "      <td>1</td>\n",
       "      <td>True</td>\n",
       "    </tr>\n",
       "    <tr>\n",
       "      <th>598</th>\n",
       "      <td>1</td>\n",
       "      <td>1</td>\n",
       "      <td>True</td>\n",
       "    </tr>\n",
       "    <tr>\n",
       "      <th>743</th>\n",
       "      <td>0</td>\n",
       "      <td>1</td>\n",
       "      <td>False</td>\n",
       "    </tr>\n",
       "    <tr>\n",
       "      <th>1009</th>\n",
       "      <td>0</td>\n",
       "      <td>0</td>\n",
       "      <td>True</td>\n",
       "    </tr>\n",
       "  </tbody>\n",
       "</table>\n",
       "</div>"
      ],
      "text/plain": [
       "      Predict Subreddit  Actual Subreddit  Check\n",
       "1113                  0                 0   True\n",
       "593                   1                 1   True\n",
       "598                   1                 1   True\n",
       "743                   0                 1  False\n",
       "1009                  0                 0   True"
      ]
     },
     "execution_count": 288,
     "metadata": {},
     "output_type": "execute_result"
    }
   ],
   "source": [
    "check = bayes_min2 == y_test\n",
    "\n",
    "df_pred = pd.DataFrame({'Predict Subreddit':bayes_min2,'Actual Subreddit':y_test, 'Check':check})\n",
    "df_pred.head()"
   ]
  },
  {
   "cell_type": "code",
   "execution_count": 289,
   "metadata": {},
   "outputs": [
    {
     "data": {
      "text/plain": [
       "True     322\n",
       "False     55\n",
       "Name: subreddit, dtype: int64"
      ]
     },
     "execution_count": 289,
     "metadata": {},
     "output_type": "execute_result"
    }
   ],
   "source": [
    "check.value_counts()"
   ]
  },
  {
   "cell_type": "code",
   "execution_count": 290,
   "metadata": {},
   "outputs": [
    {
     "name": "stdout",
     "output_type": "stream",
     "text": [
      "All Data: 377\n",
      "Correctly Predict that the post is from HIMYM (TP): 153\n",
      "Correctly Predict that the post is from Big Bang Theory (TN): 169\n",
      "Incorrectly Predict that the post is from HIMYM (FP): 28\n",
      "Incorrectly Predict that the post is from Big Bang Theory (FN): 27\n"
     ]
    }
   ],
   "source": [
    "confusion_eval(y_test,bayes_min2)"
   ]
  },
  {
   "cell_type": "code",
   "execution_count": 291,
   "metadata": {},
   "outputs": [
    {
     "name": "stdout",
     "output_type": "stream",
     "text": [
      "Accuracy: 0.8541\n",
      "Misclassification rate: 0.1459\n",
      "Precision: 0.8453\n",
      "Recall: 0.85\n",
      "Specificity: 0.8579\n"
     ]
    }
   ],
   "source": [
    "confusion_score(y_test,bayes_min2)"
   ]
  },
  {
   "cell_type": "markdown",
   "metadata": {},
   "source": [
    "### Adjusting Naive Bayes Model\n",
    "\n",
    "The naive bayes regression model predicting test data with 85% accuracy.\n",
    "\n",
    "Looking at the confusion martrix, less HIMYM (154 posts) posts were misclassfied as Big Bang Theory posts (169 posts). Now we will adjust the model parameters:"
   ]
  },
  {
   "cell_type": "code",
   "execution_count": 292,
   "metadata": {},
   "outputs": [],
   "source": [
    "cvec = CountVectorizer(analyzer = \"word\",\n",
    "                       tokenizer = None,\n",
    "                       preprocessor = None,\n",
    "                       stop_words = None,\n",
    "                       max_features=None,\n",
    "                       min_df=1,\n",
    "                       max_df=1.0,\n",
    "                       ngram_range=(1,1))"
   ]
  },
  {
   "cell_type": "code",
   "execution_count": 293,
   "metadata": {},
   "outputs": [
    {
     "name": "stdout",
     "output_type": "stream",
     "text": [
      "Train Data Shape (1504, 5322)\n",
      "Test Data Shape (377, 5322)\n"
     ]
    }
   ],
   "source": [
    "train_data_features = cvec.fit_transform(clean_text_train)\n",
    "test_data_features = cvec.transform(clean_text_test)\n",
    "print('Train Data Shape',train_data_features.shape)\n",
    "print('Test Data Shape',test_data_features.shape)"
   ]
  },
  {
   "cell_type": "markdown",
   "metadata": {},
   "source": [
    "##### Naive Bayes Hyperparameters Tuning"
   ]
  },
  {
   "cell_type": "code",
   "execution_count": 294,
   "metadata": {},
   "outputs": [],
   "source": [
    "nb = MultinomialNB()"
   ]
  },
  {
   "cell_type": "code",
   "execution_count": 295,
   "metadata": {},
   "outputs": [
    {
     "data": {
      "text/plain": [
       "dict_keys(['alpha', 'class_prior', 'fit_prior'])"
      ]
     },
     "execution_count": 295,
     "metadata": {},
     "output_type": "execute_result"
    }
   ],
   "source": [
    "nb.get_params().keys()"
   ]
  },
  {
   "cell_type": "code",
   "execution_count": 296,
   "metadata": {},
   "outputs": [],
   "source": [
    "nb_params = {\n",
    "    'alpha': np.linspace(0.5, 1.5, 6),\n",
    "    'fit_prior': [True, False],  \n",
    "}"
   ]
  },
  {
   "cell_type": "code",
   "execution_count": 297,
   "metadata": {},
   "outputs": [],
   "source": [
    "nb_gridsearch = GridSearchCV(MultinomialNB(), nb_params)"
   ]
  },
  {
   "cell_type": "code",
   "execution_count": 298,
   "metadata": {},
   "outputs": [
    {
     "data": {
      "text/plain": [
       "0.8690121816168329"
      ]
     },
     "execution_count": 298,
     "metadata": {},
     "output_type": "execute_result"
    }
   ],
   "source": [
    "nb_gridsearch.fit(train_data_features, y_train)\n",
    "\n",
    "nb_gridsearch.best_score_"
   ]
  },
  {
   "cell_type": "code",
   "execution_count": 299,
   "metadata": {},
   "outputs": [
    {
     "data": {
      "text/plain": [
       "{'alpha': 0.7, 'fit_prior': True}"
      ]
     },
     "execution_count": 299,
     "metadata": {},
     "output_type": "execute_result"
    }
   ],
   "source": [
    "nb_gridsearch.best_params_"
   ]
  },
  {
   "cell_type": "code",
   "execution_count": 300,
   "metadata": {
    "scrolled": true
   },
   "outputs": [
    {
     "data": {
      "text/plain": [
       "0.8647214854111406"
      ]
     },
     "execution_count": 300,
     "metadata": {},
     "output_type": "execute_result"
    }
   ],
   "source": [
    "nb_gridsearch.score(test_data_features, y_test)"
   ]
  },
  {
   "cell_type": "code",
   "execution_count": 301,
   "metadata": {},
   "outputs": [
    {
     "data": {
      "text/plain": [
       "True     326\n",
       "False     51\n",
       "Name: subreddit, dtype: int64"
      ]
     },
     "execution_count": 301,
     "metadata": {},
     "output_type": "execute_result"
    }
   ],
   "source": [
    "predict_nb_grid = nb_gridsearch.predict(test_data_features)\n",
    "\n",
    "check = predict_nb_grid == y_test\n",
    "check.value_counts()"
   ]
  },
  {
   "cell_type": "code",
   "execution_count": 302,
   "metadata": {
    "scrolled": true
   },
   "outputs": [
    {
     "name": "stdout",
     "output_type": "stream",
     "text": [
      "All Data: 377\n",
      "Correctly Predict that the post is from HIMYM (TP): 158\n",
      "Correctly Predict that the post is from Big Bang Theory (TN): 168\n",
      "Incorrectly Predict that the post is from HIMYM (FP): 29\n",
      "Incorrectly Predict that the post is from Big Bang Theory (FN): 22\n"
     ]
    }
   ],
   "source": [
    "confusion_eval(y_test,predict_nb_grid)"
   ]
  },
  {
   "cell_type": "code",
   "execution_count": 303,
   "metadata": {
    "scrolled": true
   },
   "outputs": [
    {
     "name": "stdout",
     "output_type": "stream",
     "text": [
      "Accuracy: 0.8647\n",
      "Misclassification rate: 0.1353\n",
      "Precision: 0.8449\n",
      "Recall: 0.8778\n",
      "Specificity: 0.8528\n"
     ]
    }
   ],
   "source": [
    "# Examine some classification metrics \n",
    "confusion_score(y_test,predict_nb_grid)"
   ]
  },
  {
   "cell_type": "markdown",
   "metadata": {},
   "source": [
    "Through customized paramter setting for Naive Bayes Estimators using GridSearch CV, the best parameters were:\n",
    "- CountVectorizer\n",
    "- Logistic Regression\n",
    "    - 'alpha': 0.7\n",
    "    - 'fit_prior': True"
   ]
  },
  {
   "cell_type": "markdown",
   "metadata": {},
   "source": [
    "---\n",
    "\n",
    "# Evaluation and Best Model\n",
    "\n",
    "From exploring each model score and its corresponding confusion matrix; we are able to identify that the best model for word prediction is Naive Bayes estimator at alpha equals to 0.7, fit_prior is True with deafult Count Vectorizer. "
   ]
  },
  {
   "cell_type": "markdown",
   "metadata": {},
   "source": [
    "### Confusion Matrix Evaluation"
   ]
  },
  {
   "cell_type": "code",
   "execution_count": 304,
   "metadata": {},
   "outputs": [
    {
     "data": {
      "text/plain": [
       "True     326\n",
       "False     51\n",
       "Name: subreddit, dtype: int64"
      ]
     },
     "execution_count": 304,
     "metadata": {},
     "output_type": "execute_result"
    }
   ],
   "source": [
    "check = predict_nb_grid == y_test\n",
    "check.value_counts()"
   ]
  },
  {
   "cell_type": "code",
   "execution_count": 305,
   "metadata": {},
   "outputs": [
    {
     "data": {
      "text/html": [
       "<div>\n",
       "<style scoped>\n",
       "    .dataframe tbody tr th:only-of-type {\n",
       "        vertical-align: middle;\n",
       "    }\n",
       "\n",
       "    .dataframe tbody tr th {\n",
       "        vertical-align: top;\n",
       "    }\n",
       "\n",
       "    .dataframe thead th {\n",
       "        text-align: right;\n",
       "    }\n",
       "</style>\n",
       "<table border=\"1\" class=\"dataframe\">\n",
       "  <thead>\n",
       "    <tr style=\"text-align: right;\">\n",
       "      <th></th>\n",
       "      <th>0</th>\n",
       "    </tr>\n",
       "  </thead>\n",
       "  <tbody>\n",
       "    <tr>\n",
       "      <th>0</th>\n",
       "      <td>0</td>\n",
       "    </tr>\n",
       "    <tr>\n",
       "      <th>1</th>\n",
       "      <td>1</td>\n",
       "    </tr>\n",
       "    <tr>\n",
       "      <th>2</th>\n",
       "      <td>1</td>\n",
       "    </tr>\n",
       "    <tr>\n",
       "      <th>3</th>\n",
       "      <td>0</td>\n",
       "    </tr>\n",
       "    <tr>\n",
       "      <th>4</th>\n",
       "      <td>0</td>\n",
       "    </tr>\n",
       "    <tr>\n",
       "      <th>...</th>\n",
       "      <td>...</td>\n",
       "    </tr>\n",
       "    <tr>\n",
       "      <th>372</th>\n",
       "      <td>0</td>\n",
       "    </tr>\n",
       "    <tr>\n",
       "      <th>373</th>\n",
       "      <td>1</td>\n",
       "    </tr>\n",
       "    <tr>\n",
       "      <th>374</th>\n",
       "      <td>1</td>\n",
       "    </tr>\n",
       "    <tr>\n",
       "      <th>375</th>\n",
       "      <td>0</td>\n",
       "    </tr>\n",
       "    <tr>\n",
       "      <th>376</th>\n",
       "      <td>1</td>\n",
       "    </tr>\n",
       "  </tbody>\n",
       "</table>\n",
       "<p>377 rows × 1 columns</p>\n",
       "</div>"
      ],
      "text/plain": [
       "     0\n",
       "0    0\n",
       "1    1\n",
       "2    1\n",
       "3    0\n",
       "4    0\n",
       "..  ..\n",
       "372  0\n",
       "373  1\n",
       "374  1\n",
       "375  0\n",
       "376  1\n",
       "\n",
       "[377 rows x 1 columns]"
      ]
     },
     "execution_count": 305,
     "metadata": {},
     "output_type": "execute_result"
    }
   ],
   "source": [
    "pd.DataFrame(predict_nb_grid)"
   ]
  },
  {
   "cell_type": "code",
   "execution_count": 306,
   "metadata": {},
   "outputs": [
    {
     "name": "stdout",
     "output_type": "stream",
     "text": [
      "All Data: 377\n",
      "Correctly Predict that the post is from HIMYM (TP): 158\n",
      "Correctly Predict that the post is from Big Bang Theory (TN): 168\n",
      "Incorrectly Predict that the post is from HIMYM (FP): 29\n",
      "Incorrectly Predict that the post is from Big Bang Theory (FN): 22\n"
     ]
    }
   ],
   "source": [
    "confusion_eval(y_test,predict_nb_grid)"
   ]
  },
  {
   "cell_type": "code",
   "execution_count": 307,
   "metadata": {},
   "outputs": [
    {
     "data": {
      "text/html": [
       "<div>\n",
       "<style scoped>\n",
       "    .dataframe tbody tr th:only-of-type {\n",
       "        vertical-align: middle;\n",
       "    }\n",
       "\n",
       "    .dataframe tbody tr th {\n",
       "        vertical-align: top;\n",
       "    }\n",
       "\n",
       "    .dataframe thead th {\n",
       "        text-align: right;\n",
       "    }\n",
       "</style>\n",
       "<table border=\"1\" class=\"dataframe\">\n",
       "  <thead>\n",
       "    <tr style=\"text-align: right;\">\n",
       "      <th></th>\n",
       "      <th>predict Big Bang Theory</th>\n",
       "      <th>predict HIMYM</th>\n",
       "    </tr>\n",
       "  </thead>\n",
       "  <tbody>\n",
       "    <tr>\n",
       "      <th>actual Big Bang Theory</th>\n",
       "      <td>168</td>\n",
       "      <td>29</td>\n",
       "    </tr>\n",
       "    <tr>\n",
       "      <th>actual HIMYM</th>\n",
       "      <td>22</td>\n",
       "      <td>158</td>\n",
       "    </tr>\n",
       "  </tbody>\n",
       "</table>\n",
       "</div>"
      ],
      "text/plain": [
       "                        predict Big Bang Theory  predict HIMYM\n",
       "actual Big Bang Theory                      168             29\n",
       "actual HIMYM                                 22            158"
      ]
     },
     "execution_count": 307,
     "metadata": {},
     "output_type": "execute_result"
    }
   ],
   "source": [
    "best_model = pd.DataFrame(confusion_matrix(y_test,predict_nb_grid),\n",
    "                          columns=['predict Big Bang Theory', 'predict HIMYM'],\n",
    "                          index=['actual Big Bang Theory', 'actual HIMYM'])\n",
    "best_model"
   ]
  },
  {
   "cell_type": "code",
   "execution_count": 308,
   "metadata": {
    "scrolled": true
   },
   "outputs": [
    {
     "name": "stdout",
     "output_type": "stream",
     "text": [
      "Accuracy: 0.8647\n",
      "Misclassification rate: 0.1353\n",
      "Precision: 0.8449\n",
      "Recall: 0.8778\n",
      "Specificity: 0.8528\n"
     ]
    }
   ],
   "source": [
    "# Examine some classification metrics \n",
    "confusion_score(y_test,predict_nb_grid)"
   ]
  },
  {
   "cell_type": "markdown",
   "metadata": {},
   "source": [
    "From looking at the confusion matrix we can say that our best model can:\n",
    "\n",
    "- Our model predict 86% of the observations\n",
    "- Among the posts that the model predicted 83% were correctly classified as HIMYM posts\n",
    "- Among the posts that are in HIMYM, the model has 88% correctly classified\n",
    "- Among the posts that are in The Big Bang Theory, the model has 83% correctly classified"
   ]
  },
  {
   "cell_type": "markdown",
   "metadata": {},
   "source": [
    "### Log Probability of Features Evaluation\n",
    "\n",
    "From the confusion matrix evaluation I want to explore deeper into each words and how much effect different words have on the predictions."
   ]
  },
  {
   "cell_type": "code",
   "execution_count": 309,
   "metadata": {},
   "outputs": [
    {
     "name": "stdout",
     "output_type": "stream",
     "text": [
      "Train Naive Bayes regression Accuracy: 0.8690121816168329\n",
      "Test Naive Bayes regression Accuracy: 0.8437543859649124\n"
     ]
    }
   ],
   "source": [
    "cvec = CountVectorizer()\n",
    "nb = MultinomialNB(alpha=0.7,fit_prior=True)\n",
    "\n",
    "train_data_features = cvec.fit_transform(clean_text_train)\n",
    "test_data_features = cvec.transform(clean_text_test)\n",
    "\n",
    "nb.fit(train_data_features,y_train)\n",
    "\n",
    "print('Train Naive Bayes regression Accuracy:', cross_val_score(nb,train_data_features,y_train,cv=5).mean())\n",
    "print('Test Naive Bayes regression Accuracy:', cross_val_score(nb,test_data_features, y_test,cv=5).mean())"
   ]
  },
  {
   "cell_type": "code",
   "execution_count": 310,
   "metadata": {
    "scrolled": true
   },
   "outputs": [
    {
     "data": {
      "text/html": [
       "<div>\n",
       "<style scoped>\n",
       "    .dataframe tbody tr th:only-of-type {\n",
       "        vertical-align: middle;\n",
       "    }\n",
       "\n",
       "    .dataframe tbody tr th {\n",
       "        vertical-align: top;\n",
       "    }\n",
       "\n",
       "    .dataframe thead th {\n",
       "        text-align: right;\n",
       "    }\n",
       "</style>\n",
       "<table border=\"1\" class=\"dataframe\">\n",
       "  <thead>\n",
       "    <tr style=\"text-align: right;\">\n",
       "      <th></th>\n",
       "      <th>abby</th>\n",
       "      <th>abigail</th>\n",
       "      <th>ability</th>\n",
       "      <th>able</th>\n",
       "      <th>abruptly</th>\n",
       "      <th>absence</th>\n",
       "      <th>absolute</th>\n",
       "      <th>absolutely</th>\n",
       "      <th>absurd</th>\n",
       "      <th>abuse</th>\n",
       "      <th>...</th>\n",
       "      <th>zack</th>\n",
       "      <th>zapka</th>\n",
       "      <th>zazzy</th>\n",
       "      <th>zinger</th>\n",
       "      <th>zinman</th>\n",
       "      <th>zoey</th>\n",
       "      <th>zoeys</th>\n",
       "      <th>zone</th>\n",
       "      <th>zoo</th>\n",
       "      <th>zoom</th>\n",
       "    </tr>\n",
       "  </thead>\n",
       "  <tbody>\n",
       "    <tr>\n",
       "      <th>0</th>\n",
       "      <td>0</td>\n",
       "      <td>0</td>\n",
       "      <td>0</td>\n",
       "      <td>0</td>\n",
       "      <td>0</td>\n",
       "      <td>0</td>\n",
       "      <td>0</td>\n",
       "      <td>0</td>\n",
       "      <td>0</td>\n",
       "      <td>0</td>\n",
       "      <td>...</td>\n",
       "      <td>0</td>\n",
       "      <td>0</td>\n",
       "      <td>0</td>\n",
       "      <td>0</td>\n",
       "      <td>0</td>\n",
       "      <td>0</td>\n",
       "      <td>0</td>\n",
       "      <td>0</td>\n",
       "      <td>0</td>\n",
       "      <td>0</td>\n",
       "    </tr>\n",
       "    <tr>\n",
       "      <th>1</th>\n",
       "      <td>0</td>\n",
       "      <td>0</td>\n",
       "      <td>0</td>\n",
       "      <td>0</td>\n",
       "      <td>0</td>\n",
       "      <td>0</td>\n",
       "      <td>0</td>\n",
       "      <td>0</td>\n",
       "      <td>0</td>\n",
       "      <td>0</td>\n",
       "      <td>...</td>\n",
       "      <td>0</td>\n",
       "      <td>0</td>\n",
       "      <td>0</td>\n",
       "      <td>0</td>\n",
       "      <td>0</td>\n",
       "      <td>0</td>\n",
       "      <td>0</td>\n",
       "      <td>0</td>\n",
       "      <td>0</td>\n",
       "      <td>0</td>\n",
       "    </tr>\n",
       "    <tr>\n",
       "      <th>2</th>\n",
       "      <td>0</td>\n",
       "      <td>0</td>\n",
       "      <td>0</td>\n",
       "      <td>0</td>\n",
       "      <td>0</td>\n",
       "      <td>0</td>\n",
       "      <td>0</td>\n",
       "      <td>0</td>\n",
       "      <td>0</td>\n",
       "      <td>0</td>\n",
       "      <td>...</td>\n",
       "      <td>0</td>\n",
       "      <td>0</td>\n",
       "      <td>0</td>\n",
       "      <td>0</td>\n",
       "      <td>0</td>\n",
       "      <td>0</td>\n",
       "      <td>0</td>\n",
       "      <td>0</td>\n",
       "      <td>0</td>\n",
       "      <td>0</td>\n",
       "    </tr>\n",
       "    <tr>\n",
       "      <th>3</th>\n",
       "      <td>0</td>\n",
       "      <td>0</td>\n",
       "      <td>0</td>\n",
       "      <td>0</td>\n",
       "      <td>0</td>\n",
       "      <td>0</td>\n",
       "      <td>0</td>\n",
       "      <td>0</td>\n",
       "      <td>0</td>\n",
       "      <td>0</td>\n",
       "      <td>...</td>\n",
       "      <td>0</td>\n",
       "      <td>0</td>\n",
       "      <td>0</td>\n",
       "      <td>0</td>\n",
       "      <td>0</td>\n",
       "      <td>0</td>\n",
       "      <td>0</td>\n",
       "      <td>0</td>\n",
       "      <td>0</td>\n",
       "      <td>0</td>\n",
       "    </tr>\n",
       "    <tr>\n",
       "      <th>4</th>\n",
       "      <td>0</td>\n",
       "      <td>0</td>\n",
       "      <td>0</td>\n",
       "      <td>0</td>\n",
       "      <td>0</td>\n",
       "      <td>0</td>\n",
       "      <td>0</td>\n",
       "      <td>0</td>\n",
       "      <td>0</td>\n",
       "      <td>0</td>\n",
       "      <td>...</td>\n",
       "      <td>0</td>\n",
       "      <td>0</td>\n",
       "      <td>0</td>\n",
       "      <td>0</td>\n",
       "      <td>0</td>\n",
       "      <td>0</td>\n",
       "      <td>0</td>\n",
       "      <td>0</td>\n",
       "      <td>0</td>\n",
       "      <td>0</td>\n",
       "    </tr>\n",
       "    <tr>\n",
       "      <th>...</th>\n",
       "      <td>...</td>\n",
       "      <td>...</td>\n",
       "      <td>...</td>\n",
       "      <td>...</td>\n",
       "      <td>...</td>\n",
       "      <td>...</td>\n",
       "      <td>...</td>\n",
       "      <td>...</td>\n",
       "      <td>...</td>\n",
       "      <td>...</td>\n",
       "      <td>...</td>\n",
       "      <td>...</td>\n",
       "      <td>...</td>\n",
       "      <td>...</td>\n",
       "      <td>...</td>\n",
       "      <td>...</td>\n",
       "      <td>...</td>\n",
       "      <td>...</td>\n",
       "      <td>...</td>\n",
       "      <td>...</td>\n",
       "      <td>...</td>\n",
       "    </tr>\n",
       "    <tr>\n",
       "      <th>372</th>\n",
       "      <td>0</td>\n",
       "      <td>0</td>\n",
       "      <td>0</td>\n",
       "      <td>0</td>\n",
       "      <td>0</td>\n",
       "      <td>0</td>\n",
       "      <td>0</td>\n",
       "      <td>0</td>\n",
       "      <td>0</td>\n",
       "      <td>0</td>\n",
       "      <td>...</td>\n",
       "      <td>0</td>\n",
       "      <td>0</td>\n",
       "      <td>0</td>\n",
       "      <td>0</td>\n",
       "      <td>0</td>\n",
       "      <td>0</td>\n",
       "      <td>0</td>\n",
       "      <td>0</td>\n",
       "      <td>0</td>\n",
       "      <td>0</td>\n",
       "    </tr>\n",
       "    <tr>\n",
       "      <th>373</th>\n",
       "      <td>0</td>\n",
       "      <td>0</td>\n",
       "      <td>0</td>\n",
       "      <td>0</td>\n",
       "      <td>0</td>\n",
       "      <td>0</td>\n",
       "      <td>0</td>\n",
       "      <td>0</td>\n",
       "      <td>0</td>\n",
       "      <td>0</td>\n",
       "      <td>...</td>\n",
       "      <td>0</td>\n",
       "      <td>0</td>\n",
       "      <td>0</td>\n",
       "      <td>0</td>\n",
       "      <td>0</td>\n",
       "      <td>0</td>\n",
       "      <td>0</td>\n",
       "      <td>0</td>\n",
       "      <td>0</td>\n",
       "      <td>0</td>\n",
       "    </tr>\n",
       "    <tr>\n",
       "      <th>374</th>\n",
       "      <td>0</td>\n",
       "      <td>0</td>\n",
       "      <td>0</td>\n",
       "      <td>0</td>\n",
       "      <td>0</td>\n",
       "      <td>0</td>\n",
       "      <td>0</td>\n",
       "      <td>0</td>\n",
       "      <td>0</td>\n",
       "      <td>0</td>\n",
       "      <td>...</td>\n",
       "      <td>0</td>\n",
       "      <td>0</td>\n",
       "      <td>0</td>\n",
       "      <td>0</td>\n",
       "      <td>0</td>\n",
       "      <td>0</td>\n",
       "      <td>0</td>\n",
       "      <td>0</td>\n",
       "      <td>0</td>\n",
       "      <td>0</td>\n",
       "    </tr>\n",
       "    <tr>\n",
       "      <th>375</th>\n",
       "      <td>0</td>\n",
       "      <td>0</td>\n",
       "      <td>0</td>\n",
       "      <td>0</td>\n",
       "      <td>0</td>\n",
       "      <td>0</td>\n",
       "      <td>0</td>\n",
       "      <td>0</td>\n",
       "      <td>0</td>\n",
       "      <td>0</td>\n",
       "      <td>...</td>\n",
       "      <td>0</td>\n",
       "      <td>0</td>\n",
       "      <td>0</td>\n",
       "      <td>0</td>\n",
       "      <td>0</td>\n",
       "      <td>0</td>\n",
       "      <td>0</td>\n",
       "      <td>0</td>\n",
       "      <td>0</td>\n",
       "      <td>0</td>\n",
       "    </tr>\n",
       "    <tr>\n",
       "      <th>376</th>\n",
       "      <td>0</td>\n",
       "      <td>0</td>\n",
       "      <td>0</td>\n",
       "      <td>0</td>\n",
       "      <td>0</td>\n",
       "      <td>0</td>\n",
       "      <td>0</td>\n",
       "      <td>0</td>\n",
       "      <td>0</td>\n",
       "      <td>0</td>\n",
       "      <td>...</td>\n",
       "      <td>0</td>\n",
       "      <td>0</td>\n",
       "      <td>0</td>\n",
       "      <td>0</td>\n",
       "      <td>0</td>\n",
       "      <td>0</td>\n",
       "      <td>0</td>\n",
       "      <td>0</td>\n",
       "      <td>0</td>\n",
       "      <td>0</td>\n",
       "    </tr>\n",
       "  </tbody>\n",
       "</table>\n",
       "<p>377 rows × 5322 columns</p>\n",
       "</div>"
      ],
      "text/plain": [
       "     abby  abigail  ability  able  abruptly  absence  absolute  absolutely  \\\n",
       "0       0        0        0     0         0        0         0           0   \n",
       "1       0        0        0     0         0        0         0           0   \n",
       "2       0        0        0     0         0        0         0           0   \n",
       "3       0        0        0     0         0        0         0           0   \n",
       "4       0        0        0     0         0        0         0           0   \n",
       "..    ...      ...      ...   ...       ...      ...       ...         ...   \n",
       "372     0        0        0     0         0        0         0           0   \n",
       "373     0        0        0     0         0        0         0           0   \n",
       "374     0        0        0     0         0        0         0           0   \n",
       "375     0        0        0     0         0        0         0           0   \n",
       "376     0        0        0     0         0        0         0           0   \n",
       "\n",
       "     absurd  abuse  ...  zack  zapka  zazzy  zinger  zinman  zoey  zoeys  \\\n",
       "0         0      0  ...     0      0      0       0       0     0      0   \n",
       "1         0      0  ...     0      0      0       0       0     0      0   \n",
       "2         0      0  ...     0      0      0       0       0     0      0   \n",
       "3         0      0  ...     0      0      0       0       0     0      0   \n",
       "4         0      0  ...     0      0      0       0       0     0      0   \n",
       "..      ...    ...  ...   ...    ...    ...     ...     ...   ...    ...   \n",
       "372       0      0  ...     0      0      0       0       0     0      0   \n",
       "373       0      0  ...     0      0      0       0       0     0      0   \n",
       "374       0      0  ...     0      0      0       0       0     0      0   \n",
       "375       0      0  ...     0      0      0       0       0     0      0   \n",
       "376       0      0  ...     0      0      0       0       0     0      0   \n",
       "\n",
       "     zone  zoo  zoom  \n",
       "0       0    0     0  \n",
       "1       0    0     0  \n",
       "2       0    0     0  \n",
       "3       0    0     0  \n",
       "4       0    0     0  \n",
       "..    ...  ...   ...  \n",
       "372     0    0     0  \n",
       "373     0    0     0  \n",
       "374     0    0     0  \n",
       "375     0    0     0  \n",
       "376     0    0     0  \n",
       "\n",
       "[377 rows x 5322 columns]"
      ]
     },
     "execution_count": 310,
     "metadata": {},
     "output_type": "execute_result"
    }
   ],
   "source": [
    "# Create a word count data frame\n",
    "count_df = pd.DataFrame(test_data_features.todense(),columns=cvec.get_feature_names())\n",
    "count_df"
   ]
  },
  {
   "cell_type": "code",
   "execution_count": 311,
   "metadata": {},
   "outputs": [
    {
     "data": {
      "text/plain": [
       "array([[-10.16400396, -10.16400396,  -9.27670076, ...,  -8.81407724,\n",
       "        -10.16400396, -10.16400396],\n",
       "       [ -9.30978105,  -9.30978105, -10.19708424, ..., -10.19708424,\n",
       "         -9.30978105,  -9.30978105]])"
      ]
     },
     "execution_count": 311,
     "metadata": {},
     "output_type": "execute_result"
    }
   ],
   "source": [
    "nb.feature_log_prob_"
   ]
  },
  {
   "cell_type": "code",
   "execution_count": 312,
   "metadata": {
    "scrolled": false
   },
   "outputs": [
    {
     "data": {
      "text/html": [
       "<div>\n",
       "<style scoped>\n",
       "    .dataframe tbody tr th:only-of-type {\n",
       "        vertical-align: middle;\n",
       "    }\n",
       "\n",
       "    .dataframe tbody tr th {\n",
       "        vertical-align: top;\n",
       "    }\n",
       "\n",
       "    .dataframe thead th {\n",
       "        text-align: right;\n",
       "    }\n",
       "</style>\n",
       "<table border=\"1\" class=\"dataframe\">\n",
       "  <thead>\n",
       "    <tr style=\"text-align: right;\">\n",
       "      <th></th>\n",
       "      <th>HIMYM</th>\n",
       "      <th>BigBangTheory</th>\n",
       "      <th>Word</th>\n",
       "    </tr>\n",
       "  </thead>\n",
       "  <tbody>\n",
       "    <tr>\n",
       "      <th>0</th>\n",
       "      <td>-10.164004</td>\n",
       "      <td>-9.309781</td>\n",
       "      <td>abby</td>\n",
       "    </tr>\n",
       "    <tr>\n",
       "      <th>1</th>\n",
       "      <td>-10.164004</td>\n",
       "      <td>-9.309781</td>\n",
       "      <td>abigail</td>\n",
       "    </tr>\n",
       "    <tr>\n",
       "      <th>2</th>\n",
       "      <td>-9.276701</td>\n",
       "      <td>-10.197084</td>\n",
       "      <td>ability</td>\n",
       "    </tr>\n",
       "    <tr>\n",
       "      <th>3</th>\n",
       "      <td>-7.347740</td>\n",
       "      <td>-7.677086</td>\n",
       "      <td>able</td>\n",
       "    </tr>\n",
       "    <tr>\n",
       "      <th>4</th>\n",
       "      <td>-9.276701</td>\n",
       "      <td>-10.197084</td>\n",
       "      <td>abruptly</td>\n",
       "    </tr>\n",
       "    <tr>\n",
       "      <th>...</th>\n",
       "      <td>...</td>\n",
       "      <td>...</td>\n",
       "      <td>...</td>\n",
       "    </tr>\n",
       "    <tr>\n",
       "      <th>5317</th>\n",
       "      <td>-10.164004</td>\n",
       "      <td>-8.099943</td>\n",
       "      <td>zoey</td>\n",
       "    </tr>\n",
       "    <tr>\n",
       "      <th>5318</th>\n",
       "      <td>-10.164004</td>\n",
       "      <td>-9.309781</td>\n",
       "      <td>zoeys</td>\n",
       "    </tr>\n",
       "    <tr>\n",
       "      <th>5319</th>\n",
       "      <td>-8.814077</td>\n",
       "      <td>-10.197084</td>\n",
       "      <td>zone</td>\n",
       "    </tr>\n",
       "    <tr>\n",
       "      <th>5320</th>\n",
       "      <td>-10.164004</td>\n",
       "      <td>-9.309781</td>\n",
       "      <td>zoo</td>\n",
       "    </tr>\n",
       "    <tr>\n",
       "      <th>5321</th>\n",
       "      <td>-10.164004</td>\n",
       "      <td>-9.309781</td>\n",
       "      <td>zoom</td>\n",
       "    </tr>\n",
       "  </tbody>\n",
       "</table>\n",
       "<p>5322 rows × 3 columns</p>\n",
       "</div>"
      ],
      "text/plain": [
       "          HIMYM  BigBangTheory      Word\n",
       "0    -10.164004      -9.309781      abby\n",
       "1    -10.164004      -9.309781   abigail\n",
       "2     -9.276701     -10.197084   ability\n",
       "3     -7.347740      -7.677086      able\n",
       "4     -9.276701     -10.197084  abruptly\n",
       "...         ...            ...       ...\n",
       "5317 -10.164004      -8.099943      zoey\n",
       "5318 -10.164004      -9.309781     zoeys\n",
       "5319  -8.814077     -10.197084      zone\n",
       "5320 -10.164004      -9.309781       zoo\n",
       "5321 -10.164004      -9.309781      zoom\n",
       "\n",
       "[5322 rows x 3 columns]"
      ]
     },
     "execution_count": 312,
     "metadata": {},
     "output_type": "execute_result"
    }
   ],
   "source": [
    "nb_eval = pd.DataFrame(data={'HIMYM':nb.feature_log_prob_[0],'BigBangTheory':nb.feature_log_prob_[1],'Word':count_df.columns})\n",
    "\n",
    "nb_eval"
   ]
  },
  {
   "cell_type": "code",
   "execution_count": 313,
   "metadata": {},
   "outputs": [],
   "source": [
    "nb_eval['EvalScore'] = nb_eval['HIMYM'] - nb_eval['BigBangTheory']"
   ]
  },
  {
   "cell_type": "code",
   "execution_count": 314,
   "metadata": {
    "scrolled": true
   },
   "outputs": [
    {
     "data": {
      "text/html": [
       "<div>\n",
       "<style scoped>\n",
       "    .dataframe tbody tr th:only-of-type {\n",
       "        vertical-align: middle;\n",
       "    }\n",
       "\n",
       "    .dataframe tbody tr th {\n",
       "        vertical-align: top;\n",
       "    }\n",
       "\n",
       "    .dataframe thead th {\n",
       "        text-align: right;\n",
       "    }\n",
       "</style>\n",
       "<table border=\"1\" class=\"dataframe\">\n",
       "  <thead>\n",
       "    <tr style=\"text-align: right;\">\n",
       "      <th></th>\n",
       "      <th>HIMYM</th>\n",
       "      <th>BigBangTheory</th>\n",
       "      <th>Word</th>\n",
       "      <th>EvalScore</th>\n",
       "    </tr>\n",
       "  </thead>\n",
       "  <tbody>\n",
       "    <tr>\n",
       "      <th>4714</th>\n",
       "      <td>-10.164004</td>\n",
       "      <td>-3.869913</td>\n",
       "      <td>ted</td>\n",
       "      <td>-6.294091</td>\n",
       "    </tr>\n",
       "    <tr>\n",
       "      <th>4000</th>\n",
       "      <td>-10.164004</td>\n",
       "      <td>-4.147688</td>\n",
       "      <td>robin</td>\n",
       "      <td>-6.016316</td>\n",
       "    </tr>\n",
       "    <tr>\n",
       "      <th>401</th>\n",
       "      <td>-10.164004</td>\n",
       "      <td>-4.261812</td>\n",
       "      <td>barney</td>\n",
       "      <td>-5.902192</td>\n",
       "    </tr>\n",
       "    <tr>\n",
       "      <th>2746</th>\n",
       "      <td>-10.164004</td>\n",
       "      <td>-4.694661</td>\n",
       "      <td>lily</td>\n",
       "      <td>-5.469343</td>\n",
       "    </tr>\n",
       "    <tr>\n",
       "      <th>2897</th>\n",
       "      <td>-10.164004</td>\n",
       "      <td>-4.760870</td>\n",
       "      <td>marshall</td>\n",
       "      <td>-5.403134</td>\n",
       "    </tr>\n",
       "    <tr>\n",
       "      <th>4859</th>\n",
       "      <td>-10.164004</td>\n",
       "      <td>-5.487554</td>\n",
       "      <td>tracy</td>\n",
       "      <td>-4.676450</td>\n",
       "    </tr>\n",
       "    <tr>\n",
       "      <th>2215</th>\n",
       "      <td>-9.276701</td>\n",
       "      <td>-4.982925</td>\n",
       "      <td>himym</td>\n",
       "      <td>-4.293776</td>\n",
       "    </tr>\n",
       "    <tr>\n",
       "      <th>2896</th>\n",
       "      <td>-10.164004</td>\n",
       "      <td>-6.322911</td>\n",
       "      <td>marshal</td>\n",
       "      <td>-3.841092</td>\n",
       "    </tr>\n",
       "    <tr>\n",
       "      <th>5077</th>\n",
       "      <td>-10.164004</td>\n",
       "      <td>-6.674934</td>\n",
       "      <td>victoria</td>\n",
       "      <td>-3.489070</td>\n",
       "    </tr>\n",
       "    <tr>\n",
       "      <th>4512</th>\n",
       "      <td>-10.164004</td>\n",
       "      <td>-7.086749</td>\n",
       "      <td>stella</td>\n",
       "      <td>-3.077255</td>\n",
       "    </tr>\n",
       "    <tr>\n",
       "      <th>608</th>\n",
       "      <td>-10.164004</td>\n",
       "      <td>-7.223013</td>\n",
       "      <td>bro</td>\n",
       "      <td>-2.940990</td>\n",
       "    </tr>\n",
       "    <tr>\n",
       "      <th>2551</th>\n",
       "      <td>-10.164004</td>\n",
       "      <td>-7.223013</td>\n",
       "      <td>josh</td>\n",
       "      <td>-2.940990</td>\n",
       "    </tr>\n",
       "    <tr>\n",
       "      <th>4068</th>\n",
       "      <td>-10.164004</td>\n",
       "      <td>-7.298807</td>\n",
       "      <td>san</td>\n",
       "      <td>-2.865197</td>\n",
       "    </tr>\n",
       "    <tr>\n",
       "      <th>3184</th>\n",
       "      <td>-10.164004</td>\n",
       "      <td>-7.298807</td>\n",
       "      <td>nora</td>\n",
       "      <td>-2.865197</td>\n",
       "    </tr>\n",
       "    <tr>\n",
       "      <th>381</th>\n",
       "      <td>-10.164004</td>\n",
       "      <td>-7.380820</td>\n",
       "      <td>band</td>\n",
       "      <td>-2.783184</td>\n",
       "    </tr>\n",
       "    <tr>\n",
       "      <th>1431</th>\n",
       "      <td>-10.164004</td>\n",
       "      <td>-7.380820</td>\n",
       "      <td>dying</td>\n",
       "      <td>-2.783184</td>\n",
       "    </tr>\n",
       "    <tr>\n",
       "      <th>147</th>\n",
       "      <td>-10.164004</td>\n",
       "      <td>-7.470166</td>\n",
       "      <td>alternate</td>\n",
       "      <td>-2.693838</td>\n",
       "    </tr>\n",
       "    <tr>\n",
       "      <th>2745</th>\n",
       "      <td>-10.164004</td>\n",
       "      <td>-7.470166</td>\n",
       "      <td>lilly</td>\n",
       "      <td>-2.693838</td>\n",
       "    </tr>\n",
       "    <tr>\n",
       "      <th>3761</th>\n",
       "      <td>-10.164004</td>\n",
       "      <td>-7.470166</td>\n",
       "      <td>radnor</td>\n",
       "      <td>-2.693838</td>\n",
       "    </tr>\n",
       "    <tr>\n",
       "      <th>1870</th>\n",
       "      <td>-10.164004</td>\n",
       "      <td>-7.470166</td>\n",
       "      <td>francisco</td>\n",
       "      <td>-2.693838</td>\n",
       "    </tr>\n",
       "  </tbody>\n",
       "</table>\n",
       "</div>"
      ],
      "text/plain": [
       "          HIMYM  BigBangTheory       Word  EvalScore\n",
       "4714 -10.164004      -3.869913        ted  -6.294091\n",
       "4000 -10.164004      -4.147688      robin  -6.016316\n",
       "401  -10.164004      -4.261812     barney  -5.902192\n",
       "2746 -10.164004      -4.694661       lily  -5.469343\n",
       "2897 -10.164004      -4.760870   marshall  -5.403134\n",
       "4859 -10.164004      -5.487554      tracy  -4.676450\n",
       "2215  -9.276701      -4.982925      himym  -4.293776\n",
       "2896 -10.164004      -6.322911    marshal  -3.841092\n",
       "5077 -10.164004      -6.674934   victoria  -3.489070\n",
       "4512 -10.164004      -7.086749     stella  -3.077255\n",
       "608  -10.164004      -7.223013        bro  -2.940990\n",
       "2551 -10.164004      -7.223013       josh  -2.940990\n",
       "4068 -10.164004      -7.298807        san  -2.865197\n",
       "3184 -10.164004      -7.298807       nora  -2.865197\n",
       "381  -10.164004      -7.380820       band  -2.783184\n",
       "1431 -10.164004      -7.380820      dying  -2.783184\n",
       "147  -10.164004      -7.470166  alternate  -2.693838\n",
       "2745 -10.164004      -7.470166      lilly  -2.693838\n",
       "3761 -10.164004      -7.470166     radnor  -2.693838\n",
       "1870 -10.164004      -7.470166  francisco  -2.693838"
      ]
     },
     "execution_count": 314,
     "metadata": {},
     "output_type": "execute_result"
    }
   ],
   "source": [
    "nb_eval.sort_values(by='EvalScore').head(20) #if eval score is more negative the word leans towards HIMYM"
   ]
  },
  {
   "cell_type": "code",
   "execution_count": 315,
   "metadata": {
    "scrolled": true
   },
   "outputs": [
    {
     "data": {
      "text/html": [
       "<div>\n",
       "<style scoped>\n",
       "    .dataframe tbody tr th:only-of-type {\n",
       "        vertical-align: middle;\n",
       "    }\n",
       "\n",
       "    .dataframe tbody tr th {\n",
       "        vertical-align: top;\n",
       "    }\n",
       "\n",
       "    .dataframe thead th {\n",
       "        text-align: right;\n",
       "    }\n",
       "</style>\n",
       "<table border=\"1\" class=\"dataframe\">\n",
       "  <thead>\n",
       "    <tr style=\"text-align: right;\">\n",
       "      <th></th>\n",
       "      <th>HIMYM</th>\n",
       "      <th>BigBangTheory</th>\n",
       "      <th>Word</th>\n",
       "      <th>EvalScore</th>\n",
       "    </tr>\n",
       "  </thead>\n",
       "  <tbody>\n",
       "    <tr>\n",
       "      <th>4220</th>\n",
       "      <td>-3.696527</td>\n",
       "      <td>-10.197084</td>\n",
       "      <td>sheldon</td>\n",
       "      <td>6.500557</td>\n",
       "    </tr>\n",
       "    <tr>\n",
       "      <th>2715</th>\n",
       "      <td>-4.510513</td>\n",
       "      <td>-10.197084</td>\n",
       "      <td>leonard</td>\n",
       "      <td>5.686571</td>\n",
       "    </tr>\n",
       "    <tr>\n",
       "      <th>176</th>\n",
       "      <td>-4.965507</td>\n",
       "      <td>-10.197084</td>\n",
       "      <td>amy</td>\n",
       "      <td>5.231577</td>\n",
       "    </tr>\n",
       "    <tr>\n",
       "      <th>3401</th>\n",
       "      <td>-4.480910</td>\n",
       "      <td>-9.309781</td>\n",
       "      <td>penny</td>\n",
       "      <td>4.828871</td>\n",
       "    </tr>\n",
       "    <tr>\n",
       "      <th>468</th>\n",
       "      <td>-5.701385</td>\n",
       "      <td>-10.197084</td>\n",
       "      <td>bernadette</td>\n",
       "      <td>4.495699</td>\n",
       "    </tr>\n",
       "    <tr>\n",
       "      <th>2283</th>\n",
       "      <td>-5.039190</td>\n",
       "      <td>-9.309781</td>\n",
       "      <td>howard</td>\n",
       "      <td>4.270591</td>\n",
       "    </tr>\n",
       "    <tr>\n",
       "      <th>3769</th>\n",
       "      <td>-5.073766</td>\n",
       "      <td>-9.309781</td>\n",
       "      <td>raj</td>\n",
       "      <td>4.236015</td>\n",
       "    </tr>\n",
       "    <tr>\n",
       "      <th>425</th>\n",
       "      <td>-6.351012</td>\n",
       "      <td>-10.197084</td>\n",
       "      <td>bbt</td>\n",
       "      <td>3.846072</td>\n",
       "    </tr>\n",
       "    <tr>\n",
       "      <th>403</th>\n",
       "      <td>-6.560838</td>\n",
       "      <td>-10.197084</td>\n",
       "      <td>barry</td>\n",
       "      <td>3.636246</td>\n",
       "    </tr>\n",
       "    <tr>\n",
       "      <th>1006</th>\n",
       "      <td>-6.641854</td>\n",
       "      <td>-10.197084</td>\n",
       "      <td>cooper</td>\n",
       "      <td>3.555230</td>\n",
       "    </tr>\n",
       "    <tr>\n",
       "      <th>2625</th>\n",
       "      <td>-6.777195</td>\n",
       "      <td>-10.197084</td>\n",
       "      <td>kripke</td>\n",
       "      <td>3.419889</td>\n",
       "    </tr>\n",
       "    <tr>\n",
       "      <th>893</th>\n",
       "      <td>-6.933764</td>\n",
       "      <td>-10.197084</td>\n",
       "      <td>comic</td>\n",
       "      <td>3.263320</td>\n",
       "    </tr>\n",
       "    <tr>\n",
       "      <th>4340</th>\n",
       "      <td>-6.991920</td>\n",
       "      <td>-10.197084</td>\n",
       "      <td>smart</td>\n",
       "      <td>3.205164</td>\n",
       "    </tr>\n",
       "    <tr>\n",
       "      <th>3627</th>\n",
       "      <td>-7.053668</td>\n",
       "      <td>-10.197084</td>\n",
       "      <td>priya</td>\n",
       "      <td>3.143416</td>\n",
       "    </tr>\n",
       "    <tr>\n",
       "      <th>5235</th>\n",
       "      <td>-7.053668</td>\n",
       "      <td>-10.197084</td>\n",
       "      <td>wolowitz</td>\n",
       "      <td>3.143416</td>\n",
       "    </tr>\n",
       "    <tr>\n",
       "      <th>472</th>\n",
       "      <td>-7.053668</td>\n",
       "      <td>-10.197084</td>\n",
       "      <td>bernie</td>\n",
       "      <td>3.143416</td>\n",
       "    </tr>\n",
       "    <tr>\n",
       "      <th>1789</th>\n",
       "      <td>-7.053668</td>\n",
       "      <td>-10.197084</td>\n",
       "      <td>flag</td>\n",
       "      <td>3.143416</td>\n",
       "    </tr>\n",
       "    <tr>\n",
       "      <th>2574</th>\n",
       "      <td>-7.053668</td>\n",
       "      <td>-10.197084</td>\n",
       "      <td>kaley</td>\n",
       "      <td>3.143416</td>\n",
       "    </tr>\n",
       "    <tr>\n",
       "      <th>3173</th>\n",
       "      <td>-7.189933</td>\n",
       "      <td>-10.197084</td>\n",
       "      <td>nobel</td>\n",
       "      <td>3.007151</td>\n",
       "    </tr>\n",
       "    <tr>\n",
       "      <th>422</th>\n",
       "      <td>-7.189933</td>\n",
       "      <td>-10.197084</td>\n",
       "      <td>bazinga</td>\n",
       "      <td>3.007151</td>\n",
       "    </tr>\n",
       "  </tbody>\n",
       "</table>\n",
       "</div>"
      ],
      "text/plain": [
       "         HIMYM  BigBangTheory        Word  EvalScore\n",
       "4220 -3.696527     -10.197084     sheldon   6.500557\n",
       "2715 -4.510513     -10.197084     leonard   5.686571\n",
       "176  -4.965507     -10.197084         amy   5.231577\n",
       "3401 -4.480910      -9.309781       penny   4.828871\n",
       "468  -5.701385     -10.197084  bernadette   4.495699\n",
       "2283 -5.039190      -9.309781      howard   4.270591\n",
       "3769 -5.073766      -9.309781         raj   4.236015\n",
       "425  -6.351012     -10.197084         bbt   3.846072\n",
       "403  -6.560838     -10.197084       barry   3.636246\n",
       "1006 -6.641854     -10.197084      cooper   3.555230\n",
       "2625 -6.777195     -10.197084      kripke   3.419889\n",
       "893  -6.933764     -10.197084       comic   3.263320\n",
       "4340 -6.991920     -10.197084       smart   3.205164\n",
       "3627 -7.053668     -10.197084       priya   3.143416\n",
       "5235 -7.053668     -10.197084    wolowitz   3.143416\n",
       "472  -7.053668     -10.197084      bernie   3.143416\n",
       "1789 -7.053668     -10.197084        flag   3.143416\n",
       "2574 -7.053668     -10.197084       kaley   3.143416\n",
       "3173 -7.189933     -10.197084       nobel   3.007151\n",
       "422  -7.189933     -10.197084     bazinga   3.007151"
      ]
     },
     "execution_count": 315,
     "metadata": {},
     "output_type": "execute_result"
    }
   ],
   "source": [
    "nb_eval.sort_values(by='EvalScore',ascending=False).head(20) #if the eval score is more positive the word leans towards Big Bang Theory"
   ]
  },
  {
   "cell_type": "markdown",
   "metadata": {},
   "source": [
    "From the log probability evaluation I calculated the eval score where the more positive the number the more that word leans to predicting the post as The Big Bang Theory subreddit, while the more negative the number the more that word leans to predicting the post as HIMYM subreddit."
   ]
  },
  {
   "cell_type": "markdown",
   "metadata": {},
   "source": [
    "### Wrong Words Search Evaluation\n",
    "\n",
    "Following the above evaluation I wanted to combine what I learned from the confusion matrix and lof probability eval score to see where the false predicting post are and what words are consisted in the posts."
   ]
  },
  {
   "cell_type": "code",
   "execution_count": 316,
   "metadata": {},
   "outputs": [
    {
     "data": {
      "text/html": [
       "<div>\n",
       "<style scoped>\n",
       "    .dataframe tbody tr th:only-of-type {\n",
       "        vertical-align: middle;\n",
       "    }\n",
       "\n",
       "    .dataframe tbody tr th {\n",
       "        vertical-align: top;\n",
       "    }\n",
       "\n",
       "    .dataframe thead th {\n",
       "        text-align: right;\n",
       "    }\n",
       "</style>\n",
       "<table border=\"1\" class=\"dataframe\">\n",
       "  <thead>\n",
       "    <tr style=\"text-align: right;\">\n",
       "      <th></th>\n",
       "      <th>predict_value</th>\n",
       "      <th>actual_value</th>\n",
       "      <th>text</th>\n",
       "    </tr>\n",
       "  </thead>\n",
       "  <tbody>\n",
       "    <tr>\n",
       "      <th>1113</th>\n",
       "      <td>0</td>\n",
       "      <td>0</td>\n",
       "      <td>consistent show tbbt one show progress story l...</td>\n",
       "    </tr>\n",
       "    <tr>\n",
       "      <th>593</th>\n",
       "      <td>1</td>\n",
       "      <td>1</td>\n",
       "      <td>e year get holographic phone</td>\n",
       "    </tr>\n",
       "    <tr>\n",
       "      <th>598</th>\n",
       "      <td>1</td>\n",
       "      <td>1</td>\n",
       "      <td>band horse funeral e</td>\n",
       "    </tr>\n",
       "    <tr>\n",
       "      <th>743</th>\n",
       "      <td>0</td>\n",
       "      <td>1</td>\n",
       "      <td>favorite friendship show view</td>\n",
       "    </tr>\n",
       "    <tr>\n",
       "      <th>1009</th>\n",
       "      <td>0</td>\n",
       "      <td>0</td>\n",
       "      <td>tbbt actor globe amy pohler joke big bazinga c...</td>\n",
       "    </tr>\n",
       "    <tr>\n",
       "      <th>...</th>\n",
       "      <td>...</td>\n",
       "      <td>...</td>\n",
       "      <td>...</td>\n",
       "    </tr>\n",
       "    <tr>\n",
       "      <th>1758</th>\n",
       "      <td>0</td>\n",
       "      <td>0</td>\n",
       "      <td>old someone help trying work age mention penny...</td>\n",
       "    </tr>\n",
       "    <tr>\n",
       "      <th>339</th>\n",
       "      <td>1</td>\n",
       "      <td>1</td>\n",
       "      <td>got favorite scene tattooed week ago</td>\n",
       "    </tr>\n",
       "    <tr>\n",
       "      <th>561</th>\n",
       "      <td>1</td>\n",
       "      <td>1</td>\n",
       "      <td>playbook finished reading barney playbook lege...</td>\n",
       "    </tr>\n",
       "    <tr>\n",
       "      <th>1733</th>\n",
       "      <td>0</td>\n",
       "      <td>0</td>\n",
       "      <td>least intelligent four main guy would rank leo...</td>\n",
       "    </tr>\n",
       "    <tr>\n",
       "      <th>614</th>\n",
       "      <td>1</td>\n",
       "      <td>1</td>\n",
       "      <td>barney motivational poster anyone download dec...</td>\n",
       "    </tr>\n",
       "  </tbody>\n",
       "</table>\n",
       "<p>377 rows × 3 columns</p>\n",
       "</div>"
      ],
      "text/plain": [
       "      predict_value  actual_value  \\\n",
       "1113              0             0   \n",
       "593               1             1   \n",
       "598               1             1   \n",
       "743               0             1   \n",
       "1009              0             0   \n",
       "...             ...           ...   \n",
       "1758              0             0   \n",
       "339               1             1   \n",
       "561               1             1   \n",
       "1733              0             0   \n",
       "614               1             1   \n",
       "\n",
       "                                                   text  \n",
       "1113  consistent show tbbt one show progress story l...  \n",
       "593                        e year get holographic phone  \n",
       "598                                band horse funeral e  \n",
       "743                       favorite friendship show view  \n",
       "1009  tbbt actor globe amy pohler joke big bazinga c...  \n",
       "...                                                 ...  \n",
       "1758  old someone help trying work age mention penny...  \n",
       "339                got favorite scene tattooed week ago  \n",
       "561   playbook finished reading barney playbook lege...  \n",
       "1733  least intelligent four main guy would rank leo...  \n",
       "614   barney motivational poster anyone download dec...  \n",
       "\n",
       "[377 rows x 3 columns]"
      ]
     },
     "execution_count": 316,
     "metadata": {},
     "output_type": "execute_result"
    }
   ],
   "source": [
    "word_search = pd.DataFrame(data={'predict_value':predict_nb_grid,'actual_value':y_test,'text':clean_text_test})\n",
    "word_search"
   ]
  },
  {
   "cell_type": "code",
   "execution_count": 317,
   "metadata": {},
   "outputs": [
    {
     "data": {
      "text/html": [
       "<div>\n",
       "<style scoped>\n",
       "    .dataframe tbody tr th:only-of-type {\n",
       "        vertical-align: middle;\n",
       "    }\n",
       "\n",
       "    .dataframe tbody tr th {\n",
       "        vertical-align: top;\n",
       "    }\n",
       "\n",
       "    .dataframe thead th {\n",
       "        text-align: right;\n",
       "    }\n",
       "</style>\n",
       "<table border=\"1\" class=\"dataframe\">\n",
       "  <thead>\n",
       "    <tr style=\"text-align: right;\">\n",
       "      <th></th>\n",
       "      <th>predict_value</th>\n",
       "      <th>actual_value</th>\n",
       "      <th>text</th>\n",
       "      <th>incorrect_prediction</th>\n",
       "    </tr>\n",
       "  </thead>\n",
       "  <tbody>\n",
       "    <tr>\n",
       "      <th>1113</th>\n",
       "      <td>0</td>\n",
       "      <td>0</td>\n",
       "      <td>consistent show tbbt one show progress story l...</td>\n",
       "      <td>0</td>\n",
       "    </tr>\n",
       "    <tr>\n",
       "      <th>593</th>\n",
       "      <td>1</td>\n",
       "      <td>1</td>\n",
       "      <td>e year get holographic phone</td>\n",
       "      <td>0</td>\n",
       "    </tr>\n",
       "    <tr>\n",
       "      <th>598</th>\n",
       "      <td>1</td>\n",
       "      <td>1</td>\n",
       "      <td>band horse funeral e</td>\n",
       "      <td>0</td>\n",
       "    </tr>\n",
       "    <tr>\n",
       "      <th>743</th>\n",
       "      <td>0</td>\n",
       "      <td>1</td>\n",
       "      <td>favorite friendship show view</td>\n",
       "      <td>-1</td>\n",
       "    </tr>\n",
       "    <tr>\n",
       "      <th>1009</th>\n",
       "      <td>0</td>\n",
       "      <td>0</td>\n",
       "      <td>tbbt actor globe amy pohler joke big bazinga c...</td>\n",
       "      <td>0</td>\n",
       "    </tr>\n",
       "    <tr>\n",
       "      <th>...</th>\n",
       "      <td>...</td>\n",
       "      <td>...</td>\n",
       "      <td>...</td>\n",
       "      <td>...</td>\n",
       "    </tr>\n",
       "    <tr>\n",
       "      <th>1758</th>\n",
       "      <td>0</td>\n",
       "      <td>0</td>\n",
       "      <td>old someone help trying work age mention penny...</td>\n",
       "      <td>0</td>\n",
       "    </tr>\n",
       "    <tr>\n",
       "      <th>339</th>\n",
       "      <td>1</td>\n",
       "      <td>1</td>\n",
       "      <td>got favorite scene tattooed week ago</td>\n",
       "      <td>0</td>\n",
       "    </tr>\n",
       "    <tr>\n",
       "      <th>561</th>\n",
       "      <td>1</td>\n",
       "      <td>1</td>\n",
       "      <td>playbook finished reading barney playbook lege...</td>\n",
       "      <td>0</td>\n",
       "    </tr>\n",
       "    <tr>\n",
       "      <th>1733</th>\n",
       "      <td>0</td>\n",
       "      <td>0</td>\n",
       "      <td>least intelligent four main guy would rank leo...</td>\n",
       "      <td>0</td>\n",
       "    </tr>\n",
       "    <tr>\n",
       "      <th>614</th>\n",
       "      <td>1</td>\n",
       "      <td>1</td>\n",
       "      <td>barney motivational poster anyone download dec...</td>\n",
       "      <td>0</td>\n",
       "    </tr>\n",
       "  </tbody>\n",
       "</table>\n",
       "<p>377 rows × 4 columns</p>\n",
       "</div>"
      ],
      "text/plain": [
       "      predict_value  actual_value  \\\n",
       "1113              0             0   \n",
       "593               1             1   \n",
       "598               1             1   \n",
       "743               0             1   \n",
       "1009              0             0   \n",
       "...             ...           ...   \n",
       "1758              0             0   \n",
       "339               1             1   \n",
       "561               1             1   \n",
       "1733              0             0   \n",
       "614               1             1   \n",
       "\n",
       "                                                   text  incorrect_prediction  \n",
       "1113  consistent show tbbt one show progress story l...                     0  \n",
       "593                        e year get holographic phone                     0  \n",
       "598                                band horse funeral e                     0  \n",
       "743                       favorite friendship show view                    -1  \n",
       "1009  tbbt actor globe amy pohler joke big bazinga c...                     0  \n",
       "...                                                 ...                   ...  \n",
       "1758  old someone help trying work age mention penny...                     0  \n",
       "339                got favorite scene tattooed week ago                     0  \n",
       "561   playbook finished reading barney playbook lege...                     0  \n",
       "1733  least intelligent four main guy would rank leo...                     0  \n",
       "614   barney motivational poster anyone download dec...                     0  \n",
       "\n",
       "[377 rows x 4 columns]"
      ]
     },
     "execution_count": 317,
     "metadata": {},
     "output_type": "execute_result"
    }
   ],
   "source": [
    "word_search['incorrect_prediction'] = word_search['predict_value'] - word_search['actual_value']\n",
    "word_search"
   ]
  },
  {
   "cell_type": "code",
   "execution_count": 318,
   "metadata": {
    "scrolled": true
   },
   "outputs": [
    {
     "data": {
      "text/html": [
       "<div>\n",
       "<style scoped>\n",
       "    .dataframe tbody tr th:only-of-type {\n",
       "        vertical-align: middle;\n",
       "    }\n",
       "\n",
       "    .dataframe tbody tr th {\n",
       "        vertical-align: top;\n",
       "    }\n",
       "\n",
       "    .dataframe thead th {\n",
       "        text-align: right;\n",
       "    }\n",
       "</style>\n",
       "<table border=\"1\" class=\"dataframe\">\n",
       "  <thead>\n",
       "    <tr style=\"text-align: right;\">\n",
       "      <th></th>\n",
       "      <th>predict_value</th>\n",
       "      <th>actual_value</th>\n",
       "      <th>text</th>\n",
       "      <th>incorrect_prediction</th>\n",
       "    </tr>\n",
       "  </thead>\n",
       "  <tbody>\n",
       "    <tr>\n",
       "      <th>1548</th>\n",
       "      <td>1</td>\n",
       "      <td>0</td>\n",
       "      <td>stop best show literally laugh loud watch eith...</td>\n",
       "      <td>1</td>\n",
       "    </tr>\n",
       "    <tr>\n",
       "      <th>1553</th>\n",
       "      <td>1</td>\n",
       "      <td>0</td>\n",
       "      <td>question every dnd dice ever something dm roll...</td>\n",
       "      <td>1</td>\n",
       "    </tr>\n",
       "    <tr>\n",
       "      <th>1455</th>\n",
       "      <td>1</td>\n",
       "      <td>0</td>\n",
       "      <td>breakup scene</td>\n",
       "      <td>1</td>\n",
       "    </tr>\n",
       "    <tr>\n",
       "      <th>1805</th>\n",
       "      <td>1</td>\n",
       "      <td>0</td>\n",
       "      <td>vote favorite</td>\n",
       "      <td>1</td>\n",
       "    </tr>\n",
       "    <tr>\n",
       "      <th>1694</th>\n",
       "      <td>1</td>\n",
       "      <td>0</td>\n",
       "      <td>mention one favorite shammy scene</td>\n",
       "      <td>1</td>\n",
       "    </tr>\n",
       "    <tr>\n",
       "      <th>1721</th>\n",
       "      <td>1</td>\n",
       "      <td>0</td>\n",
       "      <td>president seibert cop shameless</td>\n",
       "      <td>1</td>\n",
       "    </tr>\n",
       "    <tr>\n",
       "      <th>1704</th>\n",
       "      <td>1</td>\n",
       "      <td>0</td>\n",
       "      <td>help step roommate get butter</td>\n",
       "      <td>1</td>\n",
       "    </tr>\n",
       "    <tr>\n",
       "      <th>1198</th>\n",
       "      <td>1</td>\n",
       "      <td>0</td>\n",
       "      <td>fish nightlamps come true</td>\n",
       "      <td>1</td>\n",
       "    </tr>\n",
       "    <tr>\n",
       "      <th>1562</th>\n",
       "      <td>1</td>\n",
       "      <td>0</td>\n",
       "      <td>got game present amazing</td>\n",
       "      <td>1</td>\n",
       "    </tr>\n",
       "    <tr>\n",
       "      <th>1386</th>\n",
       "      <td>1</td>\n",
       "      <td>0</td>\n",
       "      <td>depth blog post food eat</td>\n",
       "      <td>1</td>\n",
       "    </tr>\n",
       "    <tr>\n",
       "      <th>1211</th>\n",
       "      <td>1</td>\n",
       "      <td>0</td>\n",
       "      <td>anyone else watch clip youtube remeber watchin...</td>\n",
       "      <td>1</td>\n",
       "    </tr>\n",
       "    <tr>\n",
       "      <th>1329</th>\n",
       "      <td>1</td>\n",
       "      <td>0</td>\n",
       "      <td>courtney henggeler pregnancy used portray aman...</td>\n",
       "      <td>1</td>\n",
       "    </tr>\n",
       "    <tr>\n",
       "      <th>1177</th>\n",
       "      <td>1</td>\n",
       "      <td>0</td>\n",
       "      <td>would spend day could view</td>\n",
       "      <td>1</td>\n",
       "    </tr>\n",
       "    <tr>\n",
       "      <th>1331</th>\n",
       "      <td>1</td>\n",
       "      <td>0</td>\n",
       "      <td>good doggy</td>\n",
       "      <td>1</td>\n",
       "    </tr>\n",
       "    <tr>\n",
       "      <th>1328</th>\n",
       "      <td>1</td>\n",
       "      <td>0</td>\n",
       "      <td>smile</td>\n",
       "      <td>1</td>\n",
       "    </tr>\n",
       "    <tr>\n",
       "      <th>1268</th>\n",
       "      <td>1</td>\n",
       "      <td>0</td>\n",
       "      <td>favorite line mine wide eyed shell shocked pos...</td>\n",
       "      <td>1</td>\n",
       "    </tr>\n",
       "    <tr>\n",
       "      <th>900</th>\n",
       "      <td>1</td>\n",
       "      <td>0</td>\n",
       "      <td>excuse terrible meme making</td>\n",
       "      <td>1</td>\n",
       "    </tr>\n",
       "    <tr>\n",
       "      <th>1580</th>\n",
       "      <td>1</td>\n",
       "      <td>0</td>\n",
       "      <td>oscar winner guest starred octavia regina bill...</td>\n",
       "      <td>1</td>\n",
       "    </tr>\n",
       "    <tr>\n",
       "      <th>1574</th>\n",
       "      <td>1</td>\n",
       "      <td>0</td>\n",
       "      <td>would release release</td>\n",
       "      <td>1</td>\n",
       "    </tr>\n",
       "    <tr>\n",
       "      <th>973</th>\n",
       "      <td>1</td>\n",
       "      <td>0</td>\n",
       "      <td>noticed</td>\n",
       "      <td>1</td>\n",
       "    </tr>\n",
       "    <tr>\n",
       "      <th>1378</th>\n",
       "      <td>1</td>\n",
       "      <td>0</td>\n",
       "      <td>sorry bad picture traumatised</td>\n",
       "      <td>1</td>\n",
       "    </tr>\n",
       "    <tr>\n",
       "      <th>1134</th>\n",
       "      <td>1</td>\n",
       "      <td>0</td>\n",
       "      <td>anyone else noticed penis shaped stack rubix c...</td>\n",
       "      <td>1</td>\n",
       "    </tr>\n",
       "    <tr>\n",
       "      <th>1666</th>\n",
       "      <td>1</td>\n",
       "      <td>0</td>\n",
       "      <td>appreciation post totally underrated stuart fa...</td>\n",
       "      <td>1</td>\n",
       "    </tr>\n",
       "    <tr>\n",
       "      <th>1676</th>\n",
       "      <td>1</td>\n",
       "      <td>0</td>\n",
       "      <td>show still running probably</td>\n",
       "      <td>1</td>\n",
       "    </tr>\n",
       "    <tr>\n",
       "      <th>1519</th>\n",
       "      <td>1</td>\n",
       "      <td>0</td>\n",
       "      <td>nice</td>\n",
       "      <td>1</td>\n",
       "    </tr>\n",
       "    <tr>\n",
       "      <th>926</th>\n",
       "      <td>1</td>\n",
       "      <td>0</td>\n",
       "      <td>staircase conversation working series im halfw...</td>\n",
       "      <td>1</td>\n",
       "    </tr>\n",
       "    <tr>\n",
       "      <th>1376</th>\n",
       "      <td>1</td>\n",
       "      <td>0</td>\n",
       "      <td>nothing much going go scream grand canyon lol</td>\n",
       "      <td>1</td>\n",
       "    </tr>\n",
       "    <tr>\n",
       "      <th>1124</th>\n",
       "      <td>1</td>\n",
       "      <td>0</td>\n",
       "      <td>one think arguably best entire show favorite</td>\n",
       "      <td>1</td>\n",
       "    </tr>\n",
       "    <tr>\n",
       "      <th>1826</th>\n",
       "      <td>1</td>\n",
       "      <td>0</td>\n",
       "      <td>wow</td>\n",
       "      <td>1</td>\n",
       "    </tr>\n",
       "    <tr>\n",
       "      <th>743</th>\n",
       "      <td>0</td>\n",
       "      <td>1</td>\n",
       "      <td>favorite friendship show view</td>\n",
       "      <td>-1</td>\n",
       "    </tr>\n",
       "    <tr>\n",
       "      <th>344</th>\n",
       "      <td>0</td>\n",
       "      <td>1</td>\n",
       "      <td>little late caaaalll</td>\n",
       "      <td>-1</td>\n",
       "    </tr>\n",
       "    <tr>\n",
       "      <th>188</th>\n",
       "      <td>0</td>\n",
       "      <td>1</td>\n",
       "      <td></td>\n",
       "      <td>-1</td>\n",
       "    </tr>\n",
       "    <tr>\n",
       "      <th>462</th>\n",
       "      <td>0</td>\n",
       "      <td>1</td>\n",
       "      <td>andiamo fratello non mastroianni tutti funyuns</td>\n",
       "      <td>-1</td>\n",
       "    </tr>\n",
       "    <tr>\n",
       "      <th>548</th>\n",
       "      <td>0</td>\n",
       "      <td>1</td>\n",
       "      <td>guy cool</td>\n",
       "      <td>-1</td>\n",
       "    </tr>\n",
       "    <tr>\n",
       "      <th>514</th>\n",
       "      <td>0</td>\n",
       "      <td>1</td>\n",
       "      <td>beercules</td>\n",
       "      <td>-1</td>\n",
       "    </tr>\n",
       "    <tr>\n",
       "      <th>611</th>\n",
       "      <td>0</td>\n",
       "      <td>1</td>\n",
       "      <td>hope reunion mean year away isnt long compared...</td>\n",
       "      <td>-1</td>\n",
       "    </tr>\n",
       "    <tr>\n",
       "      <th>135</th>\n",
       "      <td>0</td>\n",
       "      <td>1</td>\n",
       "      <td>first thing came mind u</td>\n",
       "      <td>-1</td>\n",
       "    </tr>\n",
       "    <tr>\n",
       "      <th>350</th>\n",
       "      <td>0</td>\n",
       "      <td>1</td>\n",
       "      <td>hi anyone ep amp x b</td>\n",
       "      <td>-1</td>\n",
       "    </tr>\n",
       "    <tr>\n",
       "      <th>497</th>\n",
       "      <td>0</td>\n",
       "      <td>1</td>\n",
       "      <td>copy homework change little</td>\n",
       "      <td>-1</td>\n",
       "    </tr>\n",
       "    <tr>\n",
       "      <th>694</th>\n",
       "      <td>0</td>\n",
       "      <td>1</td>\n",
       "      <td>space teen</td>\n",
       "      <td>-1</td>\n",
       "    </tr>\n",
       "    <tr>\n",
       "      <th>575</th>\n",
       "      <td>0</td>\n",
       "      <td>1</td>\n",
       "      <td>come one hears similarity</td>\n",
       "      <td>-1</td>\n",
       "    </tr>\n",
       "    <tr>\n",
       "      <th>413</th>\n",
       "      <td>0</td>\n",
       "      <td>1</td>\n",
       "      <td>cartoon sure someone came idea holy shit would...</td>\n",
       "      <td>-1</td>\n",
       "    </tr>\n",
       "    <tr>\n",
       "      <th>78</th>\n",
       "      <td>0</td>\n",
       "      <td>1</td>\n",
       "      <td>anyone else ever strong lingering traveler fee...</td>\n",
       "      <td>-1</td>\n",
       "    </tr>\n",
       "    <tr>\n",
       "      <th>584</th>\n",
       "      <td>0</td>\n",
       "      <td>1</td>\n",
       "      <td>interesting</td>\n",
       "      <td>-1</td>\n",
       "    </tr>\n",
       "    <tr>\n",
       "      <th>30</th>\n",
       "      <td>0</td>\n",
       "      <td>1</td>\n",
       "      <td>gandhi wise word</td>\n",
       "      <td>-1</td>\n",
       "    </tr>\n",
       "    <tr>\n",
       "      <th>44</th>\n",
       "      <td>0</td>\n",
       "      <td>1</td>\n",
       "      <td>watching icarly</td>\n",
       "      <td>-1</td>\n",
       "    </tr>\n",
       "    <tr>\n",
       "      <th>433</th>\n",
       "      <td>0</td>\n",
       "      <td>1</td>\n",
       "      <td>uk announces plan lift lockdown</td>\n",
       "      <td>-1</td>\n",
       "    </tr>\n",
       "    <tr>\n",
       "      <th>259</th>\n",
       "      <td>0</td>\n",
       "      <td>1</td>\n",
       "      <td>either die hero live long enough see become ro...</td>\n",
       "      <td>-1</td>\n",
       "    </tr>\n",
       "    <tr>\n",
       "      <th>51</th>\n",
       "      <td>0</td>\n",
       "      <td>1</td>\n",
       "      <td>boogie boarding</td>\n",
       "      <td>-1</td>\n",
       "    </tr>\n",
       "    <tr>\n",
       "      <th>332</th>\n",
       "      <td>0</td>\n",
       "      <td>1</td>\n",
       "      <td></td>\n",
       "      <td>-1</td>\n",
       "    </tr>\n",
       "    <tr>\n",
       "      <th>365</th>\n",
       "      <td>0</td>\n",
       "      <td>1</td>\n",
       "      <td>definitely relate</td>\n",
       "      <td>-1</td>\n",
       "    </tr>\n",
       "  </tbody>\n",
       "</table>\n",
       "</div>"
      ],
      "text/plain": [
       "      predict_value  actual_value  \\\n",
       "1548              1             0   \n",
       "1553              1             0   \n",
       "1455              1             0   \n",
       "1805              1             0   \n",
       "1694              1             0   \n",
       "1721              1             0   \n",
       "1704              1             0   \n",
       "1198              1             0   \n",
       "1562              1             0   \n",
       "1386              1             0   \n",
       "1211              1             0   \n",
       "1329              1             0   \n",
       "1177              1             0   \n",
       "1331              1             0   \n",
       "1328              1             0   \n",
       "1268              1             0   \n",
       "900               1             0   \n",
       "1580              1             0   \n",
       "1574              1             0   \n",
       "973               1             0   \n",
       "1378              1             0   \n",
       "1134              1             0   \n",
       "1666              1             0   \n",
       "1676              1             0   \n",
       "1519              1             0   \n",
       "926               1             0   \n",
       "1376              1             0   \n",
       "1124              1             0   \n",
       "1826              1             0   \n",
       "743               0             1   \n",
       "344               0             1   \n",
       "188               0             1   \n",
       "462               0             1   \n",
       "548               0             1   \n",
       "514               0             1   \n",
       "611               0             1   \n",
       "135               0             1   \n",
       "350               0             1   \n",
       "497               0             1   \n",
       "694               0             1   \n",
       "575               0             1   \n",
       "413               0             1   \n",
       "78                0             1   \n",
       "584               0             1   \n",
       "30                0             1   \n",
       "44                0             1   \n",
       "433               0             1   \n",
       "259               0             1   \n",
       "51                0             1   \n",
       "332               0             1   \n",
       "365               0             1   \n",
       "\n",
       "                                                   text  incorrect_prediction  \n",
       "1548  stop best show literally laugh loud watch eith...                     1  \n",
       "1553  question every dnd dice ever something dm roll...                     1  \n",
       "1455                                      breakup scene                     1  \n",
       "1805                                      vote favorite                     1  \n",
       "1694                  mention one favorite shammy scene                     1  \n",
       "1721                    president seibert cop shameless                     1  \n",
       "1704                      help step roommate get butter                     1  \n",
       "1198                          fish nightlamps come true                     1  \n",
       "1562                           got game present amazing                     1  \n",
       "1386                           depth blog post food eat                     1  \n",
       "1211  anyone else watch clip youtube remeber watchin...                     1  \n",
       "1329  courtney henggeler pregnancy used portray aman...                     1  \n",
       "1177                         would spend day could view                     1  \n",
       "1331                                         good doggy                     1  \n",
       "1328                                              smile                     1  \n",
       "1268  favorite line mine wide eyed shell shocked pos...                     1  \n",
       "900                         excuse terrible meme making                     1  \n",
       "1580  oscar winner guest starred octavia regina bill...                     1  \n",
       "1574                              would release release                     1  \n",
       "973                                             noticed                     1  \n",
       "1378                      sorry bad picture traumatised                     1  \n",
       "1134  anyone else noticed penis shaped stack rubix c...                     1  \n",
       "1666  appreciation post totally underrated stuart fa...                     1  \n",
       "1676                        show still running probably                     1  \n",
       "1519                                               nice                     1  \n",
       "926   staircase conversation working series im halfw...                     1  \n",
       "1376      nothing much going go scream grand canyon lol                     1  \n",
       "1124       one think arguably best entire show favorite                     1  \n",
       "1826                                                wow                     1  \n",
       "743                       favorite friendship show view                    -1  \n",
       "344                                little late caaaalll                    -1  \n",
       "188                                                                        -1  \n",
       "462      andiamo fratello non mastroianni tutti funyuns                    -1  \n",
       "548                                            guy cool                    -1  \n",
       "514                                           beercules                    -1  \n",
       "611   hope reunion mean year away isnt long compared...                    -1  \n",
       "135                             first thing came mind u                    -1  \n",
       "350                                hi anyone ep amp x b                    -1  \n",
       "497                         copy homework change little                    -1  \n",
       "694                                          space teen                    -1  \n",
       "575                           come one hears similarity                    -1  \n",
       "413   cartoon sure someone came idea holy shit would...                    -1  \n",
       "78    anyone else ever strong lingering traveler fee...                    -1  \n",
       "584                                         interesting                    -1  \n",
       "30                                     gandhi wise word                    -1  \n",
       "44                                      watching icarly                    -1  \n",
       "433                     uk announces plan lift lockdown                    -1  \n",
       "259   either die hero live long enough see become ro...                    -1  \n",
       "51                                      boogie boarding                    -1  \n",
       "332                                                                        -1  \n",
       "365                                   definitely relate                    -1  "
      ]
     },
     "execution_count": 318,
     "metadata": {},
     "output_type": "execute_result"
    }
   ],
   "source": [
    "wrong_word_search1 = word_search[word_search['incorrect_prediction'] ==1]\n",
    "wrong_word_search2 = word_search[word_search['incorrect_prediction'] == -1]\n",
    "\n",
    "wrong_word_data = [wrong_word_search1, wrong_word_search2]\n",
    "\n",
    "wrong_word = pd.concat(wrong_word_data)\n",
    "\n",
    "wrong_word"
   ]
  },
  {
   "cell_type": "code",
   "execution_count": 319,
   "metadata": {},
   "outputs": [
    {
     "data": {
      "text/plain": [
       "(51, 4)"
      ]
     },
     "execution_count": 319,
     "metadata": {},
     "output_type": "execute_result"
    }
   ],
   "source": [
    "wrong_word.shape"
   ]
  },
  {
   "cell_type": "code",
   "execution_count": 320,
   "metadata": {},
   "outputs": [],
   "source": [
    "wrong_text=[]\n",
    "\n",
    "for text in wrong_word['text']:\n",
    "    wrong_text.append(text_to_words(text))"
   ]
  },
  {
   "cell_type": "code",
   "execution_count": 321,
   "metadata": {},
   "outputs": [
    {
     "data": {
      "text/plain": [
       "'stop best show literally laugh loud watch either covid made crazy show keep going crazy'"
      ]
     },
     "execution_count": 321,
     "metadata": {},
     "output_type": "execute_result"
    }
   ],
   "source": [
    "wrong_text[0]"
   ]
  },
  {
   "cell_type": "code",
   "execution_count": 322,
   "metadata": {},
   "outputs": [
    {
     "data": {
      "text/plain": [
       "['stop',\n",
       " 'best',\n",
       " 'show',\n",
       " 'literally',\n",
       " 'laugh',\n",
       " 'loud',\n",
       " 'watch',\n",
       " 'either',\n",
       " 'covid',\n",
       " 'made',\n",
       " 'crazy',\n",
       " 'show',\n",
       " 'keep',\n",
       " 'going',\n",
       " 'crazy']"
      ]
     },
     "execution_count": 322,
     "metadata": {},
     "output_type": "execute_result"
    }
   ],
   "source": [
    "testing = wrong_text[0].split()\n",
    "testing"
   ]
  },
  {
   "cell_type": "code",
   "execution_count": 323,
   "metadata": {
    "scrolled": true
   },
   "outputs": [
    {
     "data": {
      "text/html": [
       "<div>\n",
       "<style scoped>\n",
       "    .dataframe tbody tr th:only-of-type {\n",
       "        vertical-align: middle;\n",
       "    }\n",
       "\n",
       "    .dataframe tbody tr th {\n",
       "        vertical-align: top;\n",
       "    }\n",
       "\n",
       "    .dataframe thead th {\n",
       "        text-align: right;\n",
       "    }\n",
       "</style>\n",
       "<table border=\"1\" class=\"dataframe\">\n",
       "  <thead>\n",
       "    <tr style=\"text-align: right;\">\n",
       "      <th></th>\n",
       "      <th>HIMYM</th>\n",
       "      <th>BigBangTheory</th>\n",
       "      <th>Word</th>\n",
       "      <th>EvalScore</th>\n",
       "    </tr>\n",
       "  </thead>\n",
       "  <tbody>\n",
       "    <tr>\n",
       "      <th>1056</th>\n",
       "      <td>-7.535203</td>\n",
       "      <td>-7.223013</td>\n",
       "      <td>crazy</td>\n",
       "      <td>-0.31219</td>\n",
       "    </tr>\n",
       "  </tbody>\n",
       "</table>\n",
       "</div>"
      ],
      "text/plain": [
       "         HIMYM  BigBangTheory   Word  EvalScore\n",
       "1056 -7.535203      -7.223013  crazy   -0.31219"
      ]
     },
     "execution_count": 323,
     "metadata": {},
     "output_type": "execute_result"
    }
   ],
   "source": [
    "nb_eval.loc[(nb_eval['Word'] == 'crazy')]"
   ]
  },
  {
   "cell_type": "code",
   "execution_count": 324,
   "metadata": {},
   "outputs": [],
   "source": [
    "words = []\n",
    "\n",
    "for i in range(len(wrong_text)):\n",
    "    word = wrong_text[i].split()\n",
    "    words.append(word)"
   ]
  },
  {
   "cell_type": "code",
   "execution_count": 325,
   "metadata": {},
   "outputs": [
    {
     "data": {
      "text/plain": [
       "[['stop',\n",
       "  'best',\n",
       "  'show',\n",
       "  'literally',\n",
       "  'laugh',\n",
       "  'loud',\n",
       "  'watch',\n",
       "  'either',\n",
       "  'covid',\n",
       "  'made',\n",
       "  'crazy',\n",
       "  'show',\n",
       "  'keep',\n",
       "  'going',\n",
       "  'crazy'],\n",
       " ['question',\n",
       "  'every',\n",
       "  'dnd',\n",
       "  'dice',\n",
       "  'ever',\n",
       "  'something',\n",
       "  'dm',\n",
       "  'roll',\n",
       "  'version',\n",
       "  'dnd',\n",
       "  'playing'],\n",
       " ['breakup', 'scene'],\n",
       " ['vote', 'favorite'],\n",
       " ['mention', 'one', 'favorite', 'shammy', 'scene'],\n",
       " ['president', 'seibert', 'cop', 'shameless'],\n",
       " ['help', 'step', 'roommate', 'get', 'butter'],\n",
       " ['fish', 'nightlamps', 'come', 'true'],\n",
       " ['got', 'game', 'present', 'amazing'],\n",
       " ['depth', 'blog', 'post', 'food', 'eat'],\n",
       " ['anyone',\n",
       "  'else',\n",
       "  'watch',\n",
       "  'clip',\n",
       "  'youtube',\n",
       "  'remeber',\n",
       "  'watching',\n",
       "  'show',\n",
       "  'first',\n",
       "  'came',\n",
       "  'reason',\n",
       "  'never',\n",
       "  'got',\n",
       "  'watching',\n",
       "  'full',\n",
       "  'thing',\n",
       "  'though',\n",
       "  'watching',\n",
       "  'funnier',\n",
       "  'scene',\n",
       "  'youtube',\n",
       "  'also',\n",
       "  'thing',\n",
       "  'show',\n",
       "  'office',\n",
       "  'anyone',\n",
       "  'watch',\n",
       "  'clip',\n",
       "  'youtube',\n",
       "  'instead',\n",
       "  'full'],\n",
       " ['courtney',\n",
       "  'henggeler',\n",
       "  'pregnancy',\n",
       "  'used',\n",
       "  'portray',\n",
       "  'amanda',\n",
       "  'cobra',\n",
       "  'kai',\n",
       "  'missy',\n",
       "  'pregnancy'],\n",
       " ['would', 'spend', 'day', 'could', 'view'],\n",
       " ['good', 'doggy'],\n",
       " ['smile'],\n",
       " ['favorite',\n",
       "  'line',\n",
       "  'mine',\n",
       "  'wide',\n",
       "  'eyed',\n",
       "  'shell',\n",
       "  'shocked',\n",
       "  'post',\n",
       "  'survival',\n",
       "  'training',\n",
       "  'hoard',\n",
       "  'saying',\n",
       "  'ate',\n",
       "  'butterfly'],\n",
       " ['excuse', 'terrible', 'meme', 'making'],\n",
       " ['oscar',\n",
       "  'winner',\n",
       "  'guest',\n",
       "  'starred',\n",
       "  'octavia',\n",
       "  'regina',\n",
       "  'billy',\n",
       "  'bob',\n",
       "  'kathy',\n",
       "  'amp',\n",
       "  'keith',\n",
       "  'right'],\n",
       " ['would', 'release', 'release'],\n",
       " ['noticed'],\n",
       " ['sorry', 'bad', 'picture', 'traumatised'],\n",
       " ['anyone',\n",
       "  'else',\n",
       "  'noticed',\n",
       "  'penis',\n",
       "  'shaped',\n",
       "  'stack',\n",
       "  'rubix',\n",
       "  'cube',\n",
       "  'found'],\n",
       " ['appreciation',\n",
       "  'post',\n",
       "  'totally',\n",
       "  'underrated',\n",
       "  'stuart',\n",
       "  'favorite',\n",
       "  'quote'],\n",
       " ['show', 'still', 'running', 'probably'],\n",
       " ['nice'],\n",
       " ['staircase',\n",
       "  'conversation',\n",
       "  'working',\n",
       "  'series',\n",
       "  'im',\n",
       "  'halfway',\n",
       "  'notice',\n",
       "  'break',\n",
       "  'coversations',\n",
       "  'going',\n",
       "  'stair',\n",
       "  'everyone',\n",
       "  'stair',\n",
       "  'change',\n",
       "  'scenery'],\n",
       " ['nothing', 'much', 'going', 'go', 'scream', 'grand', 'canyon', 'lol'],\n",
       " ['one', 'arguably', 'best', 'entire', 'show', 'favorite'],\n",
       " ['wow'],\n",
       " ['favorite', 'friendship', 'show', 'view'],\n",
       " ['little', 'late', 'caaaalll'],\n",
       " [],\n",
       " ['andiamo', 'fratello', 'non', 'mastroianni', 'tutti', 'funyuns'],\n",
       " ['guy', 'cool'],\n",
       " ['beercules'],\n",
       " ['hope',\n",
       "  'reunion',\n",
       "  'mean',\n",
       "  'year',\n",
       "  'away',\n",
       "  'isnt',\n",
       "  'long',\n",
       "  'compared',\n",
       "  'year',\n",
       "  'away',\n",
       "  'show',\n",
       "  'began',\n",
       "  'imagine',\n",
       "  'reunion',\n",
       "  'actual',\n",
       "  'age',\n",
       "  'would',\n",
       "  'pretty',\n",
       "  'cool'],\n",
       " ['first', 'thing', 'came', 'mind', 'u'],\n",
       " ['hi', 'anyone', 'ep', 'amp', 'x', 'b'],\n",
       " ['copy', 'homework', 'change', 'little'],\n",
       " ['space', 'teen'],\n",
       " ['come', 'one', 'hears', 'similarity'],\n",
       " ['cartoon',\n",
       "  'sure',\n",
       "  'someone',\n",
       "  'came',\n",
       "  'idea',\n",
       "  'holy',\n",
       "  'shit',\n",
       "  'would',\n",
       "  'funny',\n",
       "  'cartoon',\n",
       "  'series',\n",
       "  'maybe',\n",
       "  'mushroom'],\n",
       " ['anyone', 'else', 'ever', 'strong', 'lingering', 'traveler', 'feeling'],\n",
       " ['interesting'],\n",
       " ['gandhi', 'wise', 'word'],\n",
       " ['watching', 'icarly'],\n",
       " ['uk', 'announces', 'plan', 'lift', 'lockdown'],\n",
       " ['either',\n",
       "  'die',\n",
       "  'hero',\n",
       "  'live',\n",
       "  'long',\n",
       "  'enough',\n",
       "  'see',\n",
       "  'become',\n",
       "  'royal',\n",
       "  'archduke',\n",
       "  'grand',\n",
       "  'fenwick'],\n",
       " ['boogie', 'boarding'],\n",
       " [],\n",
       " ['definitely', 'relate']]"
      ]
     },
     "execution_count": 325,
     "metadata": {},
     "output_type": "execute_result"
    }
   ],
   "source": [
    "words"
   ]
  },
  {
   "cell_type": "code",
   "execution_count": 326,
   "metadata": {},
   "outputs": [
    {
     "data": {
      "text/plain": [
       "['stop',\n",
       " 'best',\n",
       " 'show',\n",
       " 'literally',\n",
       " 'laugh',\n",
       " 'loud',\n",
       " 'watch',\n",
       " 'either',\n",
       " 'covid',\n",
       " 'made',\n",
       " 'crazy',\n",
       " 'keep',\n",
       " 'going',\n",
       " 'question',\n",
       " 'every',\n",
       " 'dnd',\n",
       " 'dice',\n",
       " 'ever',\n",
       " 'something',\n",
       " 'dm',\n",
       " 'roll',\n",
       " 'version',\n",
       " 'playing',\n",
       " 'breakup',\n",
       " 'scene',\n",
       " 'vote',\n",
       " 'favorite',\n",
       " 'mention',\n",
       " 'one',\n",
       " 'shammy',\n",
       " 'president',\n",
       " 'seibert',\n",
       " 'cop',\n",
       " 'shameless',\n",
       " 'help',\n",
       " 'step',\n",
       " 'roommate',\n",
       " 'get',\n",
       " 'butter',\n",
       " 'fish',\n",
       " 'nightlamps',\n",
       " 'come',\n",
       " 'true',\n",
       " 'got',\n",
       " 'game',\n",
       " 'present',\n",
       " 'amazing',\n",
       " 'depth',\n",
       " 'blog',\n",
       " 'post',\n",
       " 'food',\n",
       " 'eat',\n",
       " 'anyone',\n",
       " 'else',\n",
       " 'clip',\n",
       " 'youtube',\n",
       " 'remeber',\n",
       " 'watching',\n",
       " 'first',\n",
       " 'came',\n",
       " 'reason',\n",
       " 'never',\n",
       " 'full',\n",
       " 'thing',\n",
       " 'though',\n",
       " 'funnier',\n",
       " 'also',\n",
       " 'office',\n",
       " 'instead',\n",
       " 'courtney',\n",
       " 'henggeler',\n",
       " 'pregnancy',\n",
       " 'used',\n",
       " 'portray',\n",
       " 'amanda',\n",
       " 'cobra',\n",
       " 'kai',\n",
       " 'missy',\n",
       " 'would',\n",
       " 'spend',\n",
       " 'day',\n",
       " 'could',\n",
       " 'view',\n",
       " 'good',\n",
       " 'doggy',\n",
       " 'smile',\n",
       " 'line',\n",
       " 'mine',\n",
       " 'wide',\n",
       " 'eyed',\n",
       " 'shell',\n",
       " 'shocked',\n",
       " 'survival',\n",
       " 'training',\n",
       " 'hoard',\n",
       " 'saying',\n",
       " 'ate',\n",
       " 'butterfly',\n",
       " 'excuse',\n",
       " 'terrible',\n",
       " 'meme',\n",
       " 'making',\n",
       " 'oscar',\n",
       " 'winner',\n",
       " 'guest',\n",
       " 'starred',\n",
       " 'octavia',\n",
       " 'regina',\n",
       " 'billy',\n",
       " 'bob',\n",
       " 'kathy',\n",
       " 'amp',\n",
       " 'keith',\n",
       " 'right',\n",
       " 'release',\n",
       " 'noticed',\n",
       " 'sorry',\n",
       " 'bad',\n",
       " 'picture',\n",
       " 'traumatised',\n",
       " 'penis',\n",
       " 'shaped',\n",
       " 'stack',\n",
       " 'rubix',\n",
       " 'cube',\n",
       " 'found',\n",
       " 'appreciation',\n",
       " 'totally',\n",
       " 'underrated',\n",
       " 'stuart',\n",
       " 'quote',\n",
       " 'still',\n",
       " 'running',\n",
       " 'probably',\n",
       " 'nice',\n",
       " 'staircase',\n",
       " 'conversation',\n",
       " 'working',\n",
       " 'series',\n",
       " 'im',\n",
       " 'halfway',\n",
       " 'notice',\n",
       " 'break',\n",
       " 'coversations',\n",
       " 'stair',\n",
       " 'everyone',\n",
       " 'change',\n",
       " 'scenery',\n",
       " 'nothing',\n",
       " 'much',\n",
       " 'go',\n",
       " 'scream',\n",
       " 'grand',\n",
       " 'canyon',\n",
       " 'lol',\n",
       " 'arguably',\n",
       " 'entire',\n",
       " 'wow',\n",
       " 'friendship',\n",
       " 'little',\n",
       " 'late',\n",
       " 'caaaalll',\n",
       " 'andiamo',\n",
       " 'fratello',\n",
       " 'non',\n",
       " 'mastroianni',\n",
       " 'tutti',\n",
       " 'funyuns',\n",
       " 'guy',\n",
       " 'cool',\n",
       " 'beercules',\n",
       " 'hope',\n",
       " 'reunion',\n",
       " 'mean',\n",
       " 'year',\n",
       " 'away',\n",
       " 'isnt',\n",
       " 'long',\n",
       " 'compared',\n",
       " 'began',\n",
       " 'imagine',\n",
       " 'actual',\n",
       " 'age',\n",
       " 'pretty',\n",
       " 'mind',\n",
       " 'u',\n",
       " 'hi',\n",
       " 'ep',\n",
       " 'x',\n",
       " 'b',\n",
       " 'copy',\n",
       " 'homework',\n",
       " 'space',\n",
       " 'teen',\n",
       " 'hears',\n",
       " 'similarity',\n",
       " 'cartoon',\n",
       " 'sure',\n",
       " 'someone',\n",
       " 'idea',\n",
       " 'holy',\n",
       " 'shit',\n",
       " 'funny',\n",
       " 'maybe',\n",
       " 'mushroom',\n",
       " 'strong',\n",
       " 'lingering',\n",
       " 'traveler',\n",
       " 'feeling',\n",
       " 'interesting',\n",
       " 'gandhi',\n",
       " 'wise',\n",
       " 'word',\n",
       " 'icarly',\n",
       " 'uk',\n",
       " 'announces',\n",
       " 'plan',\n",
       " 'lift',\n",
       " 'lockdown',\n",
       " 'die',\n",
       " 'hero',\n",
       " 'live',\n",
       " 'enough',\n",
       " 'see',\n",
       " 'become',\n",
       " 'royal',\n",
       " 'archduke',\n",
       " 'fenwick',\n",
       " 'boogie',\n",
       " 'boarding',\n",
       " 'definitely',\n",
       " 'relate']"
      ]
     },
     "execution_count": 326,
     "metadata": {},
     "output_type": "execute_result"
    }
   ],
   "source": [
    "import itertools\n",
    "word_list = list(itertools.chain.from_iterable(words))\n",
    "\n",
    "word = [] \n",
    "for i in word_list: \n",
    "    if i not in word: \n",
    "        word.append(i) \n",
    "        \n",
    "word"
   ]
  },
  {
   "cell_type": "code",
   "execution_count": 327,
   "metadata": {},
   "outputs": [],
   "source": [
    "wrong_df = pd.DataFrame(columns=['Word','EvalScore'])\n",
    "\n",
    "for i in word:\n",
    "    wrong_list = nb_eval.loc[(nb_eval['Word'] == i)][['Word','EvalScore']]\n",
    "    wrong_df = pd.concat([wrong_df,wrong_list])"
   ]
  },
  {
   "cell_type": "code",
   "execution_count": 328,
   "metadata": {},
   "outputs": [
    {
     "data": {
      "text/html": [
       "<div>\n",
       "<style scoped>\n",
       "    .dataframe tbody tr th:only-of-type {\n",
       "        vertical-align: middle;\n",
       "    }\n",
       "\n",
       "    .dataframe tbody tr th {\n",
       "        vertical-align: top;\n",
       "    }\n",
       "\n",
       "    .dataframe thead th {\n",
       "        text-align: right;\n",
       "    }\n",
       "</style>\n",
       "<table border=\"1\" class=\"dataframe\">\n",
       "  <thead>\n",
       "    <tr style=\"text-align: right;\">\n",
       "      <th></th>\n",
       "      <th>Word</th>\n",
       "      <th>EvalScore</th>\n",
       "    </tr>\n",
       "  </thead>\n",
       "  <tbody>\n",
       "    <tr>\n",
       "      <th>3882</th>\n",
       "      <td>relate</td>\n",
       "      <td>0.348161</td>\n",
       "    </tr>\n",
       "  </tbody>\n",
       "</table>\n",
       "</div>"
      ],
      "text/plain": [
       "        Word  EvalScore\n",
       "3882  relate   0.348161"
      ]
     },
     "execution_count": 328,
     "metadata": {},
     "output_type": "execute_result"
    }
   ],
   "source": [
    "wrong_list"
   ]
  },
  {
   "cell_type": "code",
   "execution_count": 329,
   "metadata": {},
   "outputs": [
    {
     "data": {
      "text/html": [
       "<div>\n",
       "<style scoped>\n",
       "    .dataframe tbody tr th:only-of-type {\n",
       "        vertical-align: middle;\n",
       "    }\n",
       "\n",
       "    .dataframe tbody tr th {\n",
       "        vertical-align: top;\n",
       "    }\n",
       "\n",
       "    .dataframe thead th {\n",
       "        text-align: right;\n",
       "    }\n",
       "</style>\n",
       "<table border=\"1\" class=\"dataframe\">\n",
       "  <thead>\n",
       "    <tr style=\"text-align: right;\">\n",
       "      <th></th>\n",
       "      <th>Word</th>\n",
       "      <th>EvalScore</th>\n",
       "    </tr>\n",
       "  </thead>\n",
       "  <tbody>\n",
       "    <tr>\n",
       "      <th>541</th>\n",
       "      <td>bob</td>\n",
       "      <td>-2.225702</td>\n",
       "    </tr>\n",
       "    <tr>\n",
       "      <th>4514</th>\n",
       "      <td>step</td>\n",
       "      <td>-2.225702</td>\n",
       "    </tr>\n",
       "    <tr>\n",
       "      <th>5100</th>\n",
       "      <td>vote</td>\n",
       "      <td>-2.053687</td>\n",
       "    </tr>\n",
       "    <tr>\n",
       "      <th>2810</th>\n",
       "      <td>loud</td>\n",
       "      <td>-1.631927</td>\n",
       "    </tr>\n",
       "    <tr>\n",
       "      <th>4117</th>\n",
       "      <td>scream</td>\n",
       "      <td>-1.631927</td>\n",
       "    </tr>\n",
       "    <tr>\n",
       "      <th>...</th>\n",
       "      <td>...</td>\n",
       "      <td>...</td>\n",
       "    </tr>\n",
       "    <tr>\n",
       "      <th>3957</th>\n",
       "      <td>reunion</td>\n",
       "      <td>1.937318</td>\n",
       "    </tr>\n",
       "    <tr>\n",
       "      <th>4563</th>\n",
       "      <td>strong</td>\n",
       "      <td>1.937318</td>\n",
       "    </tr>\n",
       "    <tr>\n",
       "      <th>3016</th>\n",
       "      <td>missy</td>\n",
       "      <td>2.130221</td>\n",
       "    </tr>\n",
       "    <tr>\n",
       "      <th>4279</th>\n",
       "      <td>similarity</td>\n",
       "      <td>2.291863</td>\n",
       "    </tr>\n",
       "    <tr>\n",
       "      <th>4019</th>\n",
       "      <td>roommate</td>\n",
       "      <td>2.430976</td>\n",
       "    </tr>\n",
       "  </tbody>\n",
       "</table>\n",
       "<p>177 rows × 2 columns</p>\n",
       "</div>"
      ],
      "text/plain": [
       "            Word  EvalScore\n",
       "541          bob  -2.225702\n",
       "4514        step  -2.225702\n",
       "5100        vote  -2.053687\n",
       "2810        loud  -1.631927\n",
       "4117      scream  -1.631927\n",
       "...          ...        ...\n",
       "3957     reunion   1.937318\n",
       "4563      strong   1.937318\n",
       "3016       missy   2.130221\n",
       "4279  similarity   2.291863\n",
       "4019    roommate   2.430976\n",
       "\n",
       "[177 rows x 2 columns]"
      ]
     },
     "execution_count": 329,
     "metadata": {},
     "output_type": "execute_result"
    }
   ],
   "source": [
    "wrong_df\n",
    "wrong_df.sort_values(by='EvalScore') # positive --> predict Big Bang Theory, negative --> predict HIMYM"
   ]
  },
  {
   "cell_type": "code",
   "execution_count": 330,
   "metadata": {},
   "outputs": [
    {
     "data": {
      "text/html": [
       "<div>\n",
       "<style scoped>\n",
       "    .dataframe tbody tr th:only-of-type {\n",
       "        vertical-align: middle;\n",
       "    }\n",
       "\n",
       "    .dataframe tbody tr th {\n",
       "        vertical-align: top;\n",
       "    }\n",
       "\n",
       "    .dataframe thead th {\n",
       "        text-align: right;\n",
       "    }\n",
       "</style>\n",
       "<table border=\"1\" class=\"dataframe\">\n",
       "  <thead>\n",
       "    <tr style=\"text-align: right;\">\n",
       "      <th></th>\n",
       "      <th>Word</th>\n",
       "      <th>EvalScore</th>\n",
       "    </tr>\n",
       "  </thead>\n",
       "  <tbody>\n",
       "    <tr>\n",
       "      <th>257</th>\n",
       "      <td>arguably</td>\n",
       "      <td>0.033080</td>\n",
       "    </tr>\n",
       "    <tr>\n",
       "      <th>436</th>\n",
       "      <td>become</td>\n",
       "      <td>0.033080</td>\n",
       "    </tr>\n",
       "    <tr>\n",
       "      <th>3632</th>\n",
       "      <td>probably</td>\n",
       "      <td>0.033080</td>\n",
       "    </tr>\n",
       "    <tr>\n",
       "      <th>4740</th>\n",
       "      <td>terrible</td>\n",
       "      <td>0.033080</td>\n",
       "    </tr>\n",
       "    <tr>\n",
       "      <th>1624</th>\n",
       "      <td>excuse</td>\n",
       "      <td>0.033080</td>\n",
       "    </tr>\n",
       "    <tr>\n",
       "      <th>4717</th>\n",
       "      <td>teen</td>\n",
       "      <td>0.033080</td>\n",
       "    </tr>\n",
       "    <tr>\n",
       "      <th>155</th>\n",
       "      <td>amanda</td>\n",
       "      <td>0.033080</td>\n",
       "    </tr>\n",
       "    <tr>\n",
       "      <th>2790</th>\n",
       "      <td>long</td>\n",
       "      <td>0.033080</td>\n",
       "    </tr>\n",
       "    <tr>\n",
       "      <th>909</th>\n",
       "      <td>compared</td>\n",
       "      <td>0.033080</td>\n",
       "    </tr>\n",
       "    <tr>\n",
       "      <th>1594</th>\n",
       "      <td>every</td>\n",
       "      <td>0.033080</td>\n",
       "    </tr>\n",
       "    <tr>\n",
       "      <th>96</th>\n",
       "      <td>age</td>\n",
       "      <td>0.033080</td>\n",
       "    </tr>\n",
       "    <tr>\n",
       "      <th>4846</th>\n",
       "      <td>totally</td>\n",
       "      <td>0.033080</td>\n",
       "    </tr>\n",
       "    <tr>\n",
       "      <th>3496</th>\n",
       "      <td>playing</td>\n",
       "      <td>0.033080</td>\n",
       "    </tr>\n",
       "    <tr>\n",
       "      <th>2930</th>\n",
       "      <td>mean</td>\n",
       "      <td>0.033080</td>\n",
       "    </tr>\n",
       "    <tr>\n",
       "      <th>3178</th>\n",
       "      <td>non</td>\n",
       "      <td>0.033080</td>\n",
       "    </tr>\n",
       "    <tr>\n",
       "      <th>1860</th>\n",
       "      <td>found</td>\n",
       "      <td>0.096193</td>\n",
       "    </tr>\n",
       "    <tr>\n",
       "      <th>1028</th>\n",
       "      <td>could</td>\n",
       "      <td>0.100980</td>\n",
       "    </tr>\n",
       "    <tr>\n",
       "      <th>1593</th>\n",
       "      <td>ever</td>\n",
       "      <td>0.102795</td>\n",
       "    </tr>\n",
       "    <tr>\n",
       "      <th>4909</th>\n",
       "      <td>true</td>\n",
       "      <td>0.122425</td>\n",
       "    </tr>\n",
       "    <tr>\n",
       "      <th>5261</th>\n",
       "      <td>would</td>\n",
       "      <td>0.127006</td>\n",
       "    </tr>\n",
       "  </tbody>\n",
       "</table>\n",
       "</div>"
      ],
      "text/plain": [
       "          Word  EvalScore\n",
       "257   arguably   0.033080\n",
       "436     become   0.033080\n",
       "3632  probably   0.033080\n",
       "4740  terrible   0.033080\n",
       "1624    excuse   0.033080\n",
       "4717      teen   0.033080\n",
       "155     amanda   0.033080\n",
       "2790      long   0.033080\n",
       "909   compared   0.033080\n",
       "1594     every   0.033080\n",
       "96         age   0.033080\n",
       "4846   totally   0.033080\n",
       "3496   playing   0.033080\n",
       "2930      mean   0.033080\n",
       "3178       non   0.033080\n",
       "1860     found   0.096193\n",
       "1028     could   0.100980\n",
       "1593      ever   0.102795\n",
       "4909      true   0.122425\n",
       "5261     would   0.127006"
      ]
     },
     "execution_count": 330,
     "metadata": {},
     "output_type": "execute_result"
    }
   ],
   "source": [
    "bbt_wrong = wrong_df[wrong_df['EvalScore'] > 0]\n",
    "bbt_wrong.sort_values(by='EvalScore').head(20)"
   ]
  },
  {
   "cell_type": "code",
   "execution_count": 331,
   "metadata": {},
   "outputs": [
    {
     "name": "stdout",
     "output_type": "stream",
     "text": [
      "['arguably', 'become', 'probably', 'terrible', 'excuse', 'teen', 'amanda', 'long', 'compared', 'every', 'age', 'totally', 'playing', 'mean', 'non', 'found', 'could', 'ever', 'true', 'would', 'made', 'mine', 'guy', 'late', 'question', 'see', 'something', 'series', 'show', 'either', 'watching', 'entire', 'laugh', 'little', 'watch', 'full', 'relate', 'shit', 'amp', 'help', 'keep', 'food', 'nothing', 'never', 'interesting', 'imagine', 'hi', 'guest', 'wise', 'actual', 'funny', 'ep', 'friendship', 'game', 'underrated', 'working', 'enough', 'cool', 'stop', 'hero', 'grand', 'winner', 'shocked', 'holy', 'announces', 'copy', 'covid', 'came', 'oscar', 'space', 'began', 'eat', 'office', 'uk', 'stuart', 'strong', 'reunion', 'missy', 'similarity', 'roommate']\n"
     ]
    }
   ],
   "source": [
    "print(list(bbt_wrong.sort_values(by='EvalScore')['Word']))"
   ]
  },
  {
   "cell_type": "code",
   "execution_count": 332,
   "metadata": {},
   "outputs": [
    {
     "data": {
      "text/html": [
       "<div>\n",
       "<style scoped>\n",
       "    .dataframe tbody tr th:only-of-type {\n",
       "        vertical-align: middle;\n",
       "    }\n",
       "\n",
       "    .dataframe tbody tr th {\n",
       "        vertical-align: top;\n",
       "    }\n",
       "\n",
       "    .dataframe thead th {\n",
       "        text-align: right;\n",
       "    }\n",
       "</style>\n",
       "<table border=\"1\" class=\"dataframe\">\n",
       "  <thead>\n",
       "    <tr style=\"text-align: right;\">\n",
       "      <th></th>\n",
       "      <th>Word</th>\n",
       "      <th>EvalScore</th>\n",
       "    </tr>\n",
       "  </thead>\n",
       "  <tbody>\n",
       "    <tr>\n",
       "      <th>4514</th>\n",
       "      <td>step</td>\n",
       "      <td>-2.225702</td>\n",
       "    </tr>\n",
       "    <tr>\n",
       "      <th>541</th>\n",
       "      <td>bob</td>\n",
       "      <td>-2.225702</td>\n",
       "    </tr>\n",
       "    <tr>\n",
       "      <th>5100</th>\n",
       "      <td>vote</td>\n",
       "      <td>-2.053687</td>\n",
       "    </tr>\n",
       "    <tr>\n",
       "      <th>2810</th>\n",
       "      <td>loud</td>\n",
       "      <td>-1.631927</td>\n",
       "    </tr>\n",
       "    <tr>\n",
       "      <th>4117</th>\n",
       "      <td>scream</td>\n",
       "      <td>-1.631927</td>\n",
       "    </tr>\n",
       "    <tr>\n",
       "      <th>5201</th>\n",
       "      <td>wide</td>\n",
       "      <td>-1.631927</td>\n",
       "    </tr>\n",
       "    <tr>\n",
       "      <th>1224</th>\n",
       "      <td>depth</td>\n",
       "      <td>-1.316846</td>\n",
       "    </tr>\n",
       "    <tr>\n",
       "      <th>1783</th>\n",
       "      <td>fish</td>\n",
       "      <td>-1.316846</td>\n",
       "    </tr>\n",
       "    <tr>\n",
       "      <th>648</th>\n",
       "      <td>butter</td>\n",
       "      <td>-1.316846</td>\n",
       "    </tr>\n",
       "    <tr>\n",
       "      <th>3890</th>\n",
       "      <td>release</td>\n",
       "      <td>-1.316846</td>\n",
       "    </tr>\n",
       "    <tr>\n",
       "      <th>2781</th>\n",
       "      <td>lockdown</td>\n",
       "      <td>-1.316846</td>\n",
       "    </tr>\n",
       "    <tr>\n",
       "      <th>3556</th>\n",
       "      <td>post</td>\n",
       "      <td>-1.247132</td>\n",
       "    </tr>\n",
       "    <tr>\n",
       "      <th>838</th>\n",
       "      <td>clip</td>\n",
       "      <td>-1.176758</td>\n",
       "    </tr>\n",
       "    <tr>\n",
       "      <th>1266</th>\n",
       "      <td>die</td>\n",
       "      <td>-1.176758</td>\n",
       "    </tr>\n",
       "    <tr>\n",
       "      <th>4882</th>\n",
       "      <td>traveler</td>\n",
       "      <td>-1.176758</td>\n",
       "    </tr>\n",
       "    <tr>\n",
       "      <th>996</th>\n",
       "      <td>conversation</td>\n",
       "      <td>-1.136991</td>\n",
       "    </tr>\n",
       "    <tr>\n",
       "      <th>2765</th>\n",
       "      <td>literally</td>\n",
       "      <td>-1.107205</td>\n",
       "    </tr>\n",
       "    <tr>\n",
       "      <th>584</th>\n",
       "      <td>break</td>\n",
       "      <td>-1.100018</td>\n",
       "    </tr>\n",
       "    <tr>\n",
       "      <th>161</th>\n",
       "      <td>amazing</td>\n",
       "      <td>-1.036753</td>\n",
       "    </tr>\n",
       "    <tr>\n",
       "      <th>5305</th>\n",
       "      <td>youtube</td>\n",
       "      <td>-1.028831</td>\n",
       "    </tr>\n",
       "  </tbody>\n",
       "</table>\n",
       "</div>"
      ],
      "text/plain": [
       "              Word  EvalScore\n",
       "4514          step  -2.225702\n",
       "541            bob  -2.225702\n",
       "5100          vote  -2.053687\n",
       "2810          loud  -1.631927\n",
       "4117        scream  -1.631927\n",
       "5201          wide  -1.631927\n",
       "1224         depth  -1.316846\n",
       "1783          fish  -1.316846\n",
       "648         butter  -1.316846\n",
       "3890       release  -1.316846\n",
       "2781      lockdown  -1.316846\n",
       "3556          post  -1.247132\n",
       "838           clip  -1.176758\n",
       "1266           die  -1.176758\n",
       "4882      traveler  -1.176758\n",
       "996   conversation  -1.136991\n",
       "2765     literally  -1.107205\n",
       "584          break  -1.100018\n",
       "161        amazing  -1.036753\n",
       "5305       youtube  -1.028831"
      ]
     },
     "execution_count": 332,
     "metadata": {},
     "output_type": "execute_result"
    }
   ],
   "source": [
    "himym_wrong = wrong_df[wrong_df['EvalScore'] < 0]\n",
    "himym_wrong.sort_values(by='EvalScore').head(20)"
   ]
  },
  {
   "cell_type": "code",
   "execution_count": 333,
   "metadata": {},
   "outputs": [
    {
     "name": "stdout",
     "output_type": "stream",
     "text": [
      "['step', 'bob', 'vote', 'loud', 'scream', 'wide', 'depth', 'fish', 'butter', 'release', 'lockdown', 'post', 'clip', 'die', 'traveler', 'conversation', 'literally', 'break', 'amazing', 'youtube', 'going', 'appreciation', 'smile', 'meme', 'saying', 'butterfly', 'funnier', 'homework', 'penis', 'blog', 'lift', 'kai', 'cube', 'cop', 'dm', 'starred', 'cobra', 'pretty', 'nice', 'sure', 'wow', 'breakup', 'pregnancy', 'bad', 'used', 'away', 'feeling', 'im', 'year', 'right', 'someone', 'good', 'plan', 'making', 'picture', 'version', 'go', 'live', 'favorite', 'though', 'running', 'present', 'spend', 'scene', 'much', 'get', 'lol', 'line', 'come', 'crazy', 'reason', 'noticed', 'hope', 'maybe', 'president', 'still', 'also', 'sorry', 'definitely', 'notice', 'quote', 'idea', 'got', 'instead', 'best', 'one', 'else', 'thing', 'mind', 'view', 'everyone', 'first', 'word', 'day', 'mention', 'change', 'anyone']\n"
     ]
    }
   ],
   "source": [
    "print(list(himym_wrong.sort_values(by='EvalScore')['Word']))"
   ]
  },
  {
   "cell_type": "markdown",
   "metadata": {},
   "source": [
    "Overall, the best model producted was the Naive Bayes model with Count Vectorizer. Through more evaluation we were able to identify the key words for each of the subreddit, which consisted mainly of character names and location names. \n",
    "\n",
    "When looking deeper we were able to identify words that are present to not lean one way or the othere where their eval score is closer to 0. These words listed above in himym_wrong and bbt_wrong can be removed through the cleaning process aswell for a better prediction result."
   ]
  },
  {
   "cell_type": "markdown",
   "metadata": {},
   "source": [
    "---\n",
    "\n",
    "# Recommendations "
   ]
  },
  {
   "cell_type": "markdown",
   "metadata": {},
   "source": [
    "Our multinomial Naive Bayes classifier performed well with a test accuracy score of 86%. This is within expectations because out two topics have a lot of similarity in the content and genre of the shows, while still have unique character names.\n",
    "\n",
    "Through the two models there are some words that are hard for the model to predict which were mentioned in the evaluation part where we can remove to imporve the model as well. However, not removing the words does not have a significant effect as it doesn't lean either way significantly."
   ]
  },
  {
   "cell_type": "markdown",
   "metadata": {},
   "source": [
    "From our findings the recommended words for users to search and learn more about the show on reddit or search engines would be specific chracter names, catchphrase or location names:\n",
    "\n",
    "|HIMYM Key Words|Big Bang Theory Key Words|\n",
    "|---|---|\n",
    "|ted|sheldon|\n",
    "|robin|penny|\n",
    "|barney|leonard|\n",
    "|lily|nobel|\n",
    "|marshall|amy|\n",
    "|time|raj|\n",
    "|bro|smart|\n",
    "|tracy|bernadette|\n",
    "|victoria|bazinga|\n",
    "|stella|comics|"
   ]
  },
  {
   "cell_type": "markdown",
   "metadata": {},
   "source": [
    "# Additional Data"
   ]
  },
  {
   "cell_type": "markdown",
   "metadata": {},
   "source": [
    "For future improvement on the data prediction and keywords identidication:\n",
    "- Optimize stop words and explore strategies for stemming and lemmatization\n",
    "- Try ensemble models, such as random forest and tree bagging classifier or adaboost\n",
    "- Ability for model to classify more than two subreddits\n",
    "- Gain more data to increase text content and words count\n",
    "- Add more stop words and remove them from the data set"
   ]
  }
 ],
 "metadata": {
  "kernelspec": {
   "display_name": "Python 3",
   "language": "python",
   "name": "python3"
  },
  "language_info": {
   "codemirror_mode": {
    "name": "ipython",
    "version": 3
   },
   "file_extension": ".py",
   "mimetype": "text/x-python",
   "name": "python",
   "nbconvert_exporter": "python",
   "pygments_lexer": "ipython3",
   "version": "3.7.10"
  }
 },
 "nbformat": 4,
 "nbformat_minor": 4
}
